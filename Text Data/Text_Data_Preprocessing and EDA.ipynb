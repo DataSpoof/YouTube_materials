{
  "nbformat": 4,
  "nbformat_minor": 0,
  "metadata": {
    "colab": {
      "provenance": []
    },
    "kernelspec": {
      "name": "python3",
      "display_name": "Python 3"
    },
    "language_info": {
      "name": "python"
    }
  },
  "cells": [
    {
      "cell_type": "code",
      "execution_count": null,
      "metadata": {
        "id": "L3TOp_RcTodP"
      },
      "outputs": [],
      "source": [
        "!pip install -q wordcloud emoji"
      ]
    },
    {
      "cell_type": "code",
      "source": [
        "import pandas as pd\n",
        "import matplotlib.pyplot as plt\n",
        "import seaborn as sns\n",
        "import numpy as np\n",
        "import emoji\n",
        "from wordcloud import WordCloud, STOPWORDS\n",
        "import re\n",
        "import nltk\n",
        "from nltk.corpus import stopwords #corpora\n",
        "from nltk.stem import WordNetLemmatizer\n",
        "from nltk.tokenize import word_tokenize\n",
        "import warnings\n",
        "warnings.filterwarnings('ignore')"
      ],
      "metadata": {
        "id": "fhN5aWduTpqN"
      },
      "execution_count": null,
      "outputs": []
    },
    {
      "cell_type": "code",
      "source": [
        "nltk.download('stopwords')\n",
        "nltk.download('punkt')\n",
        "nltk.download('punkt_tab')\n",
        "nltk.download('wordnet')"
      ],
      "metadata": {
        "colab": {
          "base_uri": "https://localhost:8080/"
        },
        "id": "PekjuNWRT0Ez",
        "outputId": "b5908f3c-9934-4f10-c549-47b751f63a94"
      },
      "execution_count": null,
      "outputs": [
        {
          "output_type": "stream",
          "name": "stderr",
          "text": [
            "[nltk_data] Downloading package stopwords to /root/nltk_data...\n",
            "[nltk_data]   Package stopwords is already up-to-date!\n",
            "[nltk_data] Downloading package punkt to /root/nltk_data...\n",
            "[nltk_data]   Package punkt is already up-to-date!\n",
            "[nltk_data] Downloading package punkt_tab to /root/nltk_data...\n",
            "[nltk_data]   Package punkt_tab is already up-to-date!\n",
            "[nltk_data] Downloading package wordnet to /root/nltk_data...\n",
            "[nltk_data]   Package wordnet is already up-to-date!\n"
          ]
        },
        {
          "output_type": "execute_result",
          "data": {
            "text/plain": [
              "True"
            ]
          },
          "metadata": {},
          "execution_count": 3
        }
      ]
    },
    {
      "cell_type": "code",
      "source": [
        "df=pd.read_csv(\"Tesla.csv\")\n",
        "df.head()"
      ],
      "metadata": {
        "colab": {
          "base_uri": "https://localhost:8080/",
          "height": 550
        },
        "id": "g3s8LZcSTptD",
        "outputId": "5f8d3e20-c340-415f-ebd4-a0cc29689555"
      },
      "execution_count": null,
      "outputs": [
        {
          "output_type": "execute_result",
          "data": {
            "text/plain": [
              "   Unnamed: 0                   id      conversation_id    created_at  \\\n",
              "0           0  1546541426317590528  1545826164564000768  1.657559e+12   \n",
              "1           1  1546541415857102850  1545826164564000768  1.657559e+12   \n",
              "2           2  1546541411897581568  1546541411897581568  1.657559e+12   \n",
              "3           3  1546541379110805508  1546340000500813824  1.657559e+12   \n",
              "4           4  1546541363470028800  1546541363470028800  1.657559e+12   \n",
              "\n",
              "                  date  timezone place  \\\n",
              "0  2022-07-11 17:06:24         0   NaN   \n",
              "1  2022-07-11 17:06:21         0   NaN   \n",
              "2  2022-07-11 17:06:20         0   NaN   \n",
              "3  2022-07-11 17:06:12         0   NaN   \n",
              "4  2022-07-11 17:06:09         0   NaN   \n",
              "\n",
              "                                               tweet language  \\\n",
              "0  @GailAlfarATX @elonmusk @Tesla @teslacn @Tesla...       en   \n",
              "1  @elonmusk @GailAlfarATX @Tesla @teslacn @Tesla...       en   \n",
              "2  @elonmusk #Think about buying a country , #Mex...       en   \n",
              "3  @get_innocuous Actual receipts, and yet you ha...       en   \n",
              "4  Tesla wall battery for the save! Power went ou...       en   \n",
              "\n",
              "                              hashtags  ... geo  source  user_rt_id user_rt  \\\n",
              "0                                   []  ... NaN     NaN         NaN     NaN   \n",
              "1                                   []  ... NaN     NaN         NaN     NaN   \n",
              "2  ['think', 'mexico', 'constitution']  ... NaN     NaN         NaN     NaN   \n",
              "3                                   []  ... NaN     NaN         NaN     NaN   \n",
              "4                                   []  ... NaN     NaN         NaN     NaN   \n",
              "\n",
              "  retweet_id                                           reply_to  retweet_date  \\\n",
              "0        NaN  [{'screen_name': 'GailAlfarATX', 'name': 'Gail...           NaN   \n",
              "1        NaN  [{'screen_name': 'elonmusk', 'name': 'Elon Mus...           NaN   \n",
              "2        NaN                                                 []           NaN   \n",
              "3        NaN  [{'screen_name': 'get_innocuous', 'name': 'tra...           NaN   \n",
              "4        NaN                                                 []           NaN   \n",
              "\n",
              "  translate trans_src trans_dest  \n",
              "0       NaN       NaN        NaN  \n",
              "1       NaN       NaN        NaN  \n",
              "2       NaN       NaN        NaN  \n",
              "3       NaN       NaN        NaN  \n",
              "4       NaN       NaN        NaN  \n",
              "\n",
              "[5 rows x 39 columns]"
            ],
            "text/html": [
              "\n",
              "  <div id=\"df-005c2db2-b5f6-4f21-91d7-2000946c2346\" class=\"colab-df-container\">\n",
              "    <div>\n",
              "<style scoped>\n",
              "    .dataframe tbody tr th:only-of-type {\n",
              "        vertical-align: middle;\n",
              "    }\n",
              "\n",
              "    .dataframe tbody tr th {\n",
              "        vertical-align: top;\n",
              "    }\n",
              "\n",
              "    .dataframe thead th {\n",
              "        text-align: right;\n",
              "    }\n",
              "</style>\n",
              "<table border=\"1\" class=\"dataframe\">\n",
              "  <thead>\n",
              "    <tr style=\"text-align: right;\">\n",
              "      <th></th>\n",
              "      <th>Unnamed: 0</th>\n",
              "      <th>id</th>\n",
              "      <th>conversation_id</th>\n",
              "      <th>created_at</th>\n",
              "      <th>date</th>\n",
              "      <th>timezone</th>\n",
              "      <th>place</th>\n",
              "      <th>tweet</th>\n",
              "      <th>language</th>\n",
              "      <th>hashtags</th>\n",
              "      <th>...</th>\n",
              "      <th>geo</th>\n",
              "      <th>source</th>\n",
              "      <th>user_rt_id</th>\n",
              "      <th>user_rt</th>\n",
              "      <th>retweet_id</th>\n",
              "      <th>reply_to</th>\n",
              "      <th>retweet_date</th>\n",
              "      <th>translate</th>\n",
              "      <th>trans_src</th>\n",
              "      <th>trans_dest</th>\n",
              "    </tr>\n",
              "  </thead>\n",
              "  <tbody>\n",
              "    <tr>\n",
              "      <th>0</th>\n",
              "      <td>0</td>\n",
              "      <td>1546541426317590528</td>\n",
              "      <td>1545826164564000768</td>\n",
              "      <td>1.657559e+12</td>\n",
              "      <td>2022-07-11 17:06:24</td>\n",
              "      <td>0</td>\n",
              "      <td>NaN</td>\n",
              "      <td>@GailAlfarATX @elonmusk @Tesla @teslacn @Tesla...</td>\n",
              "      <td>en</td>\n",
              "      <td>[]</td>\n",
              "      <td>...</td>\n",
              "      <td>NaN</td>\n",
              "      <td>NaN</td>\n",
              "      <td>NaN</td>\n",
              "      <td>NaN</td>\n",
              "      <td>NaN</td>\n",
              "      <td>[{'screen_name': 'GailAlfarATX', 'name': 'Gail...</td>\n",
              "      <td>NaN</td>\n",
              "      <td>NaN</td>\n",
              "      <td>NaN</td>\n",
              "      <td>NaN</td>\n",
              "    </tr>\n",
              "    <tr>\n",
              "      <th>1</th>\n",
              "      <td>1</td>\n",
              "      <td>1546541415857102850</td>\n",
              "      <td>1545826164564000768</td>\n",
              "      <td>1.657559e+12</td>\n",
              "      <td>2022-07-11 17:06:21</td>\n",
              "      <td>0</td>\n",
              "      <td>NaN</td>\n",
              "      <td>@elonmusk @GailAlfarATX @Tesla @teslacn @Tesla...</td>\n",
              "      <td>en</td>\n",
              "      <td>[]</td>\n",
              "      <td>...</td>\n",
              "      <td>NaN</td>\n",
              "      <td>NaN</td>\n",
              "      <td>NaN</td>\n",
              "      <td>NaN</td>\n",
              "      <td>NaN</td>\n",
              "      <td>[{'screen_name': 'elonmusk', 'name': 'Elon Mus...</td>\n",
              "      <td>NaN</td>\n",
              "      <td>NaN</td>\n",
              "      <td>NaN</td>\n",
              "      <td>NaN</td>\n",
              "    </tr>\n",
              "    <tr>\n",
              "      <th>2</th>\n",
              "      <td>2</td>\n",
              "      <td>1546541411897581568</td>\n",
              "      <td>1546541411897581568</td>\n",
              "      <td>1.657559e+12</td>\n",
              "      <td>2022-07-11 17:06:20</td>\n",
              "      <td>0</td>\n",
              "      <td>NaN</td>\n",
              "      <td>@elonmusk #Think about buying a country , #Mex...</td>\n",
              "      <td>en</td>\n",
              "      <td>['think', 'mexico', 'constitution']</td>\n",
              "      <td>...</td>\n",
              "      <td>NaN</td>\n",
              "      <td>NaN</td>\n",
              "      <td>NaN</td>\n",
              "      <td>NaN</td>\n",
              "      <td>NaN</td>\n",
              "      <td>[]</td>\n",
              "      <td>NaN</td>\n",
              "      <td>NaN</td>\n",
              "      <td>NaN</td>\n",
              "      <td>NaN</td>\n",
              "    </tr>\n",
              "    <tr>\n",
              "      <th>3</th>\n",
              "      <td>3</td>\n",
              "      <td>1546541379110805508</td>\n",
              "      <td>1546340000500813824</td>\n",
              "      <td>1.657559e+12</td>\n",
              "      <td>2022-07-11 17:06:12</td>\n",
              "      <td>0</td>\n",
              "      <td>NaN</td>\n",
              "      <td>@get_innocuous Actual receipts, and yet you ha...</td>\n",
              "      <td>en</td>\n",
              "      <td>[]</td>\n",
              "      <td>...</td>\n",
              "      <td>NaN</td>\n",
              "      <td>NaN</td>\n",
              "      <td>NaN</td>\n",
              "      <td>NaN</td>\n",
              "      <td>NaN</td>\n",
              "      <td>[{'screen_name': 'get_innocuous', 'name': 'tra...</td>\n",
              "      <td>NaN</td>\n",
              "      <td>NaN</td>\n",
              "      <td>NaN</td>\n",
              "      <td>NaN</td>\n",
              "    </tr>\n",
              "    <tr>\n",
              "      <th>4</th>\n",
              "      <td>4</td>\n",
              "      <td>1546541363470028800</td>\n",
              "      <td>1546541363470028800</td>\n",
              "      <td>1.657559e+12</td>\n",
              "      <td>2022-07-11 17:06:09</td>\n",
              "      <td>0</td>\n",
              "      <td>NaN</td>\n",
              "      <td>Tesla wall battery for the save! Power went ou...</td>\n",
              "      <td>en</td>\n",
              "      <td>[]</td>\n",
              "      <td>...</td>\n",
              "      <td>NaN</td>\n",
              "      <td>NaN</td>\n",
              "      <td>NaN</td>\n",
              "      <td>NaN</td>\n",
              "      <td>NaN</td>\n",
              "      <td>[]</td>\n",
              "      <td>NaN</td>\n",
              "      <td>NaN</td>\n",
              "      <td>NaN</td>\n",
              "      <td>NaN</td>\n",
              "    </tr>\n",
              "  </tbody>\n",
              "</table>\n",
              "<p>5 rows × 39 columns</p>\n",
              "</div>\n",
              "    <div class=\"colab-df-buttons\">\n",
              "\n",
              "  <div class=\"colab-df-container\">\n",
              "    <button class=\"colab-df-convert\" onclick=\"convertToInteractive('df-005c2db2-b5f6-4f21-91d7-2000946c2346')\"\n",
              "            title=\"Convert this dataframe to an interactive table.\"\n",
              "            style=\"display:none;\">\n",
              "\n",
              "  <svg xmlns=\"http://www.w3.org/2000/svg\" height=\"24px\" viewBox=\"0 -960 960 960\">\n",
              "    <path d=\"M120-120v-720h720v720H120Zm60-500h600v-160H180v160Zm220 220h160v-160H400v160Zm0 220h160v-160H400v160ZM180-400h160v-160H180v160Zm440 0h160v-160H620v160ZM180-180h160v-160H180v160Zm440 0h160v-160H620v160Z\"/>\n",
              "  </svg>\n",
              "    </button>\n",
              "\n",
              "  <style>\n",
              "    .colab-df-container {\n",
              "      display:flex;\n",
              "      gap: 12px;\n",
              "    }\n",
              "\n",
              "    .colab-df-convert {\n",
              "      background-color: #E8F0FE;\n",
              "      border: none;\n",
              "      border-radius: 50%;\n",
              "      cursor: pointer;\n",
              "      display: none;\n",
              "      fill: #1967D2;\n",
              "      height: 32px;\n",
              "      padding: 0 0 0 0;\n",
              "      width: 32px;\n",
              "    }\n",
              "\n",
              "    .colab-df-convert:hover {\n",
              "      background-color: #E2EBFA;\n",
              "      box-shadow: 0px 1px 2px rgba(60, 64, 67, 0.3), 0px 1px 3px 1px rgba(60, 64, 67, 0.15);\n",
              "      fill: #174EA6;\n",
              "    }\n",
              "\n",
              "    .colab-df-buttons div {\n",
              "      margin-bottom: 4px;\n",
              "    }\n",
              "\n",
              "    [theme=dark] .colab-df-convert {\n",
              "      background-color: #3B4455;\n",
              "      fill: #D2E3FC;\n",
              "    }\n",
              "\n",
              "    [theme=dark] .colab-df-convert:hover {\n",
              "      background-color: #434B5C;\n",
              "      box-shadow: 0px 1px 3px 1px rgba(0, 0, 0, 0.15);\n",
              "      filter: drop-shadow(0px 1px 2px rgba(0, 0, 0, 0.3));\n",
              "      fill: #FFFFFF;\n",
              "    }\n",
              "  </style>\n",
              "\n",
              "    <script>\n",
              "      const buttonEl =\n",
              "        document.querySelector('#df-005c2db2-b5f6-4f21-91d7-2000946c2346 button.colab-df-convert');\n",
              "      buttonEl.style.display =\n",
              "        google.colab.kernel.accessAllowed ? 'block' : 'none';\n",
              "\n",
              "      async function convertToInteractive(key) {\n",
              "        const element = document.querySelector('#df-005c2db2-b5f6-4f21-91d7-2000946c2346');\n",
              "        const dataTable =\n",
              "          await google.colab.kernel.invokeFunction('convertToInteractive',\n",
              "                                                    [key], {});\n",
              "        if (!dataTable) return;\n",
              "\n",
              "        const docLinkHtml = 'Like what you see? Visit the ' +\n",
              "          '<a target=\"_blank\" href=https://colab.research.google.com/notebooks/data_table.ipynb>data table notebook</a>'\n",
              "          + ' to learn more about interactive tables.';\n",
              "        element.innerHTML = '';\n",
              "        dataTable['output_type'] = 'display_data';\n",
              "        await google.colab.output.renderOutput(dataTable, element);\n",
              "        const docLink = document.createElement('div');\n",
              "        docLink.innerHTML = docLinkHtml;\n",
              "        element.appendChild(docLink);\n",
              "      }\n",
              "    </script>\n",
              "  </div>\n",
              "\n",
              "\n",
              "<div id=\"df-87a888b1-a2a5-4251-8feb-27d6ae111702\">\n",
              "  <button class=\"colab-df-quickchart\" onclick=\"quickchart('df-87a888b1-a2a5-4251-8feb-27d6ae111702')\"\n",
              "            title=\"Suggest charts\"\n",
              "            style=\"display:none;\">\n",
              "\n",
              "<svg xmlns=\"http://www.w3.org/2000/svg\" height=\"24px\"viewBox=\"0 0 24 24\"\n",
              "     width=\"24px\">\n",
              "    <g>\n",
              "        <path d=\"M19 3H5c-1.1 0-2 .9-2 2v14c0 1.1.9 2 2 2h14c1.1 0 2-.9 2-2V5c0-1.1-.9-2-2-2zM9 17H7v-7h2v7zm4 0h-2V7h2v10zm4 0h-2v-4h2v4z\"/>\n",
              "    </g>\n",
              "</svg>\n",
              "  </button>\n",
              "\n",
              "<style>\n",
              "  .colab-df-quickchart {\n",
              "      --bg-color: #E8F0FE;\n",
              "      --fill-color: #1967D2;\n",
              "      --hover-bg-color: #E2EBFA;\n",
              "      --hover-fill-color: #174EA6;\n",
              "      --disabled-fill-color: #AAA;\n",
              "      --disabled-bg-color: #DDD;\n",
              "  }\n",
              "\n",
              "  [theme=dark] .colab-df-quickchart {\n",
              "      --bg-color: #3B4455;\n",
              "      --fill-color: #D2E3FC;\n",
              "      --hover-bg-color: #434B5C;\n",
              "      --hover-fill-color: #FFFFFF;\n",
              "      --disabled-bg-color: #3B4455;\n",
              "      --disabled-fill-color: #666;\n",
              "  }\n",
              "\n",
              "  .colab-df-quickchart {\n",
              "    background-color: var(--bg-color);\n",
              "    border: none;\n",
              "    border-radius: 50%;\n",
              "    cursor: pointer;\n",
              "    display: none;\n",
              "    fill: var(--fill-color);\n",
              "    height: 32px;\n",
              "    padding: 0;\n",
              "    width: 32px;\n",
              "  }\n",
              "\n",
              "  .colab-df-quickchart:hover {\n",
              "    background-color: var(--hover-bg-color);\n",
              "    box-shadow: 0 1px 2px rgba(60, 64, 67, 0.3), 0 1px 3px 1px rgba(60, 64, 67, 0.15);\n",
              "    fill: var(--button-hover-fill-color);\n",
              "  }\n",
              "\n",
              "  .colab-df-quickchart-complete:disabled,\n",
              "  .colab-df-quickchart-complete:disabled:hover {\n",
              "    background-color: var(--disabled-bg-color);\n",
              "    fill: var(--disabled-fill-color);\n",
              "    box-shadow: none;\n",
              "  }\n",
              "\n",
              "  .colab-df-spinner {\n",
              "    border: 2px solid var(--fill-color);\n",
              "    border-color: transparent;\n",
              "    border-bottom-color: var(--fill-color);\n",
              "    animation:\n",
              "      spin 1s steps(1) infinite;\n",
              "  }\n",
              "\n",
              "  @keyframes spin {\n",
              "    0% {\n",
              "      border-color: transparent;\n",
              "      border-bottom-color: var(--fill-color);\n",
              "      border-left-color: var(--fill-color);\n",
              "    }\n",
              "    20% {\n",
              "      border-color: transparent;\n",
              "      border-left-color: var(--fill-color);\n",
              "      border-top-color: var(--fill-color);\n",
              "    }\n",
              "    30% {\n",
              "      border-color: transparent;\n",
              "      border-left-color: var(--fill-color);\n",
              "      border-top-color: var(--fill-color);\n",
              "      border-right-color: var(--fill-color);\n",
              "    }\n",
              "    40% {\n",
              "      border-color: transparent;\n",
              "      border-right-color: var(--fill-color);\n",
              "      border-top-color: var(--fill-color);\n",
              "    }\n",
              "    60% {\n",
              "      border-color: transparent;\n",
              "      border-right-color: var(--fill-color);\n",
              "    }\n",
              "    80% {\n",
              "      border-color: transparent;\n",
              "      border-right-color: var(--fill-color);\n",
              "      border-bottom-color: var(--fill-color);\n",
              "    }\n",
              "    90% {\n",
              "      border-color: transparent;\n",
              "      border-bottom-color: var(--fill-color);\n",
              "    }\n",
              "  }\n",
              "</style>\n",
              "\n",
              "  <script>\n",
              "    async function quickchart(key) {\n",
              "      const quickchartButtonEl =\n",
              "        document.querySelector('#' + key + ' button');\n",
              "      quickchartButtonEl.disabled = true;  // To prevent multiple clicks.\n",
              "      quickchartButtonEl.classList.add('colab-df-spinner');\n",
              "      try {\n",
              "        const charts = await google.colab.kernel.invokeFunction(\n",
              "            'suggestCharts', [key], {});\n",
              "      } catch (error) {\n",
              "        console.error('Error during call to suggestCharts:', error);\n",
              "      }\n",
              "      quickchartButtonEl.classList.remove('colab-df-spinner');\n",
              "      quickchartButtonEl.classList.add('colab-df-quickchart-complete');\n",
              "    }\n",
              "    (() => {\n",
              "      let quickchartButtonEl =\n",
              "        document.querySelector('#df-87a888b1-a2a5-4251-8feb-27d6ae111702 button');\n",
              "      quickchartButtonEl.style.display =\n",
              "        google.colab.kernel.accessAllowed ? 'block' : 'none';\n",
              "    })();\n",
              "  </script>\n",
              "</div>\n",
              "\n",
              "    </div>\n",
              "  </div>\n"
            ],
            "application/vnd.google.colaboratory.intrinsic+json": {
              "type": "dataframe",
              "variable_name": "df"
            }
          },
          "metadata": {},
          "execution_count": 4
        }
      ]
    },
    {
      "cell_type": "code",
      "source": [
        "df=df[['created_at','tweet']]\n",
        "df.head()"
      ],
      "metadata": {
        "colab": {
          "base_uri": "https://localhost:8080/",
          "height": 206
        },
        "id": "aFsRvJzTTpvz",
        "outputId": "1725cfa3-104b-4750-f8ee-570427789175"
      },
      "execution_count": null,
      "outputs": [
        {
          "output_type": "execute_result",
          "data": {
            "text/plain": [
              "     created_at                                              tweet\n",
              "0  1.657559e+12  @GailAlfarATX @elonmusk @Tesla @teslacn @Tesla...\n",
              "1  1.657559e+12  @elonmusk @GailAlfarATX @Tesla @teslacn @Tesla...\n",
              "2  1.657559e+12  @elonmusk #Think about buying a country , #Mex...\n",
              "3  1.657559e+12  @get_innocuous Actual receipts, and yet you ha...\n",
              "4  1.657559e+12  Tesla wall battery for the save! Power went ou..."
            ],
            "text/html": [
              "\n",
              "  <div id=\"df-b6d9e926-8916-4ec9-ac05-215da5ef0f63\" class=\"colab-df-container\">\n",
              "    <div>\n",
              "<style scoped>\n",
              "    .dataframe tbody tr th:only-of-type {\n",
              "        vertical-align: middle;\n",
              "    }\n",
              "\n",
              "    .dataframe tbody tr th {\n",
              "        vertical-align: top;\n",
              "    }\n",
              "\n",
              "    .dataframe thead th {\n",
              "        text-align: right;\n",
              "    }\n",
              "</style>\n",
              "<table border=\"1\" class=\"dataframe\">\n",
              "  <thead>\n",
              "    <tr style=\"text-align: right;\">\n",
              "      <th></th>\n",
              "      <th>created_at</th>\n",
              "      <th>tweet</th>\n",
              "    </tr>\n",
              "  </thead>\n",
              "  <tbody>\n",
              "    <tr>\n",
              "      <th>0</th>\n",
              "      <td>1.657559e+12</td>\n",
              "      <td>@GailAlfarATX @elonmusk @Tesla @teslacn @Tesla...</td>\n",
              "    </tr>\n",
              "    <tr>\n",
              "      <th>1</th>\n",
              "      <td>1.657559e+12</td>\n",
              "      <td>@elonmusk @GailAlfarATX @Tesla @teslacn @Tesla...</td>\n",
              "    </tr>\n",
              "    <tr>\n",
              "      <th>2</th>\n",
              "      <td>1.657559e+12</td>\n",
              "      <td>@elonmusk #Think about buying a country , #Mex...</td>\n",
              "    </tr>\n",
              "    <tr>\n",
              "      <th>3</th>\n",
              "      <td>1.657559e+12</td>\n",
              "      <td>@get_innocuous Actual receipts, and yet you ha...</td>\n",
              "    </tr>\n",
              "    <tr>\n",
              "      <th>4</th>\n",
              "      <td>1.657559e+12</td>\n",
              "      <td>Tesla wall battery for the save! Power went ou...</td>\n",
              "    </tr>\n",
              "  </tbody>\n",
              "</table>\n",
              "</div>\n",
              "    <div class=\"colab-df-buttons\">\n",
              "\n",
              "  <div class=\"colab-df-container\">\n",
              "    <button class=\"colab-df-convert\" onclick=\"convertToInteractive('df-b6d9e926-8916-4ec9-ac05-215da5ef0f63')\"\n",
              "            title=\"Convert this dataframe to an interactive table.\"\n",
              "            style=\"display:none;\">\n",
              "\n",
              "  <svg xmlns=\"http://www.w3.org/2000/svg\" height=\"24px\" viewBox=\"0 -960 960 960\">\n",
              "    <path d=\"M120-120v-720h720v720H120Zm60-500h600v-160H180v160Zm220 220h160v-160H400v160Zm0 220h160v-160H400v160ZM180-400h160v-160H180v160Zm440 0h160v-160H620v160ZM180-180h160v-160H180v160Zm440 0h160v-160H620v160Z\"/>\n",
              "  </svg>\n",
              "    </button>\n",
              "\n",
              "  <style>\n",
              "    .colab-df-container {\n",
              "      display:flex;\n",
              "      gap: 12px;\n",
              "    }\n",
              "\n",
              "    .colab-df-convert {\n",
              "      background-color: #E8F0FE;\n",
              "      border: none;\n",
              "      border-radius: 50%;\n",
              "      cursor: pointer;\n",
              "      display: none;\n",
              "      fill: #1967D2;\n",
              "      height: 32px;\n",
              "      padding: 0 0 0 0;\n",
              "      width: 32px;\n",
              "    }\n",
              "\n",
              "    .colab-df-convert:hover {\n",
              "      background-color: #E2EBFA;\n",
              "      box-shadow: 0px 1px 2px rgba(60, 64, 67, 0.3), 0px 1px 3px 1px rgba(60, 64, 67, 0.15);\n",
              "      fill: #174EA6;\n",
              "    }\n",
              "\n",
              "    .colab-df-buttons div {\n",
              "      margin-bottom: 4px;\n",
              "    }\n",
              "\n",
              "    [theme=dark] .colab-df-convert {\n",
              "      background-color: #3B4455;\n",
              "      fill: #D2E3FC;\n",
              "    }\n",
              "\n",
              "    [theme=dark] .colab-df-convert:hover {\n",
              "      background-color: #434B5C;\n",
              "      box-shadow: 0px 1px 3px 1px rgba(0, 0, 0, 0.15);\n",
              "      filter: drop-shadow(0px 1px 2px rgba(0, 0, 0, 0.3));\n",
              "      fill: #FFFFFF;\n",
              "    }\n",
              "  </style>\n",
              "\n",
              "    <script>\n",
              "      const buttonEl =\n",
              "        document.querySelector('#df-b6d9e926-8916-4ec9-ac05-215da5ef0f63 button.colab-df-convert');\n",
              "      buttonEl.style.display =\n",
              "        google.colab.kernel.accessAllowed ? 'block' : 'none';\n",
              "\n",
              "      async function convertToInteractive(key) {\n",
              "        const element = document.querySelector('#df-b6d9e926-8916-4ec9-ac05-215da5ef0f63');\n",
              "        const dataTable =\n",
              "          await google.colab.kernel.invokeFunction('convertToInteractive',\n",
              "                                                    [key], {});\n",
              "        if (!dataTable) return;\n",
              "\n",
              "        const docLinkHtml = 'Like what you see? Visit the ' +\n",
              "          '<a target=\"_blank\" href=https://colab.research.google.com/notebooks/data_table.ipynb>data table notebook</a>'\n",
              "          + ' to learn more about interactive tables.';\n",
              "        element.innerHTML = '';\n",
              "        dataTable['output_type'] = 'display_data';\n",
              "        await google.colab.output.renderOutput(dataTable, element);\n",
              "        const docLink = document.createElement('div');\n",
              "        docLink.innerHTML = docLinkHtml;\n",
              "        element.appendChild(docLink);\n",
              "      }\n",
              "    </script>\n",
              "  </div>\n",
              "\n",
              "\n",
              "<div id=\"df-653df90a-5f62-4148-8c01-5d9f45504e13\">\n",
              "  <button class=\"colab-df-quickchart\" onclick=\"quickchart('df-653df90a-5f62-4148-8c01-5d9f45504e13')\"\n",
              "            title=\"Suggest charts\"\n",
              "            style=\"display:none;\">\n",
              "\n",
              "<svg xmlns=\"http://www.w3.org/2000/svg\" height=\"24px\"viewBox=\"0 0 24 24\"\n",
              "     width=\"24px\">\n",
              "    <g>\n",
              "        <path d=\"M19 3H5c-1.1 0-2 .9-2 2v14c0 1.1.9 2 2 2h14c1.1 0 2-.9 2-2V5c0-1.1-.9-2-2-2zM9 17H7v-7h2v7zm4 0h-2V7h2v10zm4 0h-2v-4h2v4z\"/>\n",
              "    </g>\n",
              "</svg>\n",
              "  </button>\n",
              "\n",
              "<style>\n",
              "  .colab-df-quickchart {\n",
              "      --bg-color: #E8F0FE;\n",
              "      --fill-color: #1967D2;\n",
              "      --hover-bg-color: #E2EBFA;\n",
              "      --hover-fill-color: #174EA6;\n",
              "      --disabled-fill-color: #AAA;\n",
              "      --disabled-bg-color: #DDD;\n",
              "  }\n",
              "\n",
              "  [theme=dark] .colab-df-quickchart {\n",
              "      --bg-color: #3B4455;\n",
              "      --fill-color: #D2E3FC;\n",
              "      --hover-bg-color: #434B5C;\n",
              "      --hover-fill-color: #FFFFFF;\n",
              "      --disabled-bg-color: #3B4455;\n",
              "      --disabled-fill-color: #666;\n",
              "  }\n",
              "\n",
              "  .colab-df-quickchart {\n",
              "    background-color: var(--bg-color);\n",
              "    border: none;\n",
              "    border-radius: 50%;\n",
              "    cursor: pointer;\n",
              "    display: none;\n",
              "    fill: var(--fill-color);\n",
              "    height: 32px;\n",
              "    padding: 0;\n",
              "    width: 32px;\n",
              "  }\n",
              "\n",
              "  .colab-df-quickchart:hover {\n",
              "    background-color: var(--hover-bg-color);\n",
              "    box-shadow: 0 1px 2px rgba(60, 64, 67, 0.3), 0 1px 3px 1px rgba(60, 64, 67, 0.15);\n",
              "    fill: var(--button-hover-fill-color);\n",
              "  }\n",
              "\n",
              "  .colab-df-quickchart-complete:disabled,\n",
              "  .colab-df-quickchart-complete:disabled:hover {\n",
              "    background-color: var(--disabled-bg-color);\n",
              "    fill: var(--disabled-fill-color);\n",
              "    box-shadow: none;\n",
              "  }\n",
              "\n",
              "  .colab-df-spinner {\n",
              "    border: 2px solid var(--fill-color);\n",
              "    border-color: transparent;\n",
              "    border-bottom-color: var(--fill-color);\n",
              "    animation:\n",
              "      spin 1s steps(1) infinite;\n",
              "  }\n",
              "\n",
              "  @keyframes spin {\n",
              "    0% {\n",
              "      border-color: transparent;\n",
              "      border-bottom-color: var(--fill-color);\n",
              "      border-left-color: var(--fill-color);\n",
              "    }\n",
              "    20% {\n",
              "      border-color: transparent;\n",
              "      border-left-color: var(--fill-color);\n",
              "      border-top-color: var(--fill-color);\n",
              "    }\n",
              "    30% {\n",
              "      border-color: transparent;\n",
              "      border-left-color: var(--fill-color);\n",
              "      border-top-color: var(--fill-color);\n",
              "      border-right-color: var(--fill-color);\n",
              "    }\n",
              "    40% {\n",
              "      border-color: transparent;\n",
              "      border-right-color: var(--fill-color);\n",
              "      border-top-color: var(--fill-color);\n",
              "    }\n",
              "    60% {\n",
              "      border-color: transparent;\n",
              "      border-right-color: var(--fill-color);\n",
              "    }\n",
              "    80% {\n",
              "      border-color: transparent;\n",
              "      border-right-color: var(--fill-color);\n",
              "      border-bottom-color: var(--fill-color);\n",
              "    }\n",
              "    90% {\n",
              "      border-color: transparent;\n",
              "      border-bottom-color: var(--fill-color);\n",
              "    }\n",
              "  }\n",
              "</style>\n",
              "\n",
              "  <script>\n",
              "    async function quickchart(key) {\n",
              "      const quickchartButtonEl =\n",
              "        document.querySelector('#' + key + ' button');\n",
              "      quickchartButtonEl.disabled = true;  // To prevent multiple clicks.\n",
              "      quickchartButtonEl.classList.add('colab-df-spinner');\n",
              "      try {\n",
              "        const charts = await google.colab.kernel.invokeFunction(\n",
              "            'suggestCharts', [key], {});\n",
              "      } catch (error) {\n",
              "        console.error('Error during call to suggestCharts:', error);\n",
              "      }\n",
              "      quickchartButtonEl.classList.remove('colab-df-spinner');\n",
              "      quickchartButtonEl.classList.add('colab-df-quickchart-complete');\n",
              "    }\n",
              "    (() => {\n",
              "      let quickchartButtonEl =\n",
              "        document.querySelector('#df-653df90a-5f62-4148-8c01-5d9f45504e13 button');\n",
              "      quickchartButtonEl.style.display =\n",
              "        google.colab.kernel.accessAllowed ? 'block' : 'none';\n",
              "    })();\n",
              "  </script>\n",
              "</div>\n",
              "\n",
              "    </div>\n",
              "  </div>\n"
            ],
            "application/vnd.google.colaboratory.intrinsic+json": {
              "type": "dataframe",
              "variable_name": "df",
              "summary": "{\n  \"name\": \"df\",\n  \"rows\": 10016,\n  \"fields\": [\n    {\n      \"column\": \"created_at\",\n      \"properties\": {\n        \"dtype\": \"number\",\n        \"std\": 13889606.566330185,\n        \"min\": 1657512770000.0,\n        \"max\": 1657559184000.0,\n        \"num_unique_values\": 8768,\n        \"samples\": [\n          1657541856000.0,\n          1657552001000.0,\n          1657550822000.0\n        ],\n        \"semantic_type\": \"\",\n        \"description\": \"\"\n      }\n    },\n    {\n      \"column\": \"tweet\",\n      \"properties\": {\n        \"dtype\": \"string\",\n        \"num_unique_values\": 9967,\n        \"samples\": [\n          \"#News Elon Musk is walking away from Twitter deal after selling $8 billion worth of Tesla (TSLA) stock for it  https://t.co/7nGJYeVF9D  https://t.co/TMsWJ482bF\",\n          \"Magic Numbers 3, 6 And 9 \\u2013 Nikola Tesla -  https://t.co/i1FpYaFH18 via @WorldDisclosure\",\n          \"@elonmusk @GailAlfarATX @Tesla @teslacn @TeslaOwnersEBay @blueskykites @Kristennetten @JenniCurrent @daelmor @IheartTesla @EvrybodynthrMom Disagree\"\n        ],\n        \"semantic_type\": \"\",\n        \"description\": \"\"\n      }\n    }\n  ]\n}"
            }
          },
          "metadata": {},
          "execution_count": 5
        }
      ]
    },
    {
      "cell_type": "code",
      "source": [
        "df.shape"
      ],
      "metadata": {
        "colab": {
          "base_uri": "https://localhost:8080/"
        },
        "id": "AQrXaWA3Tpyw",
        "outputId": "20b2fda4-9243-43bb-ec36-e3a56e05803b"
      },
      "execution_count": null,
      "outputs": [
        {
          "output_type": "execute_result",
          "data": {
            "text/plain": [
              "(10016, 2)"
            ]
          },
          "metadata": {},
          "execution_count": 6
        }
      ]
    },
    {
      "cell_type": "code",
      "source": [
        "df.info()"
      ],
      "metadata": {
        "colab": {
          "base_uri": "https://localhost:8080/"
        },
        "id": "sYD2QXTxTp1P",
        "outputId": "a736cbdb-359a-43e7-91ce-91334b10f99f"
      },
      "execution_count": null,
      "outputs": [
        {
          "output_type": "stream",
          "name": "stdout",
          "text": [
            "<class 'pandas.core.frame.DataFrame'>\n",
            "RangeIndex: 10016 entries, 0 to 10015\n",
            "Data columns (total 2 columns):\n",
            " #   Column      Non-Null Count  Dtype  \n",
            "---  ------      --------------  -----  \n",
            " 0   created_at  10016 non-null  float64\n",
            " 1   tweet       10016 non-null  object \n",
            "dtypes: float64(1), object(1)\n",
            "memory usage: 156.6+ KB\n"
          ]
        }
      ]
    },
    {
      "cell_type": "code",
      "source": [
        "df.isna().sum()"
      ],
      "metadata": {
        "colab": {
          "base_uri": "https://localhost:8080/",
          "height": 146
        },
        "id": "lXtWPkt_YJFH",
        "outputId": "cd79ad26-3d06-456e-97c5-864028c0e260"
      },
      "execution_count": null,
      "outputs": [
        {
          "output_type": "execute_result",
          "data": {
            "text/plain": [
              "created_at    0\n",
              "tweet         0\n",
              "dtype: int64"
            ],
            "text/html": [
              "<div>\n",
              "<style scoped>\n",
              "    .dataframe tbody tr th:only-of-type {\n",
              "        vertical-align: middle;\n",
              "    }\n",
              "\n",
              "    .dataframe tbody tr th {\n",
              "        vertical-align: top;\n",
              "    }\n",
              "\n",
              "    .dataframe thead th {\n",
              "        text-align: right;\n",
              "    }\n",
              "</style>\n",
              "<table border=\"1\" class=\"dataframe\">\n",
              "  <thead>\n",
              "    <tr style=\"text-align: right;\">\n",
              "      <th></th>\n",
              "      <th>0</th>\n",
              "    </tr>\n",
              "  </thead>\n",
              "  <tbody>\n",
              "    <tr>\n",
              "      <th>created_at</th>\n",
              "      <td>0</td>\n",
              "    </tr>\n",
              "    <tr>\n",
              "      <th>tweet</th>\n",
              "      <td>0</td>\n",
              "    </tr>\n",
              "  </tbody>\n",
              "</table>\n",
              "</div><br><label><b>dtype:</b> int64</label>"
            ]
          },
          "metadata": {},
          "execution_count": 8
        }
      ]
    },
    {
      "cell_type": "code",
      "source": [
        "df.duplicated().sum()"
      ],
      "metadata": {
        "colab": {
          "base_uri": "https://localhost:8080/"
        },
        "id": "diDgrStYYy_w",
        "outputId": "f19d15d2-0093-4d5c-f1b5-2b3d54d32e98"
      },
      "execution_count": null,
      "outputs": [
        {
          "output_type": "execute_result",
          "data": {
            "text/plain": [
              "0"
            ]
          },
          "metadata": {},
          "execution_count": 9
        }
      ]
    },
    {
      "cell_type": "code",
      "source": [
        "# A list of contractions from http://stackoverflow.com/questions/19790188/expanding-english-language-contractions-in-python\n",
        "# i don't have car\n",
        "# i do not have car\n",
        "\n",
        "\n",
        "contractions = {\"ain't\": \"am not\", \"aren't\": \"are not\", \"can't\": \"cannot\",\n",
        "\"can't've\": \"cannot have\", \"'cause\": \"because\", \"could've\": \"could have\",\n",
        "\"couldn't\": \"could not\", \"couldn't've\": \"could not have\", \"didn't\": \"did not\",\n",
        "\"doesn't\": \"does not\", \"don't\": \"do not\", \"hadn't\": \"had not\", \"hadn't've\": \"had not have\",\n",
        "\"hasn't\": \"has not\", \"haven't\": \"have not\", \"he'd\": \"he would\", \"he'd've\": \"he would have\",\n",
        "\"he'll\": \"he will\", \"he's\": \"he is\", \"how'd\": \"how did\", \"how'll\": \"how will\",\n",
        "\"how's\": \"how is\", \"i'd\": \"i would\", \"i'll\": \"i will\", \"i'm\": \"i am\", \"i've\": \"i have\",\n",
        "\"isn't\": \"is not\", \"it'd\": \"it would\", \"it'll\": \"it will\", \"it's\": \"it is\",\n",
        "\"let's\": \"let us\", \"ma'am\": \"madam\", \"mayn't\": \"may not\", \"might've\": \"might have\",\n",
        "\"mightn't\": \"might not\", \"must've\": \"must have\", \"mustn't\": \"must not\",\n",
        "\"needn't\": \"need not\", \"oughtn't\": \"ought not\", \"shan't\": \"shall not\",\n",
        "\"sha'n't\": \"shall not\", \"she'd\": \"she would\", \"she'll\": \"she will\", \"she's\": \"she is\",\n",
        "\"should've\": \"should have\", \"shouldn't\": \"should not\", \"that'd\": \"that would\",\n",
        "\"that's\": \"that is\", \"there'd\": \"there had\", \"there's\": \"there is\", \"they'd\": \"they would\",\n",
        "\"they'll\": \"they will\", \"they're\": \"they are\", \"they've\": \"they have\", \"wasn't\": \"was not\",\n",
        "\"we'd\": \"we would\", \"we'll\": \"we will\", \"we're\": \"we are\", \"we've\": \"we have\",\n",
        "\"weren't\": \"were not\", \"what'll\": \"what will\", \"what're\": \"what are\", \"what's\": \"what is\",\n",
        "\"what've\": \"what have\", \"where'd\": \"where did\", \"where's\": \"where is\", \"who'll\": \"who will\",\n",
        "\"who's\": \"who is\", \"won't\": \"will not\", \"wouldn't\": \"would not\", \"you'd\": \"you would\",\n",
        "\"you'll\": \"you will\", \"you're\": \"you are\", \"wfh\": \"work from home\", \"wfo\": \"work from office\",\n",
        "\"idk\": \"i do not know\", \"brb\": \"be right back\", \"btw\": \"by the way\", \"tbh\": \"to be honest\",\n",
        "\"omw\": \"on my way\", \"lmk\": \"let me know\", \"fyi\": \"for your information\",\n",
        "\"imo\": \"in my opinion\", \"smh\": \"shaking my head\", \"nvm\": \"never mind\",\n",
        "\"ikr\": \"i know right\", \"fr\": \"for real\", \"rn\": \"right now\", \"gg\": \"good game\",\n",
        "\"dm\": \"direct message\", \"afaik\": \"as far as i know\", \"bff\": \"best friends forever\",\n",
        "\"ftw\": \"for the win\", \"hmu\": \"hit me up\", \"ggwp\": \"good game well played\"}\n"
      ],
      "metadata": {
        "id": "13Uu9y0bTp32"
      },
      "execution_count": null,
      "outputs": []
    },
    {
      "cell_type": "markdown",
      "source": [
        "# Text data Cleaning"
      ],
      "metadata": {
        "id": "tjd_4S1OVKXJ"
      }
    },
    {
      "cell_type": "code",
      "source": [
        "text= \"I don't have a supercar! 😎 Visit https://cars.com now!\""
      ],
      "metadata": {
        "id": "9T6EjfD1Tp7Y"
      },
      "execution_count": null,
      "outputs": []
    },
    {
      "cell_type": "markdown",
      "source": [
        "## Step 1: Lowercase the text\n"
      ],
      "metadata": {
        "id": "GrLg6SKsVg9_"
      }
    },
    {
      "cell_type": "code",
      "source": [
        "text = text.lower()\n",
        "text"
      ],
      "metadata": {
        "id": "OSZYbtLWVQ1y",
        "colab": {
          "base_uri": "https://localhost:8080/",
          "height": 35
        },
        "outputId": "b50f3cd3-f541-4bf0-bcd8-e72cbbea7ecc"
      },
      "execution_count": null,
      "outputs": [
        {
          "output_type": "execute_result",
          "data": {
            "text/plain": [
              "\"i don't have a supercar! 😎 visit https://cars.com now!\""
            ],
            "application/vnd.google.colaboratory.intrinsic+json": {
              "type": "string"
            }
          },
          "metadata": {},
          "execution_count": 12
        }
      ]
    },
    {
      "cell_type": "markdown",
      "source": [
        "## Step 2: Handle contractions\n"
      ],
      "metadata": {
        "id": "DW-m-UdnVmVI"
      }
    },
    {
      "cell_type": "code",
      "source": [
        "text = text.split()\n",
        "text\n"
      ],
      "metadata": {
        "colab": {
          "base_uri": "https://localhost:8080/"
        },
        "id": "RnNl44YhVQ4d",
        "outputId": "fdf4ef30-b856-4c60-d29f-40d3aeba0461"
      },
      "execution_count": null,
      "outputs": [
        {
          "output_type": "execute_result",
          "data": {
            "text/plain": [
              "['i',\n",
              " \"don't\",\n",
              " 'have',\n",
              " 'a',\n",
              " 'supercar!',\n",
              " '😎',\n",
              " 'visit',\n",
              " 'https://cars.com',\n",
              " 'now!']"
            ]
          },
          "metadata": {},
          "execution_count": 13
        }
      ]
    },
    {
      "cell_type": "code",
      "source": [
        "new_text = []\n",
        "for word in text:\n",
        "    if word in contractions:\n",
        "        new_text.append(contractions[word])\n",
        "    else:\n",
        "        new_text.append(word)\n",
        "\n",
        "new_text"
      ],
      "metadata": {
        "colab": {
          "base_uri": "https://localhost:8080/"
        },
        "id": "WHYd1xrsVQ71",
        "outputId": "b0f7deea-a588-4072-9256-85814cb09b24"
      },
      "execution_count": null,
      "outputs": [
        {
          "output_type": "execute_result",
          "data": {
            "text/plain": [
              "['i',\n",
              " 'do not',\n",
              " 'have',\n",
              " 'a',\n",
              " 'supercar!',\n",
              " '😎',\n",
              " 'visit',\n",
              " 'https://cars.com',\n",
              " 'now!']"
            ]
          },
          "metadata": {},
          "execution_count": 14
        }
      ]
    },
    {
      "cell_type": "code",
      "source": [
        "text = \" \".join(new_text)\n",
        "text"
      ],
      "metadata": {
        "colab": {
          "base_uri": "https://localhost:8080/",
          "height": 35
        },
        "id": "p2_W01H8V0-y",
        "outputId": "b48c7d83-d630-450f-a562-1e9e69219e6d"
      },
      "execution_count": null,
      "outputs": [
        {
          "output_type": "execute_result",
          "data": {
            "text/plain": [
              "'i do not have a supercar! 😎 visit https://cars.com now!'"
            ],
            "application/vnd.google.colaboratory.intrinsic+json": {
              "type": "string"
            }
          },
          "metadata": {},
          "execution_count": 15
        }
      ]
    },
    {
      "cell_type": "markdown",
      "source": [
        "## Step 3: Remove URLs"
      ],
      "metadata": {
        "id": "whrJIKs4VvvM"
      }
    },
    {
      "cell_type": "code",
      "source": [
        "text = re.sub(r'https?:\\/\\/.*[\\r\\n]*', '', text)\n",
        "text"
      ],
      "metadata": {
        "colab": {
          "base_uri": "https://localhost:8080/",
          "height": 35
        },
        "id": "F6sbMTR1Vuw7",
        "outputId": "850f4f68-c011-4fec-9c1b-a589e0e333b5"
      },
      "execution_count": null,
      "outputs": [
        {
          "output_type": "execute_result",
          "data": {
            "text/plain": [
              "'i do not have a supercar! 😎 visit '"
            ],
            "application/vnd.google.colaboratory.intrinsic+json": {
              "type": "string"
            }
          },
          "metadata": {},
          "execution_count": 16
        }
      ]
    },
    {
      "cell_type": "markdown",
      "source": [
        "## Step 4: Remove usernames (e.g., @user)"
      ],
      "metadata": {
        "id": "2PL5l3EgVvD_"
      }
    },
    {
      "cell_type": "code",
      "source": [
        "text = re.sub(r'@[A-Za-z0-9]+', '', text)\n",
        "text"
      ],
      "metadata": {
        "id": "FAgj15jYVsHq",
        "colab": {
          "base_uri": "https://localhost:8080/",
          "height": 35
        },
        "outputId": "6a266672-692a-430c-cb98-5681da1354f2"
      },
      "execution_count": null,
      "outputs": [
        {
          "output_type": "execute_result",
          "data": {
            "text/plain": [
              "'i do not have a supercar! 😎 visit '"
            ],
            "application/vnd.google.colaboratory.intrinsic+json": {
              "type": "string"
            }
          },
          "metadata": {},
          "execution_count": 17
        }
      ]
    },
    {
      "cell_type": "markdown",
      "source": [
        "## Step 5: Remove HTML and symbols"
      ],
      "metadata": {
        "id": "_w4EWOiLWgKW"
      }
    },
    {
      "cell_type": "code",
      "source": [
        "text = re.sub(r'\\<a href', ' ', text)\n",
        "text = re.sub(r'&amp;', '', text)\n",
        "text = re.sub(r'[_\"\\-;%()|+&=*%.,!?:#$@\\[\\]/]', ' ', text)\n",
        "text = re.sub(r'<br />', ' ', text)\n",
        "text = re.sub(r'\\'', ' ', text)"
      ],
      "metadata": {
        "id": "QVPZdh49VsK0"
      },
      "execution_count": null,
      "outputs": []
    },
    {
      "cell_type": "markdown",
      "source": [
        "##  Step 6: Remove emojis"
      ],
      "metadata": {
        "id": "fQ-dkzX0XAP9"
      }
    },
    {
      "cell_type": "code",
      "source": [
        "emoji_pattern = re.compile(\"[\\U0001F600-\\U0001F64F\\U0001F300-\\U0001F5FF\\U0001F680-\\U0001F6FF\" \\\n",
        "                               \"\\U0001F700-\\U0001F77F\\U0001F780-\\U0001F7FF\\U0001F800-\\U0001F8FF\" \\\n",
        "                               \"\\U0001F900-\\U0001F9FF\\U0001FA00-\\U0001FA6F\\U0001FA70-\\U0001FAFF\" \\\n",
        "                               \"\\U00002702-\\U000027B0\\U000024C2-\\U0001F251]+\", flags=re.UNICODE)\n",
        "text = emoji_pattern.sub(r'', text)\n",
        "text"
      ],
      "metadata": {
        "colab": {
          "base_uri": "https://localhost:8080/",
          "height": 35
        },
        "id": "wMrQ0fMEVsOT",
        "outputId": "a2be5b6c-a470-4336-8a74-388086d23e6f"
      },
      "execution_count": null,
      "outputs": [
        {
          "output_type": "execute_result",
          "data": {
            "text/plain": [
              "'i do not have a supercar   visit '"
            ],
            "application/vnd.google.colaboratory.intrinsic+json": {
              "type": "string"
            }
          },
          "metadata": {},
          "execution_count": 19
        }
      ]
    },
    {
      "cell_type": "markdown",
      "source": [
        "## Step 7: Tokenization\n"
      ],
      "metadata": {
        "id": "0hJD5OUVXGSK"
      }
    },
    {
      "cell_type": "code",
      "source": [
        "words = word_tokenize(text)\n",
        "words"
      ],
      "metadata": {
        "colab": {
          "base_uri": "https://localhost:8080/"
        },
        "id": "jUDhPYvgXChW",
        "outputId": "15a645d6-6978-4a48-d9b9-b2c2e12c5c76"
      },
      "execution_count": null,
      "outputs": [
        {
          "output_type": "execute_result",
          "data": {
            "text/plain": [
              "['i', 'do', 'not', 'have', 'a', 'supercar', 'visit']"
            ]
          },
          "metadata": {},
          "execution_count": 20
        }
      ]
    },
    {
      "cell_type": "markdown",
      "source": [
        "##  Step 8: Remove stopwords"
      ],
      "metadata": {
        "id": "EVPi-1DwXcb7"
      }
    },
    {
      "cell_type": "code",
      "source": [
        "stop_words = set(stopwords.words(\"english\"))\n",
        "words = [word for word in words if word not in stop_words]\n",
        "words"
      ],
      "metadata": {
        "colab": {
          "base_uri": "https://localhost:8080/"
        },
        "id": "bRhv7BddXCjU",
        "outputId": "31163469-fb64-46c2-ac0b-93db42b865fd"
      },
      "execution_count": null,
      "outputs": [
        {
          "output_type": "execute_result",
          "data": {
            "text/plain": [
              "['supercar', 'visit']"
            ]
          },
          "metadata": {},
          "execution_count": 21
        }
      ]
    },
    {
      "cell_type": "markdown",
      "source": [
        "## Step 9: Lemmatization"
      ],
      "metadata": {
        "id": "EJIqy7nFXiz9"
      }
    },
    {
      "cell_type": "code",
      "source": [
        "lemmatizer = WordNetLemmatizer()\n",
        "words = [lemmatizer.lemmatize(word) for word in words]\n",
        "words"
      ],
      "metadata": {
        "colab": {
          "base_uri": "https://localhost:8080/"
        },
        "id": "C_pTkgKCXCm4",
        "outputId": "368270d0-19ae-449f-c237-23d86f04ce2f"
      },
      "execution_count": null,
      "outputs": [
        {
          "output_type": "execute_result",
          "data": {
            "text/plain": [
              "['supercar', 'visit']"
            ]
          },
          "metadata": {},
          "execution_count": 22
        }
      ]
    },
    {
      "cell_type": "code",
      "source": [],
      "metadata": {
        "id": "3VpiAKSTXv_T"
      },
      "execution_count": null,
      "outputs": []
    },
    {
      "cell_type": "markdown",
      "source": [
        "# Text data cleaning function"
      ],
      "metadata": {
        "id": "6GXtM5oPX7NY"
      }
    },
    {
      "cell_type": "code",
      "source": [
        "def clean_text(text, remove_stopwords=True):\n",
        "    text = text.lower()\n",
        "    if True:\n",
        "        #text= \"i dont't have supercar\"\n",
        "        text = text.split()\n",
        "        # ['i','don't','have','supercar']\n",
        "        new_text = []\n",
        "        for word in text:\n",
        "            if word in contractions:\n",
        "                new_text.append(contractions[word])\n",
        "                # ['i','do not','have','supercar']\n",
        "            else:\n",
        "                new_text.append(word)\n",
        "        text = \" \".join(new_text)\n",
        "        #[i do not have supercar]\n",
        "\n",
        "    # Remove URLs\n",
        "    text = re.sub(r'https?:\\/\\/.*[\\r\\n]*', '', text, flags=re.MULTILINE)\n",
        "\n",
        "    # Remove usernames\n",
        "    text = re.sub(r'@[A-Za-z0-9]+', '', text)\n",
        "\n",
        "    text = re.sub(r'\\<a href', ' ', text)\n",
        "    text = re.sub(r'&amp;', '', text)\n",
        "    text = re.sub(r'[_\"\\-;%()|+&=*%.,!?:#$@\\[\\]/]', ' ', text)\n",
        "    text = re.sub(r'<br />', ' ', text)\n",
        "    text = re.sub(r'\\'', ' ', text)\n",
        "    # Remove emojis\n",
        "    emoji_pattern = re.compile(\"[\\U0001F600-\\U0001F64F\\U0001F300-\\U0001F5FF\\U0001F680-\\U0001F6FF\" \\\n",
        "                               \"\\U0001F700-\\U0001F77F\\U0001F780-\\U0001F7FF\\U0001F800-\\U0001F8FF\" \\\n",
        "                               \"\\U0001F900-\\U0001F9FF\\U0001FA00-\\U0001FA6F\\U0001FA70-\\U0001FAFF\" \\\n",
        "                               \"\\U00002702-\\U000027B0\\U000024C2-\\U0001F251]+\", flags=re.UNICODE)\n",
        "    text = emoji_pattern.sub(r'', text)\n",
        "\n",
        "    # Tokenize text\n",
        "    words = word_tokenize(text)\n",
        "\n",
        "    # Remove stopwords if needed\n",
        "    if remove_stopwords:\n",
        "        stop_words = set(stopwords.words(\"english\"))\n",
        "        words = [word for word in words if word not in stop_words]\n",
        "\n",
        "    # Lemmatization\n",
        "    lemmatizer = WordNetLemmatizer()\n",
        "    words = [lemmatizer.lemmatize(word) for word in words]\n",
        "\n",
        "    return \" \".join(words)"
      ],
      "metadata": {
        "id": "BHbUCdzoX9QG"
      },
      "execution_count": null,
      "outputs": []
    },
    {
      "cell_type": "code",
      "source": [
        "df['clean_tweet'] = df['tweet'].apply(lambda x:clean_text(x))\n",
        "df.head()"
      ],
      "metadata": {
        "colab": {
          "base_uri": "https://localhost:8080/",
          "height": 293
        },
        "id": "YV8RGEJLX-WN",
        "outputId": "fa3de35a-7dd4-49c9-87e2-2792b2c5d5c5"
      },
      "execution_count": null,
      "outputs": [
        {
          "output_type": "execute_result",
          "data": {
            "text/plain": [
              "     created_at                                              tweet  \\\n",
              "0  1.657559e+12  @GailAlfarATX @elonmusk @Tesla @teslacn @Tesla...   \n",
              "1  1.657559e+12  @elonmusk @GailAlfarATX @Tesla @teslacn @Tesla...   \n",
              "2  1.657559e+12  @elonmusk #Think about buying a country , #Mex...   \n",
              "3  1.657559e+12  @get_innocuous Actual receipts, and yet you ha...   \n",
              "4  1.657559e+12  Tesla wall battery for the save! Power went ou...   \n",
              "\n",
              "                                         clean_tweet  \n",
              "0  six 4 still live home homeschooled taught self...  \n",
              "1                        go dozen kids… missing 3 go  \n",
              "2  think buying country mexico could turn richest...  \n",
              "3  innocuous actual receipt yet ’ asked anyone bu...  \n",
              "4  tesla wall battery save power went still run a...  "
            ],
            "text/html": [
              "\n",
              "  <div id=\"df-0dfae195-91b3-4b8c-9d14-f0ff1dbfb03f\" class=\"colab-df-container\">\n",
              "    <div>\n",
              "<style scoped>\n",
              "    .dataframe tbody tr th:only-of-type {\n",
              "        vertical-align: middle;\n",
              "    }\n",
              "\n",
              "    .dataframe tbody tr th {\n",
              "        vertical-align: top;\n",
              "    }\n",
              "\n",
              "    .dataframe thead th {\n",
              "        text-align: right;\n",
              "    }\n",
              "</style>\n",
              "<table border=\"1\" class=\"dataframe\">\n",
              "  <thead>\n",
              "    <tr style=\"text-align: right;\">\n",
              "      <th></th>\n",
              "      <th>created_at</th>\n",
              "      <th>tweet</th>\n",
              "      <th>clean_tweet</th>\n",
              "    </tr>\n",
              "  </thead>\n",
              "  <tbody>\n",
              "    <tr>\n",
              "      <th>0</th>\n",
              "      <td>1.657559e+12</td>\n",
              "      <td>@GailAlfarATX @elonmusk @Tesla @teslacn @Tesla...</td>\n",
              "      <td>six 4 still live home homeschooled taught self...</td>\n",
              "    </tr>\n",
              "    <tr>\n",
              "      <th>1</th>\n",
              "      <td>1.657559e+12</td>\n",
              "      <td>@elonmusk @GailAlfarATX @Tesla @teslacn @Tesla...</td>\n",
              "      <td>go dozen kids… missing 3 go</td>\n",
              "    </tr>\n",
              "    <tr>\n",
              "      <th>2</th>\n",
              "      <td>1.657559e+12</td>\n",
              "      <td>@elonmusk #Think about buying a country , #Mex...</td>\n",
              "      <td>think buying country mexico could turn richest...</td>\n",
              "    </tr>\n",
              "    <tr>\n",
              "      <th>3</th>\n",
              "      <td>1.657559e+12</td>\n",
              "      <td>@get_innocuous Actual receipts, and yet you ha...</td>\n",
              "      <td>innocuous actual receipt yet ’ asked anyone bu...</td>\n",
              "    </tr>\n",
              "    <tr>\n",
              "      <th>4</th>\n",
              "      <td>1.657559e+12</td>\n",
              "      <td>Tesla wall battery for the save! Power went ou...</td>\n",
              "      <td>tesla wall battery save power went still run a...</td>\n",
              "    </tr>\n",
              "  </tbody>\n",
              "</table>\n",
              "</div>\n",
              "    <div class=\"colab-df-buttons\">\n",
              "\n",
              "  <div class=\"colab-df-container\">\n",
              "    <button class=\"colab-df-convert\" onclick=\"convertToInteractive('df-0dfae195-91b3-4b8c-9d14-f0ff1dbfb03f')\"\n",
              "            title=\"Convert this dataframe to an interactive table.\"\n",
              "            style=\"display:none;\">\n",
              "\n",
              "  <svg xmlns=\"http://www.w3.org/2000/svg\" height=\"24px\" viewBox=\"0 -960 960 960\">\n",
              "    <path d=\"M120-120v-720h720v720H120Zm60-500h600v-160H180v160Zm220 220h160v-160H400v160Zm0 220h160v-160H400v160ZM180-400h160v-160H180v160Zm440 0h160v-160H620v160ZM180-180h160v-160H180v160Zm440 0h160v-160H620v160Z\"/>\n",
              "  </svg>\n",
              "    </button>\n",
              "\n",
              "  <style>\n",
              "    .colab-df-container {\n",
              "      display:flex;\n",
              "      gap: 12px;\n",
              "    }\n",
              "\n",
              "    .colab-df-convert {\n",
              "      background-color: #E8F0FE;\n",
              "      border: none;\n",
              "      border-radius: 50%;\n",
              "      cursor: pointer;\n",
              "      display: none;\n",
              "      fill: #1967D2;\n",
              "      height: 32px;\n",
              "      padding: 0 0 0 0;\n",
              "      width: 32px;\n",
              "    }\n",
              "\n",
              "    .colab-df-convert:hover {\n",
              "      background-color: #E2EBFA;\n",
              "      box-shadow: 0px 1px 2px rgba(60, 64, 67, 0.3), 0px 1px 3px 1px rgba(60, 64, 67, 0.15);\n",
              "      fill: #174EA6;\n",
              "    }\n",
              "\n",
              "    .colab-df-buttons div {\n",
              "      margin-bottom: 4px;\n",
              "    }\n",
              "\n",
              "    [theme=dark] .colab-df-convert {\n",
              "      background-color: #3B4455;\n",
              "      fill: #D2E3FC;\n",
              "    }\n",
              "\n",
              "    [theme=dark] .colab-df-convert:hover {\n",
              "      background-color: #434B5C;\n",
              "      box-shadow: 0px 1px 3px 1px rgba(0, 0, 0, 0.15);\n",
              "      filter: drop-shadow(0px 1px 2px rgba(0, 0, 0, 0.3));\n",
              "      fill: #FFFFFF;\n",
              "    }\n",
              "  </style>\n",
              "\n",
              "    <script>\n",
              "      const buttonEl =\n",
              "        document.querySelector('#df-0dfae195-91b3-4b8c-9d14-f0ff1dbfb03f button.colab-df-convert');\n",
              "      buttonEl.style.display =\n",
              "        google.colab.kernel.accessAllowed ? 'block' : 'none';\n",
              "\n",
              "      async function convertToInteractive(key) {\n",
              "        const element = document.querySelector('#df-0dfae195-91b3-4b8c-9d14-f0ff1dbfb03f');\n",
              "        const dataTable =\n",
              "          await google.colab.kernel.invokeFunction('convertToInteractive',\n",
              "                                                    [key], {});\n",
              "        if (!dataTable) return;\n",
              "\n",
              "        const docLinkHtml = 'Like what you see? Visit the ' +\n",
              "          '<a target=\"_blank\" href=https://colab.research.google.com/notebooks/data_table.ipynb>data table notebook</a>'\n",
              "          + ' to learn more about interactive tables.';\n",
              "        element.innerHTML = '';\n",
              "        dataTable['output_type'] = 'display_data';\n",
              "        await google.colab.output.renderOutput(dataTable, element);\n",
              "        const docLink = document.createElement('div');\n",
              "        docLink.innerHTML = docLinkHtml;\n",
              "        element.appendChild(docLink);\n",
              "      }\n",
              "    </script>\n",
              "  </div>\n",
              "\n",
              "\n",
              "<div id=\"df-286afddd-ba1f-447f-aee4-222c4e12149d\">\n",
              "  <button class=\"colab-df-quickchart\" onclick=\"quickchart('df-286afddd-ba1f-447f-aee4-222c4e12149d')\"\n",
              "            title=\"Suggest charts\"\n",
              "            style=\"display:none;\">\n",
              "\n",
              "<svg xmlns=\"http://www.w3.org/2000/svg\" height=\"24px\"viewBox=\"0 0 24 24\"\n",
              "     width=\"24px\">\n",
              "    <g>\n",
              "        <path d=\"M19 3H5c-1.1 0-2 .9-2 2v14c0 1.1.9 2 2 2h14c1.1 0 2-.9 2-2V5c0-1.1-.9-2-2-2zM9 17H7v-7h2v7zm4 0h-2V7h2v10zm4 0h-2v-4h2v4z\"/>\n",
              "    </g>\n",
              "</svg>\n",
              "  </button>\n",
              "\n",
              "<style>\n",
              "  .colab-df-quickchart {\n",
              "      --bg-color: #E8F0FE;\n",
              "      --fill-color: #1967D2;\n",
              "      --hover-bg-color: #E2EBFA;\n",
              "      --hover-fill-color: #174EA6;\n",
              "      --disabled-fill-color: #AAA;\n",
              "      --disabled-bg-color: #DDD;\n",
              "  }\n",
              "\n",
              "  [theme=dark] .colab-df-quickchart {\n",
              "      --bg-color: #3B4455;\n",
              "      --fill-color: #D2E3FC;\n",
              "      --hover-bg-color: #434B5C;\n",
              "      --hover-fill-color: #FFFFFF;\n",
              "      --disabled-bg-color: #3B4455;\n",
              "      --disabled-fill-color: #666;\n",
              "  }\n",
              "\n",
              "  .colab-df-quickchart {\n",
              "    background-color: var(--bg-color);\n",
              "    border: none;\n",
              "    border-radius: 50%;\n",
              "    cursor: pointer;\n",
              "    display: none;\n",
              "    fill: var(--fill-color);\n",
              "    height: 32px;\n",
              "    padding: 0;\n",
              "    width: 32px;\n",
              "  }\n",
              "\n",
              "  .colab-df-quickchart:hover {\n",
              "    background-color: var(--hover-bg-color);\n",
              "    box-shadow: 0 1px 2px rgba(60, 64, 67, 0.3), 0 1px 3px 1px rgba(60, 64, 67, 0.15);\n",
              "    fill: var(--button-hover-fill-color);\n",
              "  }\n",
              "\n",
              "  .colab-df-quickchart-complete:disabled,\n",
              "  .colab-df-quickchart-complete:disabled:hover {\n",
              "    background-color: var(--disabled-bg-color);\n",
              "    fill: var(--disabled-fill-color);\n",
              "    box-shadow: none;\n",
              "  }\n",
              "\n",
              "  .colab-df-spinner {\n",
              "    border: 2px solid var(--fill-color);\n",
              "    border-color: transparent;\n",
              "    border-bottom-color: var(--fill-color);\n",
              "    animation:\n",
              "      spin 1s steps(1) infinite;\n",
              "  }\n",
              "\n",
              "  @keyframes spin {\n",
              "    0% {\n",
              "      border-color: transparent;\n",
              "      border-bottom-color: var(--fill-color);\n",
              "      border-left-color: var(--fill-color);\n",
              "    }\n",
              "    20% {\n",
              "      border-color: transparent;\n",
              "      border-left-color: var(--fill-color);\n",
              "      border-top-color: var(--fill-color);\n",
              "    }\n",
              "    30% {\n",
              "      border-color: transparent;\n",
              "      border-left-color: var(--fill-color);\n",
              "      border-top-color: var(--fill-color);\n",
              "      border-right-color: var(--fill-color);\n",
              "    }\n",
              "    40% {\n",
              "      border-color: transparent;\n",
              "      border-right-color: var(--fill-color);\n",
              "      border-top-color: var(--fill-color);\n",
              "    }\n",
              "    60% {\n",
              "      border-color: transparent;\n",
              "      border-right-color: var(--fill-color);\n",
              "    }\n",
              "    80% {\n",
              "      border-color: transparent;\n",
              "      border-right-color: var(--fill-color);\n",
              "      border-bottom-color: var(--fill-color);\n",
              "    }\n",
              "    90% {\n",
              "      border-color: transparent;\n",
              "      border-bottom-color: var(--fill-color);\n",
              "    }\n",
              "  }\n",
              "</style>\n",
              "\n",
              "  <script>\n",
              "    async function quickchart(key) {\n",
              "      const quickchartButtonEl =\n",
              "        document.querySelector('#' + key + ' button');\n",
              "      quickchartButtonEl.disabled = true;  // To prevent multiple clicks.\n",
              "      quickchartButtonEl.classList.add('colab-df-spinner');\n",
              "      try {\n",
              "        const charts = await google.colab.kernel.invokeFunction(\n",
              "            'suggestCharts', [key], {});\n",
              "      } catch (error) {\n",
              "        console.error('Error during call to suggestCharts:', error);\n",
              "      }\n",
              "      quickchartButtonEl.classList.remove('colab-df-spinner');\n",
              "      quickchartButtonEl.classList.add('colab-df-quickchart-complete');\n",
              "    }\n",
              "    (() => {\n",
              "      let quickchartButtonEl =\n",
              "        document.querySelector('#df-286afddd-ba1f-447f-aee4-222c4e12149d button');\n",
              "      quickchartButtonEl.style.display =\n",
              "        google.colab.kernel.accessAllowed ? 'block' : 'none';\n",
              "    })();\n",
              "  </script>\n",
              "</div>\n",
              "\n",
              "    </div>\n",
              "  </div>\n"
            ],
            "application/vnd.google.colaboratory.intrinsic+json": {
              "type": "dataframe",
              "variable_name": "df",
              "summary": "{\n  \"name\": \"df\",\n  \"rows\": 10016,\n  \"fields\": [\n    {\n      \"column\": \"created_at\",\n      \"properties\": {\n        \"dtype\": \"number\",\n        \"std\": 13889606.566330185,\n        \"min\": 1657512770000.0,\n        \"max\": 1657559184000.0,\n        \"num_unique_values\": 8768,\n        \"samples\": [\n          1657541856000.0,\n          1657552001000.0,\n          1657550822000.0\n        ],\n        \"semantic_type\": \"\",\n        \"description\": \"\"\n      }\n    },\n    {\n      \"column\": \"tweet\",\n      \"properties\": {\n        \"dtype\": \"string\",\n        \"num_unique_values\": 9967,\n        \"samples\": [\n          \"#News Elon Musk is walking away from Twitter deal after selling $8 billion worth of Tesla (TSLA) stock for it  https://t.co/7nGJYeVF9D  https://t.co/TMsWJ482bF\",\n          \"Magic Numbers 3, 6 And 9 \\u2013 Nikola Tesla -  https://t.co/i1FpYaFH18 via @WorldDisclosure\",\n          \"@elonmusk @GailAlfarATX @Tesla @teslacn @TeslaOwnersEBay @blueskykites @Kristennetten @JenniCurrent @daelmor @IheartTesla @EvrybodynthrMom Disagree\"\n        ],\n        \"semantic_type\": \"\",\n        \"description\": \"\"\n      }\n    },\n    {\n      \"column\": \"clean_tweet\",\n      \"properties\": {\n        \"dtype\": \"string\",\n        \"num_unique_values\": 9102,\n        \"samples\": [\n          \"vikingland said quality going also fund paying employee model x need new factory \\u2019 funding coming maybe take load money stock market\\u2026\",\n          \"sure knew bank turn profit \\u2019 turn profit shut finance tesla\",\n          \"great due diligence elon \\u2019 know bot issue made offer duh twitter twtr market went south overpaid tesla got smacked timing horrendous detrimental tesla holder\"\n        ],\n        \"semantic_type\": \"\",\n        \"description\": \"\"\n      }\n    }\n  ]\n}"
            }
          },
          "metadata": {},
          "execution_count": 24
        }
      ]
    },
    {
      "cell_type": "code",
      "source": [
        "from datetime import datetime\n",
        "df['created_at'] = pd.to_datetime(df['created_at'], unit='ms')\n",
        "df.head()"
      ],
      "metadata": {
        "colab": {
          "base_uri": "https://localhost:8080/",
          "height": 293
        },
        "id": "-m9alurVYmtE",
        "outputId": "9d0c6c17-0b5f-430b-f6d4-77dc9131e9e8"
      },
      "execution_count": null,
      "outputs": [
        {
          "output_type": "execute_result",
          "data": {
            "text/plain": [
              "           created_at                                              tweet  \\\n",
              "0 2022-07-11 17:06:24  @GailAlfarATX @elonmusk @Tesla @teslacn @Tesla...   \n",
              "1 2022-07-11 17:06:21  @elonmusk @GailAlfarATX @Tesla @teslacn @Tesla...   \n",
              "2 2022-07-11 17:06:20  @elonmusk #Think about buying a country , #Mex...   \n",
              "3 2022-07-11 17:06:12  @get_innocuous Actual receipts, and yet you ha...   \n",
              "4 2022-07-11 17:06:09  Tesla wall battery for the save! Power went ou...   \n",
              "\n",
              "                                         clean_tweet  \n",
              "0  six 4 still live home homeschooled taught self...  \n",
              "1                        go dozen kids… missing 3 go  \n",
              "2  think buying country mexico could turn richest...  \n",
              "3  innocuous actual receipt yet ’ asked anyone bu...  \n",
              "4  tesla wall battery save power went still run a...  "
            ],
            "text/html": [
              "\n",
              "  <div id=\"df-c723a99c-dfd8-4933-8308-6b1fafc19185\" class=\"colab-df-container\">\n",
              "    <div>\n",
              "<style scoped>\n",
              "    .dataframe tbody tr th:only-of-type {\n",
              "        vertical-align: middle;\n",
              "    }\n",
              "\n",
              "    .dataframe tbody tr th {\n",
              "        vertical-align: top;\n",
              "    }\n",
              "\n",
              "    .dataframe thead th {\n",
              "        text-align: right;\n",
              "    }\n",
              "</style>\n",
              "<table border=\"1\" class=\"dataframe\">\n",
              "  <thead>\n",
              "    <tr style=\"text-align: right;\">\n",
              "      <th></th>\n",
              "      <th>created_at</th>\n",
              "      <th>tweet</th>\n",
              "      <th>clean_tweet</th>\n",
              "    </tr>\n",
              "  </thead>\n",
              "  <tbody>\n",
              "    <tr>\n",
              "      <th>0</th>\n",
              "      <td>2022-07-11 17:06:24</td>\n",
              "      <td>@GailAlfarATX @elonmusk @Tesla @teslacn @Tesla...</td>\n",
              "      <td>six 4 still live home homeschooled taught self...</td>\n",
              "    </tr>\n",
              "    <tr>\n",
              "      <th>1</th>\n",
              "      <td>2022-07-11 17:06:21</td>\n",
              "      <td>@elonmusk @GailAlfarATX @Tesla @teslacn @Tesla...</td>\n",
              "      <td>go dozen kids… missing 3 go</td>\n",
              "    </tr>\n",
              "    <tr>\n",
              "      <th>2</th>\n",
              "      <td>2022-07-11 17:06:20</td>\n",
              "      <td>@elonmusk #Think about buying a country , #Mex...</td>\n",
              "      <td>think buying country mexico could turn richest...</td>\n",
              "    </tr>\n",
              "    <tr>\n",
              "      <th>3</th>\n",
              "      <td>2022-07-11 17:06:12</td>\n",
              "      <td>@get_innocuous Actual receipts, and yet you ha...</td>\n",
              "      <td>innocuous actual receipt yet ’ asked anyone bu...</td>\n",
              "    </tr>\n",
              "    <tr>\n",
              "      <th>4</th>\n",
              "      <td>2022-07-11 17:06:09</td>\n",
              "      <td>Tesla wall battery for the save! Power went ou...</td>\n",
              "      <td>tesla wall battery save power went still run a...</td>\n",
              "    </tr>\n",
              "  </tbody>\n",
              "</table>\n",
              "</div>\n",
              "    <div class=\"colab-df-buttons\">\n",
              "\n",
              "  <div class=\"colab-df-container\">\n",
              "    <button class=\"colab-df-convert\" onclick=\"convertToInteractive('df-c723a99c-dfd8-4933-8308-6b1fafc19185')\"\n",
              "            title=\"Convert this dataframe to an interactive table.\"\n",
              "            style=\"display:none;\">\n",
              "\n",
              "  <svg xmlns=\"http://www.w3.org/2000/svg\" height=\"24px\" viewBox=\"0 -960 960 960\">\n",
              "    <path d=\"M120-120v-720h720v720H120Zm60-500h600v-160H180v160Zm220 220h160v-160H400v160Zm0 220h160v-160H400v160ZM180-400h160v-160H180v160Zm440 0h160v-160H620v160ZM180-180h160v-160H180v160Zm440 0h160v-160H620v160Z\"/>\n",
              "  </svg>\n",
              "    </button>\n",
              "\n",
              "  <style>\n",
              "    .colab-df-container {\n",
              "      display:flex;\n",
              "      gap: 12px;\n",
              "    }\n",
              "\n",
              "    .colab-df-convert {\n",
              "      background-color: #E8F0FE;\n",
              "      border: none;\n",
              "      border-radius: 50%;\n",
              "      cursor: pointer;\n",
              "      display: none;\n",
              "      fill: #1967D2;\n",
              "      height: 32px;\n",
              "      padding: 0 0 0 0;\n",
              "      width: 32px;\n",
              "    }\n",
              "\n",
              "    .colab-df-convert:hover {\n",
              "      background-color: #E2EBFA;\n",
              "      box-shadow: 0px 1px 2px rgba(60, 64, 67, 0.3), 0px 1px 3px 1px rgba(60, 64, 67, 0.15);\n",
              "      fill: #174EA6;\n",
              "    }\n",
              "\n",
              "    .colab-df-buttons div {\n",
              "      margin-bottom: 4px;\n",
              "    }\n",
              "\n",
              "    [theme=dark] .colab-df-convert {\n",
              "      background-color: #3B4455;\n",
              "      fill: #D2E3FC;\n",
              "    }\n",
              "\n",
              "    [theme=dark] .colab-df-convert:hover {\n",
              "      background-color: #434B5C;\n",
              "      box-shadow: 0px 1px 3px 1px rgba(0, 0, 0, 0.15);\n",
              "      filter: drop-shadow(0px 1px 2px rgba(0, 0, 0, 0.3));\n",
              "      fill: #FFFFFF;\n",
              "    }\n",
              "  </style>\n",
              "\n",
              "    <script>\n",
              "      const buttonEl =\n",
              "        document.querySelector('#df-c723a99c-dfd8-4933-8308-6b1fafc19185 button.colab-df-convert');\n",
              "      buttonEl.style.display =\n",
              "        google.colab.kernel.accessAllowed ? 'block' : 'none';\n",
              "\n",
              "      async function convertToInteractive(key) {\n",
              "        const element = document.querySelector('#df-c723a99c-dfd8-4933-8308-6b1fafc19185');\n",
              "        const dataTable =\n",
              "          await google.colab.kernel.invokeFunction('convertToInteractive',\n",
              "                                                    [key], {});\n",
              "        if (!dataTable) return;\n",
              "\n",
              "        const docLinkHtml = 'Like what you see? Visit the ' +\n",
              "          '<a target=\"_blank\" href=https://colab.research.google.com/notebooks/data_table.ipynb>data table notebook</a>'\n",
              "          + ' to learn more about interactive tables.';\n",
              "        element.innerHTML = '';\n",
              "        dataTable['output_type'] = 'display_data';\n",
              "        await google.colab.output.renderOutput(dataTable, element);\n",
              "        const docLink = document.createElement('div');\n",
              "        docLink.innerHTML = docLinkHtml;\n",
              "        element.appendChild(docLink);\n",
              "      }\n",
              "    </script>\n",
              "  </div>\n",
              "\n",
              "\n",
              "<div id=\"df-e7da7da1-8653-4d5c-884d-e34f2499b776\">\n",
              "  <button class=\"colab-df-quickchart\" onclick=\"quickchart('df-e7da7da1-8653-4d5c-884d-e34f2499b776')\"\n",
              "            title=\"Suggest charts\"\n",
              "            style=\"display:none;\">\n",
              "\n",
              "<svg xmlns=\"http://www.w3.org/2000/svg\" height=\"24px\"viewBox=\"0 0 24 24\"\n",
              "     width=\"24px\">\n",
              "    <g>\n",
              "        <path d=\"M19 3H5c-1.1 0-2 .9-2 2v14c0 1.1.9 2 2 2h14c1.1 0 2-.9 2-2V5c0-1.1-.9-2-2-2zM9 17H7v-7h2v7zm4 0h-2V7h2v10zm4 0h-2v-4h2v4z\"/>\n",
              "    </g>\n",
              "</svg>\n",
              "  </button>\n",
              "\n",
              "<style>\n",
              "  .colab-df-quickchart {\n",
              "      --bg-color: #E8F0FE;\n",
              "      --fill-color: #1967D2;\n",
              "      --hover-bg-color: #E2EBFA;\n",
              "      --hover-fill-color: #174EA6;\n",
              "      --disabled-fill-color: #AAA;\n",
              "      --disabled-bg-color: #DDD;\n",
              "  }\n",
              "\n",
              "  [theme=dark] .colab-df-quickchart {\n",
              "      --bg-color: #3B4455;\n",
              "      --fill-color: #D2E3FC;\n",
              "      --hover-bg-color: #434B5C;\n",
              "      --hover-fill-color: #FFFFFF;\n",
              "      --disabled-bg-color: #3B4455;\n",
              "      --disabled-fill-color: #666;\n",
              "  }\n",
              "\n",
              "  .colab-df-quickchart {\n",
              "    background-color: var(--bg-color);\n",
              "    border: none;\n",
              "    border-radius: 50%;\n",
              "    cursor: pointer;\n",
              "    display: none;\n",
              "    fill: var(--fill-color);\n",
              "    height: 32px;\n",
              "    padding: 0;\n",
              "    width: 32px;\n",
              "  }\n",
              "\n",
              "  .colab-df-quickchart:hover {\n",
              "    background-color: var(--hover-bg-color);\n",
              "    box-shadow: 0 1px 2px rgba(60, 64, 67, 0.3), 0 1px 3px 1px rgba(60, 64, 67, 0.15);\n",
              "    fill: var(--button-hover-fill-color);\n",
              "  }\n",
              "\n",
              "  .colab-df-quickchart-complete:disabled,\n",
              "  .colab-df-quickchart-complete:disabled:hover {\n",
              "    background-color: var(--disabled-bg-color);\n",
              "    fill: var(--disabled-fill-color);\n",
              "    box-shadow: none;\n",
              "  }\n",
              "\n",
              "  .colab-df-spinner {\n",
              "    border: 2px solid var(--fill-color);\n",
              "    border-color: transparent;\n",
              "    border-bottom-color: var(--fill-color);\n",
              "    animation:\n",
              "      spin 1s steps(1) infinite;\n",
              "  }\n",
              "\n",
              "  @keyframes spin {\n",
              "    0% {\n",
              "      border-color: transparent;\n",
              "      border-bottom-color: var(--fill-color);\n",
              "      border-left-color: var(--fill-color);\n",
              "    }\n",
              "    20% {\n",
              "      border-color: transparent;\n",
              "      border-left-color: var(--fill-color);\n",
              "      border-top-color: var(--fill-color);\n",
              "    }\n",
              "    30% {\n",
              "      border-color: transparent;\n",
              "      border-left-color: var(--fill-color);\n",
              "      border-top-color: var(--fill-color);\n",
              "      border-right-color: var(--fill-color);\n",
              "    }\n",
              "    40% {\n",
              "      border-color: transparent;\n",
              "      border-right-color: var(--fill-color);\n",
              "      border-top-color: var(--fill-color);\n",
              "    }\n",
              "    60% {\n",
              "      border-color: transparent;\n",
              "      border-right-color: var(--fill-color);\n",
              "    }\n",
              "    80% {\n",
              "      border-color: transparent;\n",
              "      border-right-color: var(--fill-color);\n",
              "      border-bottom-color: var(--fill-color);\n",
              "    }\n",
              "    90% {\n",
              "      border-color: transparent;\n",
              "      border-bottom-color: var(--fill-color);\n",
              "    }\n",
              "  }\n",
              "</style>\n",
              "\n",
              "  <script>\n",
              "    async function quickchart(key) {\n",
              "      const quickchartButtonEl =\n",
              "        document.querySelector('#' + key + ' button');\n",
              "      quickchartButtonEl.disabled = true;  // To prevent multiple clicks.\n",
              "      quickchartButtonEl.classList.add('colab-df-spinner');\n",
              "      try {\n",
              "        const charts = await google.colab.kernel.invokeFunction(\n",
              "            'suggestCharts', [key], {});\n",
              "      } catch (error) {\n",
              "        console.error('Error during call to suggestCharts:', error);\n",
              "      }\n",
              "      quickchartButtonEl.classList.remove('colab-df-spinner');\n",
              "      quickchartButtonEl.classList.add('colab-df-quickchart-complete');\n",
              "    }\n",
              "    (() => {\n",
              "      let quickchartButtonEl =\n",
              "        document.querySelector('#df-e7da7da1-8653-4d5c-884d-e34f2499b776 button');\n",
              "      quickchartButtonEl.style.display =\n",
              "        google.colab.kernel.accessAllowed ? 'block' : 'none';\n",
              "    })();\n",
              "  </script>\n",
              "</div>\n",
              "\n",
              "    </div>\n",
              "  </div>\n"
            ],
            "application/vnd.google.colaboratory.intrinsic+json": {
              "type": "dataframe",
              "variable_name": "df",
              "summary": "{\n  \"name\": \"df\",\n  \"rows\": 10016,\n  \"fields\": [\n    {\n      \"column\": \"created_at\",\n      \"properties\": {\n        \"dtype\": \"date\",\n        \"min\": \"2022-07-11 04:12:50\",\n        \"max\": \"2022-07-11 17:06:24\",\n        \"num_unique_values\": 8768,\n        \"samples\": [\n          \"2022-07-11 12:17:36\",\n          \"2022-07-11 15:06:41\",\n          \"2022-07-11 14:47:02\"\n        ],\n        \"semantic_type\": \"\",\n        \"description\": \"\"\n      }\n    },\n    {\n      \"column\": \"tweet\",\n      \"properties\": {\n        \"dtype\": \"string\",\n        \"num_unique_values\": 9967,\n        \"samples\": [\n          \"#News Elon Musk is walking away from Twitter deal after selling $8 billion worth of Tesla (TSLA) stock for it  https://t.co/7nGJYeVF9D  https://t.co/TMsWJ482bF\",\n          \"Magic Numbers 3, 6 And 9 \\u2013 Nikola Tesla -  https://t.co/i1FpYaFH18 via @WorldDisclosure\",\n          \"@elonmusk @GailAlfarATX @Tesla @teslacn @TeslaOwnersEBay @blueskykites @Kristennetten @JenniCurrent @daelmor @IheartTesla @EvrybodynthrMom Disagree\"\n        ],\n        \"semantic_type\": \"\",\n        \"description\": \"\"\n      }\n    },\n    {\n      \"column\": \"clean_tweet\",\n      \"properties\": {\n        \"dtype\": \"string\",\n        \"num_unique_values\": 9102,\n        \"samples\": [\n          \"vikingland said quality going also fund paying employee model x need new factory \\u2019 funding coming maybe take load money stock market\\u2026\",\n          \"sure knew bank turn profit \\u2019 turn profit shut finance tesla\",\n          \"great due diligence elon \\u2019 know bot issue made offer duh twitter twtr market went south overpaid tesla got smacked timing horrendous detrimental tesla holder\"\n        ],\n        \"semantic_type\": \"\",\n        \"description\": \"\"\n      }\n    }\n  ]\n}"
            }
          },
          "metadata": {},
          "execution_count": 25
        }
      ]
    },
    {
      "cell_type": "markdown",
      "source": [
        "# Exploratory Data Analysis"
      ],
      "metadata": {
        "id": "Xv5mk28fh-j5"
      }
    },
    {
      "cell_type": "code",
      "source": [
        "df[\"Tweets_length\"]= df[\"clean_tweet\"].str.len()"
      ],
      "metadata": {
        "id": "ufOLzOBGhbNk"
      },
      "execution_count": null,
      "outputs": []
    },
    {
      "cell_type": "code",
      "source": [
        "plt.figure(figsize=(10,3))\n",
        "sns.histplot(df['Tweets_length'])\n",
        "plt.title(\"Distribution of the length of tweets\")\n",
        "plt.show()"
      ],
      "metadata": {
        "id": "4rtVzk6tiK49",
        "colab": {
          "base_uri": "https://localhost:8080/",
          "height": 316
        },
        "outputId": "ce3ed03b-644c-40b5-912e-7b62a30c6bb1"
      },
      "execution_count": null,
      "outputs": [
        {
          "output_type": "display_data",
          "data": {
            "text/plain": [
              "<Figure size 1000x300 with 1 Axes>"
            ],
            "image/png": "[encoded data removed]"
          },
          "metadata": {}
        }
      ]
    },
    {
      "cell_type": "markdown",
      "source": [
        "## Wordcloud"
      ],
      "metadata": {
        "id": "5AwluvE0inSy"
      }
    },
    {
      "cell_type": "code",
      "source": [
        "all_text = ' '.join(df['clean_tweet'])"
      ],
      "metadata": {
        "id": "mTEPtIeGiSUQ"
      },
      "execution_count": null,
      "outputs": []
    },
    {
      "cell_type": "code",
      "source": [
        "# Generate word cloud\n",
        "wordcloud = WordCloud(width = 800, height = 800,\n",
        "                background_color ='white',\n",
        "                stopwords = set(STOPWORDS),\n",
        "                min_font_size = 10).generate(all_text)\n",
        "\n",
        "plt.figure(figsize = (8, 8), facecolor = None)\n",
        "plt.imshow(wordcloud)\n",
        "plt.axis(\"off\")\n",
        "plt.show()"
      ],
      "metadata": {
        "id": "Jui266CyiwCI",
        "colab": {
          "base_uri": "https://localhost:8080/",
          "height": 653
        },
        "outputId": "0b973fff-adf8-462f-b136-5b4a6e3e7bea"
      },
      "execution_count": null,
      "outputs": [
        {
          "output_type": "display_data",
          "data": {
            "text/plain": [
              "<Figure size 800x800 with 1 Axes>"
            ],
            "image/png": "[encoded data removed]"
          },
          "metadata": {}
        }
      ]
    },
    {
      "cell_type": "markdown",
      "source": [
        "## Most popular hashtags"
      ],
      "metadata": {
        "id": "ZI3ElakdjVAE"
      }
    },
    {
      "cell_type": "code",
      "source": [
        "all_hashtags = sum(\n",
        "    df['tweet'].apply(lambda x: re.findall(r\"#(\\w+)\", x.lower())),\n",
        "    []\n",
        ")\n",
        "all_hashtags"
      ],
      "metadata": {
        "id": "UAJZ2PvFiygv",
        "colab": {
          "base_uri": "https://localhost:8080/"
        },
        "outputId": "215d9542-edb5-4c5e-ae9b-c902e8d1a49d"
      },
      "execution_count": null,
      "outputs": [
        {
          "output_type": "execute_result",
          "data": {
            "text/plain": [
              "['think',\n",
              " 'mexico',\n",
              " 'constitution',\n",
              " 'think',\n",
              " 'mexico',\n",
              " 'constitution',\n",
              " 'think',\n",
              " 'mexico',\n",
              " 'constitution',\n",
              " 'think',\n",
              " 'mexico',\n",
              " 'constitution',\n",
              " 'twitter',\n",
              " 'elonmusk',\n",
              " 'tesla',\n",
              " 'think',\n",
              " 'mexico',\n",
              " 'constitution',\n",
              " 'think',\n",
              " 'mexico',\n",
              " 'constitution',\n",
              " 'think',\n",
              " 'mexico',\n",
              " 'constitution',\n",
              " 'think',\n",
              " 'mexico',\n",
              " 'constitution',\n",
              " 'twtr',\n",
              " 'nasdaq',\n",
              " 'elonmusk',\n",
              " 'tesla',\n",
              " 'think',\n",
              " 'mexico',\n",
              " 'constitution',\n",
              " 'think',\n",
              " 'mexico',\n",
              " 'constitution',\n",
              " 'think',\n",
              " 'mexico',\n",
              " 'constitution',\n",
              " 'byd',\n",
              " 'teslaroadster',\n",
              " 'tesla',\n",
              " 'ev',\n",
              " 'electricvehicle',\n",
              " 'ev',\n",
              " 'electricvehicle',\n",
              " 'ev',\n",
              " 'tesla',\n",
              " 'gigaberlin',\n",
              " 'solar',\n",
              " 'tesla',\n",
              " 'ev',\n",
              " 'climatechange',\n",
              " 'renewables',\n",
              " 'renewableenergy',\n",
              " 'flowtrade',\n",
              " 'tsla',\n",
              " 'tesla',\n",
              " 'blocktrades',\n",
              " 'algo',\n",
              " 'supportandresistance',\n",
              " 'technicalanalysis',\n",
              " 'trading',\n",
              " 'daytrading',\n",
              " 'daytrader',\n",
              " 'law',\n",
              " 'netde',\n",
              " 'lawyers',\n",
              " 'lawtwitter',\n",
              " 'oekraine',\n",
              " 'china',\n",
              " 'tesla',\n",
              " 'automotive',\n",
              " 'think',\n",
              " 'mexico',\n",
              " 'constitution',\n",
              " 'mondayvibes',\n",
              " 'lunchwithelonm',\n",
              " 'tesla',\n",
              " 'elonmusk',\n",
              " 'spacex',\n",
              " 'tesla',\n",
              " 'supercharger',\n",
              " 'v4supercharger',\n",
              " 'tesla',\n",
              " 'tesla',\n",
              " 'ev',\n",
              " 'climatecrisis',\n",
              " 'tesla',\n",
              " 'fuzionx',\n",
              " 'tesla',\n",
              " 'tesla',\n",
              " 'teslaradar',\n",
              " 'tesla',\n",
              " 'unitedkingdom',\n",
              " 'model3',\n",
              " 'teslaradar',\n",
              " 'tesla',\n",
              " 'unitedkingdom',\n",
              " 'model3',\n",
              " 'teslaradar',\n",
              " 'tesla',\n",
              " 'unitedkingdom',\n",
              " 'model3',\n",
              " 'teslaradar',\n",
              " 'tesla',\n",
              " 'unitedkingdom',\n",
              " 'model3',\n",
              " 'teslaradar',\n",
              " 'tesla',\n",
              " 'unitedkingdom',\n",
              " 'modely',\n",
              " 'teslaradar',\n",
              " 'tesla',\n",
              " 'unitedkingdom',\n",
              " 'model3',\n",
              " 'teslaradar',\n",
              " 'tesla',\n",
              " 'unitedkingdom',\n",
              " 'model3',\n",
              " 'teslaradar',\n",
              " 'tesla',\n",
              " 'unitedkingdom',\n",
              " 'model3',\n",
              " 'teslaradar',\n",
              " 'tesla',\n",
              " 'unitedkingdom',\n",
              " 'model3',\n",
              " 'teslaradar',\n",
              " 'tesla',\n",
              " 'unitedkingdom',\n",
              " 'model3',\n",
              " 'teslaradar',\n",
              " 'tesla',\n",
              " 'unitedkingdom',\n",
              " 'model3',\n",
              " 'teslaradar',\n",
              " 'tesla',\n",
              " 'unitedkingdom',\n",
              " 'modely',\n",
              " 'teslaradar',\n",
              " 'tesla',\n",
              " 'unitedkingdom',\n",
              " 'modely',\n",
              " 'teslaradar',\n",
              " 'tesla',\n",
              " 'unitedkingdom',\n",
              " 'teslaradar',\n",
              " 'tesla',\n",
              " 'unitedkingdom',\n",
              " 'model3',\n",
              " 'teslaradar',\n",
              " 'tesla',\n",
              " 'unitedkingdom',\n",
              " 'model3',\n",
              " 'teslaradar',\n",
              " 'tesla',\n",
              " 'unitedkingdom',\n",
              " 'model3',\n",
              " 'teslaradar',\n",
              " 'tesla',\n",
              " 'unitedkingdom',\n",
              " 'model3',\n",
              " 'teslaradar',\n",
              " 'tesla',\n",
              " 'unitedkingdom',\n",
              " 'model3',\n",
              " 'teslaradar',\n",
              " 'tesla',\n",
              " 'unitedkingdom',\n",
              " 'model3',\n",
              " 'performance',\n",
              " 'teslaradar',\n",
              " 'tesla',\n",
              " 'unitedkingdom',\n",
              " 'model3',\n",
              " 'teslaradar',\n",
              " 'tesla',\n",
              " 'germany',\n",
              " 'model3',\n",
              " 'teslaradar',\n",
              " 'tesla',\n",
              " 'germany',\n",
              " 'modely',\n",
              " 'teslaradar',\n",
              " 'tesla',\n",
              " 'germany',\n",
              " 'model3',\n",
              " 'teslaradar',\n",
              " 'tesla',\n",
              " 'germany',\n",
              " 'model3',\n",
              " 'tesla',\n",
              " 'dogecoin',\n",
              " 'nhtsa',\n",
              " 'autonomni',\n",
              " 'autonomniauto',\n",
              " 'cruise',\n",
              " 'tesla',\n",
              " 'electricvehicles',\n",
              " 'tesla',\n",
              " 'ev',\n",
              " 'renewables',\n",
              " 'climatechange',\n",
              " 'renewableenergy',\n",
              " 'electricvehicles',\n",
              " 'tesla',\n",
              " 'ev',\n",
              " 'renewables',\n",
              " 'climatechange',\n",
              " 'renewableenergy',\n",
              " 'electricvehicles',\n",
              " 'tesla',\n",
              " 'ev',\n",
              " 'renewables',\n",
              " 'climatechange',\n",
              " 'renewableenergy',\n",
              " 'tesla',\n",
              " 'modely',\n",
              " 'tesla',\n",
              " 'ev',\n",
              " 'climatechange',\n",
              " 'renewables',\n",
              " 'renewableenergy',\n",
              " 'ballin',\n",
              " 'tesla',\n",
              " 'makeinindia',\n",
              " 'olaelectric',\n",
              " 'stocks',\n",
              " 'bear',\n",
              " 'bearish',\n",
              " 'stockmarketcrash',\n",
              " 'stonks',\n",
              " 'stockmarket',\n",
              " 'billgates',\n",
              " 'mexico',\n",
              " 'constitution',\n",
              " 'motivationmonday',\n",
              " 'electricvehicle',\n",
              " 'ev',\n",
              " 'prolife',\n",
              " 'pncs16',\n",
              " 'tesla',\n",
              " 'dogecoin',\n",
              " 'tesla',\n",
              " 'emrod',\n",
              " 'nuevazelanda',\n",
              " 'fiat500',\n",
              " 'tesla',\n",
              " 'modely',\n",
              " 'model3',\n",
              " 'eup',\n",
              " 'dogecoin',\n",
              " 'tesla',\n",
              " 'nft',\n",
              " 'bitcoin',\n",
              " 'crypto',\n",
              " 'tesla',\n",
              " 'contigochv',\n",
              " 'autotech',\n",
              " 'automobile',\n",
              " 'tesla',\n",
              " 'cars',\n",
              " 'techcar',\n",
              " 'wsj',\n",
              " 'nytimes',\n",
              " 'business',\n",
              " 'reuters',\n",
              " 'ihub_stockposts',\n",
              " 'forbes',\n",
              " 'marketwatch',\n",
              " 'cnn',\n",
              " 'bet',\n",
              " 'foxnews',\n",
              " 'latimes',\n",
              " 'crainschicago',\n",
              " 'usatoday',\n",
              " 'barronsonline',\n",
              " 'ibdinvestors',\n",
              " 'cnnmoneyinvest',\n",
              " 'cbd',\n",
              " 'espn',\n",
              " 'wgn',\n",
              " 'apple',\n",
              " 'tesla',\n",
              " 'investors',\n",
              " 'nmáscentral',\n",
              " 'decideinformado',\n",
              " 'worldhunger',\n",
              " 'elonmusk',\n",
              " 'cryptomarket',\n",
              " 'tesla',\n",
              " 'models',\n",
              " 'plaid',\n",
              " 'neuzulassungen',\n",
              " 'elektroauto',\n",
              " 'fiat500',\n",
              " 'modely',\n",
              " 'eup',\n",
              " 'bev',\n",
              " 'elektromobilitaet',\n",
              " 'nikolatesla',\n",
              " 'tesla',\n",
              " 'nuevazelanda',\n",
              " 'scifi',\n",
              " 'ciberpunk',\n",
              " 'cyberpunk',\n",
              " 'tech',\n",
              " 'techie',\n",
              " 'geeks',\n",
              " 'steampunk',\n",
              " 'atompunk',\n",
              " 'starwars',\n",
              " 'stsrtrek',\n",
              " 'volt',\n",
              " 'voltinu',\n",
              " 'semiconductor',\n",
              " 'investing',\n",
              " 'stock',\n",
              " 'nasdaq',\n",
              " 'bullish',\n",
              " 'twitter',\n",
              " 'musk',\n",
              " 'tesla',\n",
              " 'billionaires',\n",
              " 'til',\n",
              " 'exchange',\n",
              " 'tesla',\n",
              " 'automotive',\n",
              " 'elonmusk',\n",
              " 'twitter',\n",
              " 'tesla',\n",
              " 'amg',\n",
              " 'メルセデス',\n",
              " 'eqs',\n",
              " 'tesla',\n",
              " 'テスラ',\n",
              " 'tesla',\n",
              " 'guanajuato',\n",
              " 'dogecoin',\n",
              " 'doge',\n",
              " 'tesla',\n",
              " 'elonmusk',\n",
              " 'dogecoin',\n",
              " 'doge',\n",
              " 'bhivelabs',\n",
              " 'bhivenectar',\n",
              " 'tesla',\n",
              " 'elonmusk',\n",
              " 'tesla',\n",
              " 'glowv2',\n",
              " 'samsung',\n",
              " 'lg',\n",
              " 'elonmusk',\n",
              " 'tesla',\n",
              " 'teslamotors',\n",
              " 'nasdaq',\n",
              " 'ev',\n",
              " 'automotive',\n",
              " 'teslasupercharger',\n",
              " 'carsofinstragram',\n",
              " 'optionstrading',\n",
              " 'robinhood',\n",
              " 'tsla',\n",
              " 'tesla',\n",
              " 'tesla',\n",
              " 'spacex',\n",
              " 'elonmusk',\n",
              " 'icymi',\n",
              " 'vibes',\n",
              " 'work',\n",
              " 'liveone',\n",
              " 'hiphop',\n",
              " 'rnb',\n",
              " 'elonmusk',\n",
              " 'usa',\n",
              " 'us',\n",
              " 'tesla',\n",
              " 'twitter',\n",
              " 'elonmusktwitter',\n",
              " 'spacex',\n",
              " 'elonvstwitter',\n",
              " 'elon_musk',\n",
              " 'elonmuskbuytwitter',\n",
              " 'nhtsa',\n",
              " 'iag',\n",
              " 'bancosabadell',\n",
              " 'tesla',\n",
              " 'tesla',\n",
              " 'dogecoin',\n",
              " 'thegrifterclass',\n",
              " 'publicsuperchargingineurope',\n",
              " 'gujaratpolice',\n",
              " 'police',\n",
              " 'twitterhandle',\n",
              " 'hacked',\n",
              " 'hacker',\n",
              " 'twitter',\n",
              " 'elonmusk',\n",
              " 'spacex',\n",
              " 'bitcoin',\n",
              " 'tesla',\n",
              " 'bitcoin',\n",
              " 'arkk',\n",
              " 'twitter',\n",
              " 'dwac',\n",
              " 'tesla',\n",
              " 'sec',\n",
              " 'elonmusk',\n",
              " 'elonmusktwitter',\n",
              " 'elonvstwitter',\n",
              " 'elonmuskpullsout',\n",
              " 'encuesta',\n",
              " 'nnpcistransiting',\n",
              " 'kanyewest',\n",
              " 'tesla',\n",
              " 'tesla',\n",
              " 'tecnologia',\n",
              " 'bidencrimefamilly',\n",
              " 'tlsa',\n",
              " 'elonmusk',\n",
              " 'tesla',\n",
              " 'spacex',\n",
              " 'somethingtoponderabout',\n",
              " 'entrepreneurship',\n",
              " 'savesoil',\n",
              " 'savesoil',\n",
              " 'twitter',\n",
              " 'tesla',\n",
              " 'elonmusk',\n",
              " 'おれのちょみを信じろ',\n",
              " 'workethics',\n",
              " 'parentingisaskill',\n",
              " 'btc',\n",
              " 'usd',\n",
              " 'btc',\n",
              " 'tesla',\n",
              " 'supercharging',\n",
              " 'news',\n",
              " 'rt',\n",
              " 'tmtr',\n",
              " 'elonmusk',\n",
              " 'twitter',\n",
              " 'tesla',\n",
              " 'spacs',\n",
              " 'tump',\n",
              " 'truthsocial',\n",
              " 'musk',\n",
              " 'readtheroom',\n",
              " 'tesla',\n",
              " 'doge',\n",
              " 'eth',\n",
              " 'nickel',\n",
              " 'quebec',\n",
              " 'amvestcapital',\n",
              " 'join',\n",
              " 'cleanenergy',\n",
              " 'battery',\n",
              " 'coffeetime',\n",
              " 'tesla',\n",
              " 'gigafactory',\n",
              " 'everythingisthelightdumbass',\n",
              " '調味料を柵で囲いたい人と繋がりたい',\n",
              " 'bitcoin',\n",
              " 'tesla',\n",
              " 'uranium',\n",
              " 'twitter',\n",
              " 'cybertruck',\n",
              " 'dogecoin',\n",
              " 'electricvehicles',\n",
              " 'tesla',\n",
              " 'ev',\n",
              " 'renewables',\n",
              " 'climatechange',\n",
              " 'renewableenergy',\n",
              " 'bentley',\n",
              " 'tesla',\n",
              " 'bmw',\n",
              " 'vw',\n",
              " 'volvo',\n",
              " 'biden',\n",
              " 'auto',\n",
              " 'news',\n",
              " 'worldpopulationday',\n",
              " 'fanofelonbutnotstupid',\n",
              " 'twitter',\n",
              " 'populationcontrol',\n",
              " 'population',\n",
              " 'elonmusk',\n",
              " 'solar',\n",
              " 'twitter',\n",
              " 'elonmusk',\n",
              " 'hydrogen',\n",
              " 'rent_a_tesla_in_iceland',\n",
              " 'evnews',\n",
              " 'electricvehicles',\n",
              " 'renewables',\n",
              " 'renewableenergy',\n",
              " '100daysofcode',\n",
              " 'webdev',\n",
              " 'reactjs',\n",
              " 'tailwindcss',\n",
              " 'podcast',\n",
              " 'news',\n",
              " 'tesla',\n",
              " 'samsung',\n",
              " 'caméra',\n",
              " 'tesla',\n",
              " 'tesla',\n",
              " 'elonmusk',\n",
              " 'cnbc',\n",
              " 'gotmusked',\n",
              " 'twittertakeover',\n",
              " 'electricvehicles',\n",
              " 'btc',\n",
              " 'bitcoin',\n",
              " 'tesla',\n",
              " 'sic',\n",
              " 'tesla',\n",
              " 'bydhan',\n",
              " 'nio',\n",
              " 'xpeng',\n",
              " 'smart',\n",
              " 'wulinghybrid',\n",
              " 'tesla',\n",
              " 'newprofilepic',\n",
              " 'tesla',\n",
              " 'tesla',\n",
              " 'musk',\n",
              " 'wts',\n",
              " 'components',\n",
              " 'thebrokersitebroadcast',\n",
              " 'stopbuildingcars',\n",
              " 'smart',\n",
              " 'lifehack',\n",
              " 'twitter',\n",
              " 'tesla',\n",
              " 'tesla',\n",
              " 'tesla',\n",
              " 'tesla',\n",
              " 'powerwall',\n",
              " 'homebattery',\n",
              " 'sandiego',\n",
              " 'poweroutage',\n",
              " 'infant',\n",
              " 'patheticrationalization',\n",
              " 'tesla',\n",
              " 'newenergy',\n",
              " 'twitter',\n",
              " 'tesla',\n",
              " 'hunterbiden',\n",
              " 'trading',\n",
              " 'tradingtips',\n",
              " 'tradingforex',\n",
              " 'stockmarket',\n",
              " 'stockmarketnews',\n",
              " 'daytrading',\n",
              " 'daytradinglife',\n",
              " 'daytradingschool',\n",
              " 'tradingstrategy',\n",
              " 'elonmusk',\n",
              " 'fintwit',\n",
              " 'stocks',\n",
              " 'stockmarket',\n",
              " 'stock',\n",
              " 'pendiente',\n",
              " 'tesla',\n",
              " 'ev',\n",
              " 'motivationmonday',\n",
              " 'twitter',\n",
              " 'tesla',\n",
              " 'mondaythoughts',\n",
              " 'tesla',\n",
              " 'elonmusk',\n",
              " 'dogearmy',\n",
              " 'dogecoin',\n",
              " 'tsla',\n",
              " 'tesla',\n",
              " 'gnus',\n",
              " 'iot',\n",
              " 'iiot',\n",
              " 'iotpl',\n",
              " 'iotcl',\n",
              " 'iotcommunity',\n",
              " 'intrernetofthings',\n",
              " '5g',\n",
              " 'smartthings',\n",
              " 'internetofeverything',\n",
              " 'industry40',\n",
              " 'smartcity',\n",
              " 'digitalcity',\n",
              " 'selfdrivingcars',\n",
              " 'texas',\n",
              " 'tesla',\n",
              " 'texasheat',\n",
              " 'elonmusk',\n",
              " 'tesla',\n",
              " 'weareford',\n",
              " 'twitter',\n",
              " 'elonmusk',\n",
              " 'tesla',\n",
              " 'takeover',\n",
              " 'wibx',\n",
              " 'wibooindication',\n",
              " 'tesla',\n",
              " 'tesla',\n",
              " '最伟大的作品',\n",
              " 'tesla',\n",
              " 'ev',\n",
              " 'climatechange',\n",
              " 'renewables',\n",
              " 'renewableenergy',\n",
              " 'btc',\n",
              " 'tesla',\n",
              " 'ebay',\n",
              " 'tesla',\n",
              " 'johnny5',\n",
              " 'shortcircuit',\n",
              " 'johnny5isalive',\n",
              " 'tesla',\n",
              " 'electricvehicles',\n",
              " 'tesla',\n",
              " 'ev',\n",
              " 'renewables',\n",
              " 'climatechange',\n",
              " 'renewableenergy',\n",
              " 'tesla',\n",
              " 'teslamodels',\n",
              " 'teslamodelx',\n",
              " 'twitter',\n",
              " 'investing',\n",
              " 'nasdaq',\n",
              " 'tesla',\n",
              " 'tesla',\n",
              " 'bitcoin',\n",
              " 'elonmusk',\n",
              " 'congrats',\n",
              " 'calentamientoglobal',\n",
              " 'ev',\n",
              " 'electricvehicles',\n",
              " 'tesla',\n",
              " 'tesla',\n",
              " 'tesla',\n",
              " 'sleepwell',\n",
              " 'dreambig',\n",
              " 'tesla',\n",
              " 'tesla',\n",
              " 'model3',\n",
              " '夜間なので一瞬の勝負',\n",
              " 'twitter',\n",
              " 'tesla',\n",
              " 'tesla',\n",
              " 'tesla',\n",
              " 'banassaultweapons',\n",
              " 'electric',\n",
              " 'innovation',\n",
              " 'electricvehicles',\n",
              " 'solarcar',\n",
              " 'car',\n",
              " 'energy',\n",
              " 'tesla',\n",
              " 'elonmusk',\n",
              " 'technology',\n",
              " 'innovationnews',\n",
              " 'tesla',\n",
              " 'tesla',\n",
              " 'tesladown',\n",
              " 'teslaoutage',\n",
              " 'entérate',\n",
              " 'cars',\n",
              " 'tesla',\n",
              " 'electricvehicle',\n",
              " 'mondaythoughts',\n",
              " 'tesla',\n",
              " 'autopilot',\n",
              " 'fthepump',\n",
              " 'wedding',\n",
              " 'paws',\n",
              " 'donate',\n",
              " 'tesla',\n",
              " 'church',\n",
              " 'weddinghall',\n",
              " 'club',\n",
              " 'paws',\n",
              " 'taxdeductible',\n",
              " 'bitcoin',\n",
              " 'doge',\n",
              " 'electricvehicles',\n",
              " 'tesla',\n",
              " 'ev',\n",
              " 'renewables',\n",
              " 'climatechange',\n",
              " 'renewableenergy',\n",
              " 'jameswebbspacetelescope',\n",
              " 'biden',\n",
              " 'musk',\n",
              " 'space',\n",
              " 'spacex',\n",
              " 'update',\n",
              " 'wallstreet',\n",
              " 'nasdaq',\n",
              " 'dowjones',\n",
              " 'tnote',\n",
              " 'elonmusk',\n",
              " 'twitter',\n",
              " 'tesla',\n",
              " 'crypto',\n",
              " 'bitcoin',\n",
              " 'fsdbeta',\n",
              " 'climateaction',\n",
              " 'dogecoin',\n",
              " 'teslacharge',\n",
              " 'supercharger',\n",
              " 'tesla',\n",
              " 'takeover',\n",
              " 'kpworldpress',\n",
              " 'kep1er',\n",
              " 'spacex',\n",
              " 'evs',\n",
              " 'elonmusk',\n",
              " 'dollarsarevotes',\n",
              " 'electricvehicle',\n",
              " 'ev',\n",
              " 'car',\n",
              " 'amazon',\n",
              " 'aliexpress',\n",
              " 'rt',\n",
              " 'sportsbetting',\n",
              " 'blackjack',\n",
              " 'poker',\n",
              " 'horseracing',\n",
              " 'craps',\n",
              " 'sportsbook',\n",
              " 'austrailia',\n",
              " 'gaming',\n",
              " 'cars',\n",
              " 'tesla',\n",
              " 'tesla',\n",
              " 'getfit',\n",
              " 'getrich',\n",
              " 'getjacked',\n",
              " 'getwealthy',\n",
              " 'getsmarter',\n",
              " 'gobiernodeinutiles',\n",
              " 'podcast',\n",
              " 'news',\n",
              " 'tesla',\n",
              " 'wedding',\n",
              " 'florida',\n",
              " 'donate',\n",
              " 'tesla',\n",
              " 'church',\n",
              " 'weddinghall',\n",
              " 'club',\n",
              " 'paws',\n",
              " 'taxdeductible',\n",
              " 'tesla',\n",
              " 'ercot',\n",
              " 'americanoligarch',\n",
              " 'neuralink',\n",
              " 'spacex',\n",
              " 'tesla',\n",
              " 'boringcompany',\n",
              " 'tesla',\n",
              " 'ev',\n",
              " 'climatechange',\n",
              " 'renewables',\n",
              " 'renewableenergy',\n",
              " 'tesla',\n",
              " 'teslalover',\n",
              " 'roadscenery',\n",
              " 'beautiful',\n",
              " 'tsla',\n",
              " 'tesla',\n",
              " 'nikolatesla',\n",
              " 'artistontwitter',\n",
              " 'tesla',\n",
              " 'takeover',\n",
              " 'trading',\n",
              " 'tesla',\n",
              " 'casa',\n",
              " 'jardimpaulista',\n",
              " '4suites',\n",
              " 'rimowa',\n",
              " 'tesla',\n",
              " 'cimed',\n",
              " 'apple',\n",
              " 'twitter',\n",
              " 'twittertakeover',\n",
              " 'tesla',\n",
              " 'entérate',\n",
              " 'supplychain',\n",
              " 'blockchain',\n",
              " 'worldtrade',\n",
              " 'fortune500',\n",
              " 'btc',\n",
              " 'eth',\n",
              " 'altcoin',\n",
              " 'crypto',\n",
              " 'metaverse',\n",
              " 'nft',\n",
              " 'doge',\n",
              " 'tesla',\n",
              " 'egld',\n",
              " 'caraudiofab',\n",
              " 'twitter',\n",
              " 'elonmusk',\n",
              " 'tesla',\n",
              " 'cocacola',\n",
              " 'modelx',\n",
              " 'tesla',\n",
              " 'smartnews',\n",
              " 'electricvehicles',\n",
              " 'video',\n",
              " 'distributedenergy',\n",
              " 'energymanagement',\n",
              " 'energystorage',\n",
              " 'tesla',\n",
              " 'takeover',\n",
              " 'electricvehicles',\n",
              " 'news',\n",
              " 'technology',\n",
              " 'elonmusk',\n",
              " 'musk',\n",
              " 'chucknorris',\n",
              " 'tesla',\n",
              " 'twitter',\n",
              " 'motivation',\n",
              " 'inspiration',\n",
              " 'dogecoin',\n",
              " 'doge',\n",
              " 'doonlygoodeveryday',\n",
              " 'tesla',\n",
              " 'tsla',\n",
              " 'tesla',\n",
              " 'twitter',\n",
              " 'onyxcoating',\n",
              " 'tesla',\n",
              " 'grünheide',\n",
              " 'adecco',\n",
              " 'tesla',\n",
              " 'indicator',\n",
              " 'tesla',\n",
              " 'stockstobuy',\n",
              " 'stockmarket',\n",
              " 'tesla',\n",
              " 'modely',\n",
              " 'teslamodely',\n",
              " 'elonmusk',\n",
              " 'longrangeawd',\n",
              " 'update',\n",
              " 'new',\n",
              " 'video',\n",
              " 'musk',\n",
              " 'spacex',\n",
              " 'shitium',\n",
              " 'acquisitions',\n",
              " 'breakingnews',\n",
              " 'renewableenergy',\n",
              " 'cleanpower',\n",
              " 'teslastock',\n",
              " 'elonmusk',\n",
              " 'stocks',\n",
              " 'investing',\n",
              " 'tesla',\n",
              " 'elonmusk',\n",
              " 'tesla',\n",
              " 'tesla',\n",
              " 'ford',\n",
              " 'generalmotors',\n",
              " 'elonmusk',\n",
              " 'twitter',\n",
              " 'playzenik',\n",
              " 'nikolatesla',\n",
              " 'tesla',\n",
              " 'argentina',\n",
              " 'tnrgold',\n",
              " 'royalties',\n",
              " 'marianalithium',\n",
              " 'ganfeng',\n",
              " 'lithium',\n",
              " 'evs',\n",
              " 'tesla',\n",
              " 'revolution',\n",
              " 'vw',\n",
              " 'bmw',\n",
              " 'batteries',\n",
              " 'renewables',\n",
              " 'solar',\n",
              " 'electricvehicles',\n",
              " 'tesla',\n",
              " 'ev',\n",
              " 'renewables',\n",
              " 'climatechange',\n",
              " 'renewableenergy',\n",
              " 'electricvehicles',\n",
              " 'electriccars',\n",
              " 'es_f',\n",
              " 'trump',\n",
              " 'lithium',\n",
              " 'revolution',\n",
              " 'tnrgold',\n",
              " 'evs',\n",
              " 'tesla',\n",
              " 'marianalithium',\n",
              " 'ganfeng',\n",
              " 'tesla',\n",
              " 'tessie',\n",
              " 'spy',\n",
              " 'spx',\n",
              " 'loveisland',\n",
              " 'tesla',\n",
              " 'modely',\n",
              " 'oig',\n",
              " 'metafighter',\n",
              " 'nftgame',\n",
              " 'p2e',\n",
              " 'bsg',\n",
              " 'electricvehicle',\n",
              " 'ev',\n",
              " 'foxbusiness',\n",
              " 'emergency',\n",
              " 'prehospital',\n",
              " 'ed',\n",
              " 'electricvehicles',\n",
              " 'tesla',\n",
              " 'ev',\n",
              " 'renewables',\n",
              " 'climatechange',\n",
              " 'renewableenergy',\n",
              " 'expressas',\n",
              " 'tesla',\n",
              " 'automoveis',\n",
              " 'carros',\n",
              " 'veiculos',\n",
              " 'carroeletrico',\n",
              " 'publiracing',\n",
              " 'twitter',\n",
              " 'wedbushsecurities',\n",
              " 'elonmusk',\n",
              " 'danielives',\n",
              " 'corporateamerica',\n",
              " 'tesla',\n",
              " 'fintwit',\n",
              " 'tesla',\n",
              " 'twitter',\n",
              " 'cryptocurrencynew',\n",
              " 'news',\n",
              " 'musk',\n",
              " 'twitter',\n",
              " 'crypto',\n",
              " 'tesla',\n",
              " 'ainvest',\n",
              " 'ainvest_wire',\n",
              " 'stocks',\n",
              " 'bullmarket',\n",
              " 'investment',\n",
              " 'tradingview',\n",
              " 'stocks',\n",
              " 'stockstowatch',\n",
              " 'allenandcosunvalley',\n",
              " 'ev',\n",
              " 'tesla',\n",
              " 'starman',\n",
              " 'spacex',\n",
              " 'tesla',\n",
              " 'ellonmusk',\n",
              " 'rocket',\n",
              " 'lanzamiento',\n",
              " 'iss',\n",
              " 'nasa',\n",
              " 'esa',\n",
              " 'space',\n",
              " 'universe',\n",
              " 'earth',\n",
              " 'mars',\n",
              " 'tsla',\n",
              " 'tesla',\n",
              " 'tesla',\n",
              " 'teslafrance',\n",
              " 'nothappy',\n",
              " 'fermeture',\n",
              " 'hamilton',\n",
              " 'qew',\n",
              " 'technology',\n",
              " 'fermeture',\n",
              " 'hamilton',\n",
              " 'qew',\n",
              " 'closure',\n",
              " 'hamilton',\n",
              " 'qew',\n",
              " 'closure',\n",
              " 'hamilton',\n",
              " 'qew',\n",
              " 'electricvehicles',\n",
              " 'tesla',\n",
              " 'ev',\n",
              " 'renewables',\n",
              " 'climatechange',\n",
              " ...]"
            ]
          },
          "metadata": {},
          "execution_count": 30
        }
      ]
    },
    {
      "cell_type": "code",
      "source": [
        "# Frequency distribution\n",
        "freq_dist = nltk.FreqDist(all_hashtags)\n",
        "freq_dist"
      ],
      "metadata": {
        "id": "qpR7QP0YjbKq",
        "colab": {
          "base_uri": "https://localhost:8080/"
        },
        "outputId": "6c707789-49a4-4f76-b707-5ec8053e18a7"
      },
      "execution_count": null,
      "outputs": [
        {
          "output_type": "execute_result",
          "data": {
            "text/plain": [
              "FreqDist({'tesla': 721, 'elonmusk': 183, 'twitter': 145, 'ev': 56, 'tsla': 42, 'spacex': 41, 'model3': 40, 'electricvehicles': 37, 'musk': 37, 'renewables': 32, ...})"
            ]
          },
          "metadata": {},
          "execution_count": 31
        }
      ]
    },
    {
      "cell_type": "code",
      "source": [
        "# Convert to DataFrame\n",
        "df_hashtags = pd.DataFrame(freq_dist.items(), columns=['Hashtag', 'Count'])\n",
        "df_hashtags.head()"
      ],
      "metadata": {
        "id": "hxrmNxMVjhAJ",
        "colab": {
          "base_uri": "https://localhost:8080/",
          "height": 206
        },
        "outputId": "3aa84625-b54d-4a7f-caa5-61703d07c6f1"
      },
      "execution_count": null,
      "outputs": [
        {
          "output_type": "execute_result",
          "data": {
            "text/plain": [
              "        Hashtag  Count\n",
              "0         think     12\n",
              "1        mexico     14\n",
              "2  constitution     13\n",
              "3       twitter    145\n",
              "4      elonmusk    183"
            ],
            "text/html": [
              "\n",
              "  <div id=\"df-2499c685-c3fe-4263-b413-e8aebabbb9cd\" class=\"colab-df-container\">\n",
              "    <div>\n",
              "<style scoped>\n",
              "    .dataframe tbody tr th:only-of-type {\n",
              "        vertical-align: middle;\n",
              "    }\n",
              "\n",
              "    .dataframe tbody tr th {\n",
              "        vertical-align: top;\n",
              "    }\n",
              "\n",
              "    .dataframe thead th {\n",
              "        text-align: right;\n",
              "    }\n",
              "</style>\n",
              "<table border=\"1\" class=\"dataframe\">\n",
              "  <thead>\n",
              "    <tr style=\"text-align: right;\">\n",
              "      <th></th>\n",
              "      <th>Hashtag</th>\n",
              "      <th>Count</th>\n",
              "    </tr>\n",
              "  </thead>\n",
              "  <tbody>\n",
              "    <tr>\n",
              "      <th>0</th>\n",
              "      <td>think</td>\n",
              "      <td>12</td>\n",
              "    </tr>\n",
              "    <tr>\n",
              "      <th>1</th>\n",
              "      <td>mexico</td>\n",
              "      <td>14</td>\n",
              "    </tr>\n",
              "    <tr>\n",
              "      <th>2</th>\n",
              "      <td>constitution</td>\n",
              "      <td>13</td>\n",
              "    </tr>\n",
              "    <tr>\n",
              "      <th>3</th>\n",
              "      <td>twitter</td>\n",
              "      <td>145</td>\n",
              "    </tr>\n",
              "    <tr>\n",
              "      <th>4</th>\n",
              "      <td>elonmusk</td>\n",
              "      <td>183</td>\n",
              "    </tr>\n",
              "  </tbody>\n",
              "</table>\n",
              "</div>\n",
              "    <div class=\"colab-df-buttons\">\n",
              "\n",
              "  <div class=\"colab-df-container\">\n",
              "    <button class=\"colab-df-convert\" onclick=\"convertToInteractive('df-2499c685-c3fe-4263-b413-e8aebabbb9cd')\"\n",
              "            title=\"Convert this dataframe to an interactive table.\"\n",
              "            style=\"display:none;\">\n",
              "\n",
              "  <svg xmlns=\"http://www.w3.org/2000/svg\" height=\"24px\" viewBox=\"0 -960 960 960\">\n",
              "    <path d=\"M120-120v-720h720v720H120Zm60-500h600v-160H180v160Zm220 220h160v-160H400v160Zm0 220h160v-160H400v160ZM180-400h160v-160H180v160Zm440 0h160v-160H620v160ZM180-180h160v-160H180v160Zm440 0h160v-160H620v160Z\"/>\n",
              "  </svg>\n",
              "    </button>\n",
              "\n",
              "  <style>\n",
              "    .colab-df-container {\n",
              "      display:flex;\n",
              "      gap: 12px;\n",
              "    }\n",
              "\n",
              "    .colab-df-convert {\n",
              "      background-color: #E8F0FE;\n",
              "      border: none;\n",
              "      border-radius: 50%;\n",
              "      cursor: pointer;\n",
              "      display: none;\n",
              "      fill: #1967D2;\n",
              "      height: 32px;\n",
              "      padding: 0 0 0 0;\n",
              "      width: 32px;\n",
              "    }\n",
              "\n",
              "    .colab-df-convert:hover {\n",
              "      background-color: #E2EBFA;\n",
              "      box-shadow: 0px 1px 2px rgba(60, 64, 67, 0.3), 0px 1px 3px 1px rgba(60, 64, 67, 0.15);\n",
              "      fill: #174EA6;\n",
              "    }\n",
              "\n",
              "    .colab-df-buttons div {\n",
              "      margin-bottom: 4px;\n",
              "    }\n",
              "\n",
              "    [theme=dark] .colab-df-convert {\n",
              "      background-color: #3B4455;\n",
              "      fill: #D2E3FC;\n",
              "    }\n",
              "\n",
              "    [theme=dark] .colab-df-convert:hover {\n",
              "      background-color: #434B5C;\n",
              "      box-shadow: 0px 1px 3px 1px rgba(0, 0, 0, 0.15);\n",
              "      filter: drop-shadow(0px 1px 2px rgba(0, 0, 0, 0.3));\n",
              "      fill: #FFFFFF;\n",
              "    }\n",
              "  </style>\n",
              "\n",
              "    <script>\n",
              "      const buttonEl =\n",
              "        document.querySelector('#df-2499c685-c3fe-4263-b413-e8aebabbb9cd button.colab-df-convert');\n",
              "      buttonEl.style.display =\n",
              "        google.colab.kernel.accessAllowed ? 'block' : 'none';\n",
              "\n",
              "      async function convertToInteractive(key) {\n",
              "        const element = document.querySelector('#df-2499c685-c3fe-4263-b413-e8aebabbb9cd');\n",
              "        const dataTable =\n",
              "          await google.colab.kernel.invokeFunction('convertToInteractive',\n",
              "                                                    [key], {});\n",
              "        if (!dataTable) return;\n",
              "\n",
              "        const docLinkHtml = 'Like what you see? Visit the ' +\n",
              "          '<a target=\"_blank\" href=https://colab.research.google.com/notebooks/data_table.ipynb>data table notebook</a>'\n",
              "          + ' to learn more about interactive tables.';\n",
              "        element.innerHTML = '';\n",
              "        dataTable['output_type'] = 'display_data';\n",
              "        await google.colab.output.renderOutput(dataTable, element);\n",
              "        const docLink = document.createElement('div');\n",
              "        docLink.innerHTML = docLinkHtml;\n",
              "        element.appendChild(docLink);\n",
              "      }\n",
              "    </script>\n",
              "  </div>\n",
              "\n",
              "\n",
              "<div id=\"df-274ed8d9-c0b5-46c6-8fd7-4d6208e3f176\">\n",
              "  <button class=\"colab-df-quickchart\" onclick=\"quickchart('df-274ed8d9-c0b5-46c6-8fd7-4d6208e3f176')\"\n",
              "            title=\"Suggest charts\"\n",
              "            style=\"display:none;\">\n",
              "\n",
              "<svg xmlns=\"http://www.w3.org/2000/svg\" height=\"24px\"viewBox=\"0 0 24 24\"\n",
              "     width=\"24px\">\n",
              "    <g>\n",
              "        <path d=\"M19 3H5c-1.1 0-2 .9-2 2v14c0 1.1.9 2 2 2h14c1.1 0 2-.9 2-2V5c0-1.1-.9-2-2-2zM9 17H7v-7h2v7zm4 0h-2V7h2v10zm4 0h-2v-4h2v4z\"/>\n",
              "    </g>\n",
              "</svg>\n",
              "  </button>\n",
              "\n",
              "<style>\n",
              "  .colab-df-quickchart {\n",
              "      --bg-color: #E8F0FE;\n",
              "      --fill-color: #1967D2;\n",
              "      --hover-bg-color: #E2EBFA;\n",
              "      --hover-fill-color: #174EA6;\n",
              "      --disabled-fill-color: #AAA;\n",
              "      --disabled-bg-color: #DDD;\n",
              "  }\n",
              "\n",
              "  [theme=dark] .colab-df-quickchart {\n",
              "      --bg-color: #3B4455;\n",
              "      --fill-color: #D2E3FC;\n",
              "      --hover-bg-color: #434B5C;\n",
              "      --hover-fill-color: #FFFFFF;\n",
              "      --disabled-bg-color: #3B4455;\n",
              "      --disabled-fill-color: #666;\n",
              "  }\n",
              "\n",
              "  .colab-df-quickchart {\n",
              "    background-color: var(--bg-color);\n",
              "    border: none;\n",
              "    border-radius: 50%;\n",
              "    cursor: pointer;\n",
              "    display: none;\n",
              "    fill: var(--fill-color);\n",
              "    height: 32px;\n",
              "    padding: 0;\n",
              "    width: 32px;\n",
              "  }\n",
              "\n",
              "  .colab-df-quickchart:hover {\n",
              "    background-color: var(--hover-bg-color);\n",
              "    box-shadow: 0 1px 2px rgba(60, 64, 67, 0.3), 0 1px 3px 1px rgba(60, 64, 67, 0.15);\n",
              "    fill: var(--button-hover-fill-color);\n",
              "  }\n",
              "\n",
              "  .colab-df-quickchart-complete:disabled,\n",
              "  .colab-df-quickchart-complete:disabled:hover {\n",
              "    background-color: var(--disabled-bg-color);\n",
              "    fill: var(--disabled-fill-color);\n",
              "    box-shadow: none;\n",
              "  }\n",
              "\n",
              "  .colab-df-spinner {\n",
              "    border: 2px solid var(--fill-color);\n",
              "    border-color: transparent;\n",
              "    border-bottom-color: var(--fill-color);\n",
              "    animation:\n",
              "      spin 1s steps(1) infinite;\n",
              "  }\n",
              "\n",
              "  @keyframes spin {\n",
              "    0% {\n",
              "      border-color: transparent;\n",
              "      border-bottom-color: var(--fill-color);\n",
              "      border-left-color: var(--fill-color);\n",
              "    }\n",
              "    20% {\n",
              "      border-color: transparent;\n",
              "      border-left-color: var(--fill-color);\n",
              "      border-top-color: var(--fill-color);\n",
              "    }\n",
              "    30% {\n",
              "      border-color: transparent;\n",
              "      border-left-color: var(--fill-color);\n",
              "      border-top-color: var(--fill-color);\n",
              "      border-right-color: var(--fill-color);\n",
              "    }\n",
              "    40% {\n",
              "      border-color: transparent;\n",
              "      border-right-color: var(--fill-color);\n",
              "      border-top-color: var(--fill-color);\n",
              "    }\n",
              "    60% {\n",
              "      border-color: transparent;\n",
              "      border-right-color: var(--fill-color);\n",
              "    }\n",
              "    80% {\n",
              "      border-color: transparent;\n",
              "      border-right-color: var(--fill-color);\n",
              "      border-bottom-color: var(--fill-color);\n",
              "    }\n",
              "    90% {\n",
              "      border-color: transparent;\n",
              "      border-bottom-color: var(--fill-color);\n",
              "    }\n",
              "  }\n",
              "</style>\n",
              "\n",
              "  <script>\n",
              "    async function quickchart(key) {\n",
              "      const quickchartButtonEl =\n",
              "        document.querySelector('#' + key + ' button');\n",
              "      quickchartButtonEl.disabled = true;  // To prevent multiple clicks.\n",
              "      quickchartButtonEl.classList.add('colab-df-spinner');\n",
              "      try {\n",
              "        const charts = await google.colab.kernel.invokeFunction(\n",
              "            'suggestCharts', [key], {});\n",
              "      } catch (error) {\n",
              "        console.error('Error during call to suggestCharts:', error);\n",
              "      }\n",
              "      quickchartButtonEl.classList.remove('colab-df-spinner');\n",
              "      quickchartButtonEl.classList.add('colab-df-quickchart-complete');\n",
              "    }\n",
              "    (() => {\n",
              "      let quickchartButtonEl =\n",
              "        document.querySelector('#df-274ed8d9-c0b5-46c6-8fd7-4d6208e3f176 button');\n",
              "      quickchartButtonEl.style.display =\n",
              "        google.colab.kernel.accessAllowed ? 'block' : 'none';\n",
              "    })();\n",
              "  </script>\n",
              "</div>\n",
              "\n",
              "    </div>\n",
              "  </div>\n"
            ],
            "application/vnd.google.colaboratory.intrinsic+json": {
              "type": "dataframe",
              "variable_name": "df_hashtags",
              "summary": "{\n  \"name\": \"df_hashtags\",\n  \"rows\": 1540,\n  \"fields\": [\n    {\n      \"column\": \"Hashtag\",\n      \"properties\": {\n        \"dtype\": \"string\",\n        \"num_unique_values\": 1540,\n        \"samples\": [\n          \"sec\",\n          \"e_car_lie\",\n          \"oekraine\"\n        ],\n        \"semantic_type\": \"\",\n        \"description\": \"\"\n      }\n    },\n    {\n      \"column\": \"Count\",\n      \"properties\": {\n        \"dtype\": \"number\",\n        \"std\": 19,\n        \"min\": 1,\n        \"max\": 721,\n        \"num_unique_values\": 32,\n        \"samples\": [\n          10,\n          42,\n          21\n        ],\n        \"semantic_type\": \"\",\n        \"description\": \"\"\n      }\n    }\n  ]\n}"
            }
          },
          "metadata": {},
          "execution_count": 32
        }
      ]
    },
    {
      "cell_type": "code",
      "source": [
        "# Top 10 hashtags\n",
        "top_10 = df_hashtags.nlargest(10, 'Count')"
      ],
      "metadata": {
        "id": "Qw5UtgkYjjd2"
      },
      "execution_count": null,
      "outputs": []
    },
    {
      "cell_type": "code",
      "source": [
        "# Plot\n",
        "plt.figure(figsize=(16, 5))\n",
        "sns.barplot(data=top_10, x='Hashtag', y='Count')\n",
        "plt.title(\"Top 10 Most Popular Hashtags\")\n",
        "plt.ylabel(\"Count\")\n",
        "plt.show()"
      ],
      "metadata": {
        "id": "pv-4Jb-Yjq5_",
        "colab": {
          "base_uri": "https://localhost:8080/",
          "height": 305
        },
        "outputId": "d2763126-6e4e-4742-c8e7-e53dda6622af"
      },
      "execution_count": null,
      "outputs": [
        {
          "output_type": "display_data",
          "data": {
            "text/plain": [
              "<Figure size 1600x500 with 1 Axes>"
            ],
            "image/png": "[encoded data removed]"
          },
          "metadata": {}
        }
      ]
    },
    {
      "cell_type": "markdown",
      "source": [
        "## N Gram Analysis"
      ],
      "metadata": {
        "id": "q44ezb7Bj92c"
      }
    },
    {
      "cell_type": "code",
      "source": [
        "from nltk import ngrams\n",
        "from collections import Counter"
      ],
      "metadata": {
        "id": "adqCfoSYkQRQ"
      },
      "execution_count": null,
      "outputs": []
    },
    {
      "cell_type": "code",
      "source": [
        "# Compute bigram frequencies\n",
        "bigrams = list(ngrams(all_text.lower().split(), 2))\n",
        "bigram_freq = Counter(bigrams)"
      ],
      "metadata": {
        "id": "jBes-jEIjsAR"
      },
      "execution_count": null,
      "outputs": []
    },
    {
      "cell_type": "code",
      "source": [
        "# Create and plot top N bigrams\n",
        "top_N = 20\n",
        "top_bigrams = bigram_freq.most_common(top_N)\n",
        "bigram_df = pd.DataFrame(top_bigrams, columns=['Bigram', 'Frequency'])"
      ],
      "metadata": {
        "id": "yk5mbz88kSSp"
      },
      "execution_count": null,
      "outputs": []
    },
    {
      "cell_type": "code",
      "source": [
        "bigram_df.plot(x='Bigram', y='Frequency', kind='barh', figsize=(10, 6))\n",
        "plt.title(f'Top {top_N} Most Frequent Bigrams')\n",
        "plt.xlabel('Bigram')\n",
        "plt.ylabel('Frequency')\n",
        "plt.show()"
      ],
      "metadata": {
        "id": "4RkF1LSXkixl",
        "colab": {
          "base_uri": "https://localhost:8080/",
          "height": 492
        },
        "outputId": "171e8ff7-d732-46be-ff6b-0d430cf1e155"
      },
      "execution_count": null,
      "outputs": [
        {
          "output_type": "display_data",
          "data": {
            "text/plain": [
              "<Figure size 1000x600 with 1 Axes>"
            ],
            "image/png": "[encoded data removed]"
          },
          "metadata": {}
        }
      ]
    },
    {
      "cell_type": "code",
      "source": [
        "# Compute trigram frequencies\n",
        "trigrams = list(ngrams(all_text.lower().split(), 3))\n",
        "trigram_freq = Counter(trigrams)"
      ],
      "metadata": {
        "id": "h1hkZqRFklBa"
      },
      "execution_count": null,
      "outputs": []
    },
    {
      "cell_type": "code",
      "source": [
        "# Create and plot top N trigrams\n",
        "top_N = 20\n",
        "top_trigrams = trigram_freq.most_common(top_N)\n",
        "trigram_df = pd.DataFrame(top_trigrams, columns=['trigram', 'Frequency'])"
      ],
      "metadata": {
        "id": "JgVh_tjyk1LV"
      },
      "execution_count": null,
      "outputs": []
    },
    {
      "cell_type": "code",
      "source": [
        "trigram_df.plot(x='trigram', y='Frequency', kind='barh', figsize=(10, 6))\n",
        "plt.title(f'Top {top_N} Most Frequent trigrams')\n",
        "plt.xlabel('trigram')\n",
        "plt.ylabel('Frequency')\n",
        "plt.show()"
      ],
      "metadata": {
        "id": "fHhsdfD_k7Iq",
        "colab": {
          "base_uri": "https://localhost:8080/",
          "height": 432
        },
        "outputId": "4da0c5b7-7636-4b44-804e-c332cbac1cc2"
      },
      "execution_count": null,
      "outputs": [
        {
          "output_type": "display_data",
          "data": {
            "text/plain": [
              "<Figure size 1000x600 with 1 Axes>"
            ],
            "image/png": "[encoded data removed]"
          },
          "metadata": {}
        }
      ]
    },
    {
      "cell_type": "markdown",
      "source": [
        "## Sentiment Analysis"
      ],
      "metadata": {
        "id": "M8TgssCplnHV"
      }
    },
    {
      "cell_type": "code",
      "source": [
        "import nltk\n",
        "from nltk.sentiment import SentimentIntensityAnalyzer\n",
        "nltk.download('vader_lexicon')"
      ],
      "metadata": {
        "id": "1bkxNZPek_Cq",
        "colab": {
          "base_uri": "https://localhost:8080/"
        },
        "outputId": "57c9e0d2-ccfe-42f0-9089-3dae3979e023"
      },
      "execution_count": null,
      "outputs": [
        {
          "output_type": "stream",
          "name": "stderr",
          "text": [
            "[nltk_data] Downloading package vader_lexicon to /root/nltk_data...\n",
            "[nltk_data]   Package vader_lexicon is already up-to-date!\n"
          ]
        },
        {
          "output_type": "execute_result",
          "data": {
            "text/plain": [
              "True"
            ]
          },
          "metadata": {},
          "execution_count": 42
        }
      ]
    },
    {
      "cell_type": "code",
      "source": [
        "# Initialize VADER\n",
        "sia = SentimentIntensityAnalyzer()"
      ],
      "metadata": {
        "id": "r3S18MoRlrIE"
      },
      "execution_count": null,
      "outputs": []
    },
    {
      "cell_type": "code",
      "source": [
        "# Apply sentiment scoring\n",
        "df['sentiment_score'] = df['clean_tweet'].apply(lambda x: sia.polarity_scores(x)['compound'])"
      ],
      "metadata": {
        "id": "GAbegGullxCJ"
      },
      "execution_count": null,
      "outputs": []
    },
    {
      "cell_type": "code",
      "source": [
        "df['sentiment_label'] = df['sentiment_score'].apply(\n",
        "    lambda score: 'positive' if score > 0.05 else ('negative' if score < -0.05 else 'neutral')\n",
        ")"
      ],
      "metadata": {
        "id": "A9bqSfAFl3LF"
      },
      "execution_count": null,
      "outputs": []
    },
    {
      "cell_type": "code",
      "source": [
        "plt.figure(figsize=(8, 3))\n",
        "sns.histplot(df['sentiment_score'], bins=20, kde=True)\n",
        "plt.title('Sentiment Score Distribution')\n",
        "plt.xlabel('Compound Sentiment Score')\n",
        "plt.ylabel('Tweet Count')\n",
        "plt.tight_layout()\n",
        "plt.show()"
      ],
      "metadata": {
        "id": "vmiO3pbwl659",
        "colab": {
          "base_uri": "https://localhost:8080/",
          "height": 307
        },
        "outputId": "02c9c49e-1583-49a0-9d80-d227665cb2c9"
      },
      "execution_count": null,
      "outputs": [
        {
          "output_type": "display_data",
          "data": {
            "text/plain": [
              "<Figure size 800x300 with 1 Axes>"
            ],
            "image/png": "[encoded data removed]"
          },
          "metadata": {}
        }
      ]
    },
    {
      "cell_type": "code",
      "source": [
        "sns.countplot(data=df, x='sentiment_label', order=['positive', 'neutral', 'negative'])\n",
        "plt.title('Sentiment Label Distribution')\n",
        "plt.show()"
      ],
      "metadata": {
        "id": "g504h4AgmFQj",
        "colab": {
          "base_uri": "https://localhost:8080/",
          "height": 472
        },
        "outputId": "5f216af5-3480-4829-fdc5-ebf2510524c2"
      },
      "execution_count": null,
      "outputs": [
        {
          "output_type": "display_data",
          "data": {
            "text/plain": [
              "<Figure size 640x480 with 1 Axes>"
            ],
            "image/png": "[encoded data removed]"
          },
          "metadata": {}
        }
      ]
    },
    {
      "cell_type": "markdown",
      "source": [
        "## Top 10 Rare Words"
      ],
      "metadata": {
        "id": "TNxx9J-Emk-S"
      }
    },
    {
      "cell_type": "code",
      "source": [
        "# Combine all cleaned tweets into one string\n",
        "all_words = ' '.join(df['clean_tweet']).split()\n",
        "\n",
        "# Count word frequencies\n",
        "word_freq = Counter(all_words)\n"
      ],
      "metadata": {
        "id": "RfwZUJYImVwP"
      },
      "execution_count": null,
      "outputs": []
    },
    {
      "cell_type": "code",
      "source": [
        "# Get 10 rarest words (frequency = lowest)\n",
        "rare_words = word_freq.most_common()[::-1][:10]\n"
      ],
      "metadata": {
        "id": "6xIYRyW5mqIJ"
      },
      "execution_count": null,
      "outputs": []
    },
    {
      "cell_type": "code",
      "source": [
        "# Create DataFrame\n",
        "rare_df = pd.DataFrame(rare_words, columns=['Word', 'Frequency'])"
      ],
      "metadata": {
        "id": "ZpdwzxUpmtq6"
      },
      "execution_count": null,
      "outputs": []
    },
    {
      "cell_type": "code",
      "source": [
        "plt.figure(figsize=(10, 5))\n",
        "sns.barplot(data=rare_df, x='Frequency', y='Word', palette='magma')\n",
        "plt.title('Top 10 Rare Words')\n",
        "plt.xlabel('Frequency')\n",
        "plt.ylabel('Words')\n",
        "plt.tight_layout()\n",
        "plt.show()"
      ],
      "metadata": {
        "id": "ZNFke41ImwLt",
        "colab": {
          "base_uri": "https://localhost:8080/",
          "height": 415
        },
        "outputId": "50d2a97c-eb68-4014-91b8-d6a5be2df615"
      },
      "execution_count": null,
      "outputs": [
        {
          "output_type": "display_data",
          "data": {
            "text/plain": [
              "<Figure size 1000x500 with 1 Axes>"
            ],
            "image/png": "[encoded data removed]"
          },
          "metadata": {}
        }
      ]
    },
    {
      "cell_type": "markdown",
      "source": [
        "# Count vectorizer"
      ],
      "metadata": {
        "id": "2yy0LBCFnFbv"
      }
    },
    {
      "cell_type": "code",
      "source": [
        "from sklearn.feature_extraction.text import CountVectorizer\n"
      ],
      "metadata": {
        "id": "oFLSkT0BmyOk"
      },
      "execution_count": null,
      "outputs": []
    },
    {
      "cell_type": "code",
      "source": [
        "count_vectorizer = CountVectorizer(max_df=0.95, min_df=2, stop_words='english')\n"
      ],
      "metadata": {
        "id": "TqKU0BMAnJL0"
      },
      "execution_count": null,
      "outputs": []
    },
    {
      "cell_type": "code",
      "source": [
        "# Fit and transform the clean tweets\n",
        "count_matrix = count_vectorizer.fit_transform(df['clean_tweet'])"
      ],
      "metadata": {
        "id": "XB7XlEZInJN7"
      },
      "execution_count": null,
      "outputs": []
    },
    {
      "cell_type": "code",
      "source": [
        "# Get feature names (words)\n",
        "feature_names = count_vectorizer.get_feature_names_out()\n",
        "feature_names"
      ],
      "metadata": {
        "id": "F98vtyR5nJRS",
        "colab": {
          "base_uri": "https://localhost:8080/"
        },
        "outputId": "65887c2b-114a-4967-99b1-f0bb9d65a069"
      },
      "execution_count": null,
      "outputs": [
        {
          "output_type": "execute_result",
          "data": {
            "text/plain": [
              "array(['00', '000', '00000001', ..., 'เง', 'แต', '๑o'], dtype=object)"
            ]
          },
          "metadata": {},
          "execution_count": 55
        }
      ]
    },
    {
      "cell_type": "code",
      "source": [
        "# Extract top 5 keywords by count for each tweet\n",
        "top_keywords_count = []\n",
        "for i in range(len(df)):\n",
        "    feature_index = count_matrix[i, :].nonzero()[1]\n",
        "    count_scores = zip(feature_index, [count_matrix[i, x] for x in feature_index])\n",
        "    top_keywords_count.append(\n",
        "        sorted([(feature_names[i], int(s)) for (i, s) in count_scores], key=lambda x: x[1], reverse=True)[:5]\n",
        "    )\n"
      ],
      "metadata": {
        "id": "NwjBHrwRoHQc"
      },
      "execution_count": null,
      "outputs": []
    },
    {
      "cell_type": "code",
      "source": [
        "df['top_keywords_count'] = top_keywords_count\n",
        "df[['clean_tweet', 'top_keywords_count']].head(10)\n"
      ],
      "metadata": {
        "id": "d1KRby0ioHT8",
        "colab": {
          "base_uri": "https://localhost:8080/",
          "height": 363
        },
        "outputId": "56f68496-9135-40f7-96aa-6c76b1caab71"
      },
      "execution_count": null,
      "outputs": [
        {
          "output_type": "execute_result",
          "data": {
            "text/plain": [
              "                                         clean_tweet  \\\n",
              "0  six 4 still live home homeschooled taught self...   \n",
              "1                        go dozen kids… missing 3 go   \n",
              "2  think buying country mexico could turn richest...   \n",
              "3  innocuous actual receipt yet ’ asked anyone bu...   \n",
              "4  tesla wall battery save power went still run a...   \n",
              "5  sale 2021 used tesla model standard range rear...   \n",
              "6  think buying country mexico could turn richest...   \n",
              "7  tsla full macd cross yet remember buy 700 sell...   \n",
              "8  far remember leonardo da vinci already wrote s...   \n",
              "9  let ’ real average american going pay 40k 70k ...   \n",
              "\n",
              "                                  top_keywords_count  \n",
              "0  [(education, 2), (live, 1), (home, 1), (taught...  \n",
              "1              [(dozen, 1), (kids, 1), (missing, 1)]  \n",
              "2  [(country, 2), (mexico, 2), (think, 1), (buyin...  \n",
              "3  [(actual, 1), (receipt, 1), (asked, 1), (buy, ...  \n",
              "4  [(tesla, 1), (100, 1), (wall, 1), (battery, 1)...  \n",
              "5  [(tesla, 1), (sale, 1), (2021, 1), (used, 1), ...  \n",
              "6  [(country, 2), (mexico, 2), (think, 1), (buyin...  \n",
              "7  [(700, 2), (buying, 1), (buy, 1), (tesla, 1), ...  \n",
              "8  [(love, 3), (leonardo, 2), (child, 2), (rememb...  \n",
              "9  [(tesla, 2), (car, 2), (right, 1), (let, 1), (...  "
            ],
            "text/html": [
              "\n",
              "  <div id=\"df-24ca39a3-0ff9-4b93-8403-0c53296ab3ae\" class=\"colab-df-container\">\n",
              "    <div>\n",
              "<style scoped>\n",
              "    .dataframe tbody tr th:only-of-type {\n",
              "        vertical-align: middle;\n",
              "    }\n",
              "\n",
              "    .dataframe tbody tr th {\n",
              "        vertical-align: top;\n",
              "    }\n",
              "\n",
              "    .dataframe thead th {\n",
              "        text-align: right;\n",
              "    }\n",
              "</style>\n",
              "<table border=\"1\" class=\"dataframe\">\n",
              "  <thead>\n",
              "    <tr style=\"text-align: right;\">\n",
              "      <th></th>\n",
              "      <th>clean_tweet</th>\n",
              "      <th>top_keywords_count</th>\n",
              "    </tr>\n",
              "  </thead>\n",
              "  <tbody>\n",
              "    <tr>\n",
              "      <th>0</th>\n",
              "      <td>six 4 still live home homeschooled taught self...</td>\n",
              "      <td>[(education, 2), (live, 1), (home, 1), (taught...</td>\n",
              "    </tr>\n",
              "    <tr>\n",
              "      <th>1</th>\n",
              "      <td>go dozen kids… missing 3 go</td>\n",
              "      <td>[(dozen, 1), (kids, 1), (missing, 1)]</td>\n",
              "    </tr>\n",
              "    <tr>\n",
              "      <th>2</th>\n",
              "      <td>think buying country mexico could turn richest...</td>\n",
              "      <td>[(country, 2), (mexico, 2), (think, 1), (buyin...</td>\n",
              "    </tr>\n",
              "    <tr>\n",
              "      <th>3</th>\n",
              "      <td>innocuous actual receipt yet ’ asked anyone bu...</td>\n",
              "      <td>[(actual, 1), (receipt, 1), (asked, 1), (buy, ...</td>\n",
              "    </tr>\n",
              "    <tr>\n",
              "      <th>4</th>\n",
              "      <td>tesla wall battery save power went still run a...</td>\n",
              "      <td>[(tesla, 1), (100, 1), (wall, 1), (battery, 1)...</td>\n",
              "    </tr>\n",
              "    <tr>\n",
              "      <th>5</th>\n",
              "      <td>sale 2021 used tesla model standard range rear...</td>\n",
              "      <td>[(tesla, 1), (sale, 1), (2021, 1), (used, 1), ...</td>\n",
              "    </tr>\n",
              "    <tr>\n",
              "      <th>6</th>\n",
              "      <td>think buying country mexico could turn richest...</td>\n",
              "      <td>[(country, 2), (mexico, 2), (think, 1), (buyin...</td>\n",
              "    </tr>\n",
              "    <tr>\n",
              "      <th>7</th>\n",
              "      <td>tsla full macd cross yet remember buy 700 sell...</td>\n",
              "      <td>[(700, 2), (buying, 1), (buy, 1), (tesla, 1), ...</td>\n",
              "    </tr>\n",
              "    <tr>\n",
              "      <th>8</th>\n",
              "      <td>far remember leonardo da vinci already wrote s...</td>\n",
              "      <td>[(love, 3), (leonardo, 2), (child, 2), (rememb...</td>\n",
              "    </tr>\n",
              "    <tr>\n",
              "      <th>9</th>\n",
              "      <td>let ’ real average american going pay 40k 70k ...</td>\n",
              "      <td>[(tesla, 2), (car, 2), (right, 1), (let, 1), (...</td>\n",
              "    </tr>\n",
              "  </tbody>\n",
              "</table>\n",
              "</div>\n",
              "    <div class=\"colab-df-buttons\">\n",
              "\n",
              "  <div class=\"colab-df-container\">\n",
              "    <button class=\"colab-df-convert\" onclick=\"convertToInteractive('df-24ca39a3-0ff9-4b93-8403-0c53296ab3ae')\"\n",
              "            title=\"Convert this dataframe to an interactive table.\"\n",
              "            style=\"display:none;\">\n",
              "\n",
              "  <svg xmlns=\"http://www.w3.org/2000/svg\" height=\"24px\" viewBox=\"0 -960 960 960\">\n",
              "    <path d=\"M120-120v-720h720v720H120Zm60-500h600v-160H180v160Zm220 220h160v-160H400v160Zm0 220h160v-160H400v160ZM180-400h160v-160H180v160Zm440 0h160v-160H620v160ZM180-180h160v-160H180v160Zm440 0h160v-160H620v160Z\"/>\n",
              "  </svg>\n",
              "    </button>\n",
              "\n",
              "  <style>\n",
              "    .colab-df-container {\n",
              "      display:flex;\n",
              "      gap: 12px;\n",
              "    }\n",
              "\n",
              "    .colab-df-convert {\n",
              "      background-color: #E8F0FE;\n",
              "      border: none;\n",
              "      border-radius: 50%;\n",
              "      cursor: pointer;\n",
              "      display: none;\n",
              "      fill: #1967D2;\n",
              "      height: 32px;\n",
              "      padding: 0 0 0 0;\n",
              "      width: 32px;\n",
              "    }\n",
              "\n",
              "    .colab-df-convert:hover {\n",
              "      background-color: #E2EBFA;\n",
              "      box-shadow: 0px 1px 2px rgba(60, 64, 67, 0.3), 0px 1px 3px 1px rgba(60, 64, 67, 0.15);\n",
              "      fill: #174EA6;\n",
              "    }\n",
              "\n",
              "    .colab-df-buttons div {\n",
              "      margin-bottom: 4px;\n",
              "    }\n",
              "\n",
              "    [theme=dark] .colab-df-convert {\n",
              "      background-color: #3B4455;\n",
              "      fill: #D2E3FC;\n",
              "    }\n",
              "\n",
              "    [theme=dark] .colab-df-convert:hover {\n",
              "      background-color: #434B5C;\n",
              "      box-shadow: 0px 1px 3px 1px rgba(0, 0, 0, 0.15);\n",
              "      filter: drop-shadow(0px 1px 2px rgba(0, 0, 0, 0.3));\n",
              "      fill: #FFFFFF;\n",
              "    }\n",
              "  </style>\n",
              "\n",
              "    <script>\n",
              "      const buttonEl =\n",
              "        document.querySelector('#df-24ca39a3-0ff9-4b93-8403-0c53296ab3ae button.colab-df-convert');\n",
              "      buttonEl.style.display =\n",
              "        google.colab.kernel.accessAllowed ? 'block' : 'none';\n",
              "\n",
              "      async function convertToInteractive(key) {\n",
              "        const element = document.querySelector('#df-24ca39a3-0ff9-4b93-8403-0c53296ab3ae');\n",
              "        const dataTable =\n",
              "          await google.colab.kernel.invokeFunction('convertToInteractive',\n",
              "                                                    [key], {});\n",
              "        if (!dataTable) return;\n",
              "\n",
              "        const docLinkHtml = 'Like what you see? Visit the ' +\n",
              "          '<a target=\"_blank\" href=https://colab.research.google.com/notebooks/data_table.ipynb>data table notebook</a>'\n",
              "          + ' to learn more about interactive tables.';\n",
              "        element.innerHTML = '';\n",
              "        dataTable['output_type'] = 'display_data';\n",
              "        await google.colab.output.renderOutput(dataTable, element);\n",
              "        const docLink = document.createElement('div');\n",
              "        docLink.innerHTML = docLinkHtml;\n",
              "        element.appendChild(docLink);\n",
              "      }\n",
              "    </script>\n",
              "  </div>\n",
              "\n",
              "\n",
              "<div id=\"df-fafaa9e3-1fce-4931-b428-64d98b546a55\">\n",
              "  <button class=\"colab-df-quickchart\" onclick=\"quickchart('df-fafaa9e3-1fce-4931-b428-64d98b546a55')\"\n",
              "            title=\"Suggest charts\"\n",
              "            style=\"display:none;\">\n",
              "\n",
              "<svg xmlns=\"http://www.w3.org/2000/svg\" height=\"24px\"viewBox=\"0 0 24 24\"\n",
              "     width=\"24px\">\n",
              "    <g>\n",
              "        <path d=\"M19 3H5c-1.1 0-2 .9-2 2v14c0 1.1.9 2 2 2h14c1.1 0 2-.9 2-2V5c0-1.1-.9-2-2-2zM9 17H7v-7h2v7zm4 0h-2V7h2v10zm4 0h-2v-4h2v4z\"/>\n",
              "    </g>\n",
              "</svg>\n",
              "  </button>\n",
              "\n",
              "<style>\n",
              "  .colab-df-quickchart {\n",
              "      --bg-color: #E8F0FE;\n",
              "      --fill-color: #1967D2;\n",
              "      --hover-bg-color: #E2EBFA;\n",
              "      --hover-fill-color: #174EA6;\n",
              "      --disabled-fill-color: #AAA;\n",
              "      --disabled-bg-color: #DDD;\n",
              "  }\n",
              "\n",
              "  [theme=dark] .colab-df-quickchart {\n",
              "      --bg-color: #3B4455;\n",
              "      --fill-color: #D2E3FC;\n",
              "      --hover-bg-color: #434B5C;\n",
              "      --hover-fill-color: #FFFFFF;\n",
              "      --disabled-bg-color: #3B4455;\n",
              "      --disabled-fill-color: #666;\n",
              "  }\n",
              "\n",
              "  .colab-df-quickchart {\n",
              "    background-color: var(--bg-color);\n",
              "    border: none;\n",
              "    border-radius: 50%;\n",
              "    cursor: pointer;\n",
              "    display: none;\n",
              "    fill: var(--fill-color);\n",
              "    height: 32px;\n",
              "    padding: 0;\n",
              "    width: 32px;\n",
              "  }\n",
              "\n",
              "  .colab-df-quickchart:hover {\n",
              "    background-color: var(--hover-bg-color);\n",
              "    box-shadow: 0 1px 2px rgba(60, 64, 67, 0.3), 0 1px 3px 1px rgba(60, 64, 67, 0.15);\n",
              "    fill: var(--button-hover-fill-color);\n",
              "  }\n",
              "\n",
              "  .colab-df-quickchart-complete:disabled,\n",
              "  .colab-df-quickchart-complete:disabled:hover {\n",
              "    background-color: var(--disabled-bg-color);\n",
              "    fill: var(--disabled-fill-color);\n",
              "    box-shadow: none;\n",
              "  }\n",
              "\n",
              "  .colab-df-spinner {\n",
              "    border: 2px solid var(--fill-color);\n",
              "    border-color: transparent;\n",
              "    border-bottom-color: var(--fill-color);\n",
              "    animation:\n",
              "      spin 1s steps(1) infinite;\n",
              "  }\n",
              "\n",
              "  @keyframes spin {\n",
              "    0% {\n",
              "      border-color: transparent;\n",
              "      border-bottom-color: var(--fill-color);\n",
              "      border-left-color: var(--fill-color);\n",
              "    }\n",
              "    20% {\n",
              "      border-color: transparent;\n",
              "      border-left-color: var(--fill-color);\n",
              "      border-top-color: var(--fill-color);\n",
              "    }\n",
              "    30% {\n",
              "      border-color: transparent;\n",
              "      border-left-color: var(--fill-color);\n",
              "      border-top-color: var(--fill-color);\n",
              "      border-right-color: var(--fill-color);\n",
              "    }\n",
              "    40% {\n",
              "      border-color: transparent;\n",
              "      border-right-color: var(--fill-color);\n",
              "      border-top-color: var(--fill-color);\n",
              "    }\n",
              "    60% {\n",
              "      border-color: transparent;\n",
              "      border-right-color: var(--fill-color);\n",
              "    }\n",
              "    80% {\n",
              "      border-color: transparent;\n",
              "      border-right-color: var(--fill-color);\n",
              "      border-bottom-color: var(--fill-color);\n",
              "    }\n",
              "    90% {\n",
              "      border-color: transparent;\n",
              "      border-bottom-color: var(--fill-color);\n",
              "    }\n",
              "  }\n",
              "</style>\n",
              "\n",
              "  <script>\n",
              "    async function quickchart(key) {\n",
              "      const quickchartButtonEl =\n",
              "        document.querySelector('#' + key + ' button');\n",
              "      quickchartButtonEl.disabled = true;  // To prevent multiple clicks.\n",
              "      quickchartButtonEl.classList.add('colab-df-spinner');\n",
              "      try {\n",
              "        const charts = await google.colab.kernel.invokeFunction(\n",
              "            'suggestCharts', [key], {});\n",
              "      } catch (error) {\n",
              "        console.error('Error during call to suggestCharts:', error);\n",
              "      }\n",
              "      quickchartButtonEl.classList.remove('colab-df-spinner');\n",
              "      quickchartButtonEl.classList.add('colab-df-quickchart-complete');\n",
              "    }\n",
              "    (() => {\n",
              "      let quickchartButtonEl =\n",
              "        document.querySelector('#df-fafaa9e3-1fce-4931-b428-64d98b546a55 button');\n",
              "      quickchartButtonEl.style.display =\n",
              "        google.colab.kernel.accessAllowed ? 'block' : 'none';\n",
              "    })();\n",
              "  </script>\n",
              "</div>\n",
              "\n",
              "    </div>\n",
              "  </div>\n"
            ],
            "application/vnd.google.colaboratory.intrinsic+json": {
              "type": "dataframe",
              "summary": "{\n  \"name\": \"df[['clean_tweet', 'top_keywords_count']]\",\n  \"rows\": 10,\n  \"fields\": [\n    {\n      \"column\": \"clean_tweet\",\n      \"properties\": {\n        \"dtype\": \"string\",\n        \"num_unique_values\": 9,\n        \"samples\": [\n          \"far remember leonardo da vinci already wrote script child conceived raised love valuable life mean child love like leonardo believe love important first moment\",\n          \"go dozen kids\\u2026 missing 3 go\",\n          \"sale 2021 used tesla model standard range rear wheel drive autopilot midnight silver black 16 800 mile 64 900 lincoln nebraska\"\n        ],\n        \"semantic_type\": \"\",\n        \"description\": \"\"\n      }\n    },\n    {\n      \"column\": \"top_keywords_count\",\n      \"properties\": {\n        \"dtype\": \"object\",\n        \"semantic_type\": \"\",\n        \"description\": \"\"\n      }\n    }\n  ]\n}"
            }
          },
          "metadata": {},
          "execution_count": 57
        }
      ]
    },
    {
      "cell_type": "markdown",
      "source": [
        "# Tf-IDF vectorizer"
      ],
      "metadata": {
        "id": "I4AZRmMVnJfl"
      }
    },
    {
      "cell_type": "code",
      "source": [
        "from sklearn.feature_extraction.text import TfidfVectorizer"
      ],
      "metadata": {
        "id": "5Vh0zUWtnL7E"
      },
      "execution_count": null,
      "outputs": []
    },
    {
      "cell_type": "code",
      "source": [
        "tfidf_vectorizer = TfidfVectorizer(max_df=0.95, min_df=2, stop_words='english')\n"
      ],
      "metadata": {
        "id": "uQf1tUU7nTGz"
      },
      "execution_count": null,
      "outputs": []
    },
    {
      "cell_type": "code",
      "source": [
        "tfidf_matrix = tfidf_vectorizer.fit_transform(df['clean_tweet'])\n"
      ],
      "metadata": {
        "id": "55WCOMK7nUpw"
      },
      "execution_count": null,
      "outputs": []
    },
    {
      "cell_type": "code",
      "source": [
        "# Get feature names\n",
        "feature_names = tfidf_vectorizer.get_feature_names_out()\n",
        "feature_names"
      ],
      "metadata": {
        "id": "o9gVWhH-nXIy",
        "colab": {
          "base_uri": "https://localhost:8080/"
        },
        "outputId": "50af260c-5840-4492-fe65-5e7a2e0d20e8"
      },
      "execution_count": null,
      "outputs": [
        {
          "output_type": "execute_result",
          "data": {
            "text/plain": [
              "array(['00', '000', '00000001', ..., 'เง', 'แต', '๑o'], dtype=object)"
            ]
          },
          "metadata": {},
          "execution_count": 61
        }
      ]
    },
    {
      "cell_type": "code",
      "source": [
        "# Get top keywords for each tweet\n",
        "top_keywords = []\n",
        "for i in range(len(df)):\n",
        "    feature_index = tfidf_matrix[i,:].nonzero()[1]\n",
        "    tfidf_scores = zip(feature_index, [tfidf_matrix[i, x] for x in feature_index])\n",
        "    top_keywords.append(sorted([(feature_names[i], s) for (i, s) in tfidf_scores], key=lambda x: x[1], reverse=True)[:5])\n"
      ],
      "metadata": {
        "id": "lX3zrJq9nb5P"
      },
      "execution_count": null,
      "outputs": []
    },
    {
      "cell_type": "code",
      "source": [
        "# Display top keywords\n",
        "df['top_keywords'] = top_keywords\n",
        "df[['clean_tweet', 'top_keywords']].head(5)"
      ],
      "metadata": {
        "id": "-sWv-4__neyb",
        "colab": {
          "base_uri": "https://localhost:8080/",
          "height": 206
        },
        "outputId": "dba4189b-5c01-48a8-e6be-bcf108e30cd8"
      },
      "execution_count": null,
      "outputs": [
        {
          "output_type": "execute_result",
          "data": {
            "text/plain": [
              "                                         clean_tweet  \\\n",
              "0  six 4 still live home homeschooled taught self...   \n",
              "1                        go dozen kids… missing 3 go   \n",
              "2  think buying country mexico could turn richest...   \n",
              "3  innocuous actual receipt yet ’ asked anyone bu...   \n",
              "4  tesla wall battery save power went still run a...   \n",
              "\n",
              "                                        top_keywords  \n",
              "0  [(education, 0.5270806445246703), (taught, 0.2...  \n",
              "1  [(kids, 0.6284890186460601), (dozen, 0.5806875...  \n",
              "2  [(mexico, 0.4976142122452972), (country, 0.403...  \n",
              "3  [(receipt, 0.35328251237172376), (grifter, 0.3...  \n",
              "4  [(wall, 0.4101832580652704), (ac, 0.3815651696...  "
            ],
            "text/html": [
              "\n",
              "  <div id=\"df-3eefb1c8-3093-43bd-8dd0-0c18aefee150\" class=\"colab-df-container\">\n",
              "    <div>\n",
              "<style scoped>\n",
              "    .dataframe tbody tr th:only-of-type {\n",
              "        vertical-align: middle;\n",
              "    }\n",
              "\n",
              "    .dataframe tbody tr th {\n",
              "        vertical-align: top;\n",
              "    }\n",
              "\n",
              "    .dataframe thead th {\n",
              "        text-align: right;\n",
              "    }\n",
              "</style>\n",
              "<table border=\"1\" class=\"dataframe\">\n",
              "  <thead>\n",
              "    <tr style=\"text-align: right;\">\n",
              "      <th></th>\n",
              "      <th>clean_tweet</th>\n",
              "      <th>top_keywords</th>\n",
              "    </tr>\n",
              "  </thead>\n",
              "  <tbody>\n",
              "    <tr>\n",
              "      <th>0</th>\n",
              "      <td>six 4 still live home homeschooled taught self...</td>\n",
              "      <td>[(education, 0.5270806445246703), (taught, 0.2...</td>\n",
              "    </tr>\n",
              "    <tr>\n",
              "      <th>1</th>\n",
              "      <td>go dozen kids… missing 3 go</td>\n",
              "      <td>[(kids, 0.6284890186460601), (dozen, 0.5806875...</td>\n",
              "    </tr>\n",
              "    <tr>\n",
              "      <th>2</th>\n",
              "      <td>think buying country mexico could turn richest...</td>\n",
              "      <td>[(mexico, 0.4976142122452972), (country, 0.403...</td>\n",
              "    </tr>\n",
              "    <tr>\n",
              "      <th>3</th>\n",
              "      <td>innocuous actual receipt yet ’ asked anyone bu...</td>\n",
              "      <td>[(receipt, 0.35328251237172376), (grifter, 0.3...</td>\n",
              "    </tr>\n",
              "    <tr>\n",
              "      <th>4</th>\n",
              "      <td>tesla wall battery save power went still run a...</td>\n",
              "      <td>[(wall, 0.4101832580652704), (ac, 0.3815651696...</td>\n",
              "    </tr>\n",
              "  </tbody>\n",
              "</table>\n",
              "</div>\n",
              "    <div class=\"colab-df-buttons\">\n",
              "\n",
              "  <div class=\"colab-df-container\">\n",
              "    <button class=\"colab-df-convert\" onclick=\"convertToInteractive('df-3eefb1c8-3093-43bd-8dd0-0c18aefee150')\"\n",
              "            title=\"Convert this dataframe to an interactive table.\"\n",
              "            style=\"display:none;\">\n",
              "\n",
              "  <svg xmlns=\"http://www.w3.org/2000/svg\" height=\"24px\" viewBox=\"0 -960 960 960\">\n",
              "    <path d=\"M120-120v-720h720v720H120Zm60-500h600v-160H180v160Zm220 220h160v-160H400v160Zm0 220h160v-160H400v160ZM180-400h160v-160H180v160Zm440 0h160v-160H620v160ZM180-180h160v-160H180v160Zm440 0h160v-160H620v160Z\"/>\n",
              "  </svg>\n",
              "    </button>\n",
              "\n",
              "  <style>\n",
              "    .colab-df-container {\n",
              "      display:flex;\n",
              "      gap: 12px;\n",
              "    }\n",
              "\n",
              "    .colab-df-convert {\n",
              "      background-color: #E8F0FE;\n",
              "      border: none;\n",
              "      border-radius: 50%;\n",
              "      cursor: pointer;\n",
              "      display: none;\n",
              "      fill: #1967D2;\n",
              "      height: 32px;\n",
              "      padding: 0 0 0 0;\n",
              "      width: 32px;\n",
              "    }\n",
              "\n",
              "    .colab-df-convert:hover {\n",
              "      background-color: #E2EBFA;\n",
              "      box-shadow: 0px 1px 2px rgba(60, 64, 67, 0.3), 0px 1px 3px 1px rgba(60, 64, 67, 0.15);\n",
              "      fill: #174EA6;\n",
              "    }\n",
              "\n",
              "    .colab-df-buttons div {\n",
              "      margin-bottom: 4px;\n",
              "    }\n",
              "\n",
              "    [theme=dark] .colab-df-convert {\n",
              "      background-color: #3B4455;\n",
              "      fill: #D2E3FC;\n",
              "    }\n",
              "\n",
              "    [theme=dark] .colab-df-convert:hover {\n",
              "      background-color: #434B5C;\n",
              "      box-shadow: 0px 1px 3px 1px rgba(0, 0, 0, 0.15);\n",
              "      filter: drop-shadow(0px 1px 2px rgba(0, 0, 0, 0.3));\n",
              "      fill: #FFFFFF;\n",
              "    }\n",
              "  </style>\n",
              "\n",
              "    <script>\n",
              "      const buttonEl =\n",
              "        document.querySelector('#df-3eefb1c8-3093-43bd-8dd0-0c18aefee150 button.colab-df-convert');\n",
              "      buttonEl.style.display =\n",
              "        google.colab.kernel.accessAllowed ? 'block' : 'none';\n",
              "\n",
              "      async function convertToInteractive(key) {\n",
              "        const element = document.querySelector('#df-3eefb1c8-3093-43bd-8dd0-0c18aefee150');\n",
              "        const dataTable =\n",
              "          await google.colab.kernel.invokeFunction('convertToInteractive',\n",
              "                                                    [key], {});\n",
              "        if (!dataTable) return;\n",
              "\n",
              "        const docLinkHtml = 'Like what you see? Visit the ' +\n",
              "          '<a target=\"_blank\" href=https://colab.research.google.com/notebooks/data_table.ipynb>data table notebook</a>'\n",
              "          + ' to learn more about interactive tables.';\n",
              "        element.innerHTML = '';\n",
              "        dataTable['output_type'] = 'display_data';\n",
              "        await google.colab.output.renderOutput(dataTable, element);\n",
              "        const docLink = document.createElement('div');\n",
              "        docLink.innerHTML = docLinkHtml;\n",
              "        element.appendChild(docLink);\n",
              "      }\n",
              "    </script>\n",
              "  </div>\n",
              "\n",
              "\n",
              "<div id=\"df-3a828dc9-2cc7-44f3-81ff-ee9f4526152e\">\n",
              "  <button class=\"colab-df-quickchart\" onclick=\"quickchart('df-3a828dc9-2cc7-44f3-81ff-ee9f4526152e')\"\n",
              "            title=\"Suggest charts\"\n",
              "            style=\"display:none;\">\n",
              "\n",
              "<svg xmlns=\"http://www.w3.org/2000/svg\" height=\"24px\"viewBox=\"0 0 24 24\"\n",
              "     width=\"24px\">\n",
              "    <g>\n",
              "        <path d=\"M19 3H5c-1.1 0-2 .9-2 2v14c0 1.1.9 2 2 2h14c1.1 0 2-.9 2-2V5c0-1.1-.9-2-2-2zM9 17H7v-7h2v7zm4 0h-2V7h2v10zm4 0h-2v-4h2v4z\"/>\n",
              "    </g>\n",
              "</svg>\n",
              "  </button>\n",
              "\n",
              "<style>\n",
              "  .colab-df-quickchart {\n",
              "      --bg-color: #E8F0FE;\n",
              "      --fill-color: #1967D2;\n",
              "      --hover-bg-color: #E2EBFA;\n",
              "      --hover-fill-color: #174EA6;\n",
              "      --disabled-fill-color: #AAA;\n",
              "      --disabled-bg-color: #DDD;\n",
              "  }\n",
              "\n",
              "  [theme=dark] .colab-df-quickchart {\n",
              "      --bg-color: #3B4455;\n",
              "      --fill-color: #D2E3FC;\n",
              "      --hover-bg-color: #434B5C;\n",
              "      --hover-fill-color: #FFFFFF;\n",
              "      --disabled-bg-color: #3B4455;\n",
              "      --disabled-fill-color: #666;\n",
              "  }\n",
              "\n",
              "  .colab-df-quickchart {\n",
              "    background-color: var(--bg-color);\n",
              "    border: none;\n",
              "    border-radius: 50%;\n",
              "    cursor: pointer;\n",
              "    display: none;\n",
              "    fill: var(--fill-color);\n",
              "    height: 32px;\n",
              "    padding: 0;\n",
              "    width: 32px;\n",
              "  }\n",
              "\n",
              "  .colab-df-quickchart:hover {\n",
              "    background-color: var(--hover-bg-color);\n",
              "    box-shadow: 0 1px 2px rgba(60, 64, 67, 0.3), 0 1px 3px 1px rgba(60, 64, 67, 0.15);\n",
              "    fill: var(--button-hover-fill-color);\n",
              "  }\n",
              "\n",
              "  .colab-df-quickchart-complete:disabled,\n",
              "  .colab-df-quickchart-complete:disabled:hover {\n",
              "    background-color: var(--disabled-bg-color);\n",
              "    fill: var(--disabled-fill-color);\n",
              "    box-shadow: none;\n",
              "  }\n",
              "\n",
              "  .colab-df-spinner {\n",
              "    border: 2px solid var(--fill-color);\n",
              "    border-color: transparent;\n",
              "    border-bottom-color: var(--fill-color);\n",
              "    animation:\n",
              "      spin 1s steps(1) infinite;\n",
              "  }\n",
              "\n",
              "  @keyframes spin {\n",
              "    0% {\n",
              "      border-color: transparent;\n",
              "      border-bottom-color: var(--fill-color);\n",
              "      border-left-color: var(--fill-color);\n",
              "    }\n",
              "    20% {\n",
              "      border-color: transparent;\n",
              "      border-left-color: var(--fill-color);\n",
              "      border-top-color: var(--fill-color);\n",
              "    }\n",
              "    30% {\n",
              "      border-color: transparent;\n",
              "      border-left-color: var(--fill-color);\n",
              "      border-top-color: var(--fill-color);\n",
              "      border-right-color: var(--fill-color);\n",
              "    }\n",
              "    40% {\n",
              "      border-color: transparent;\n",
              "      border-right-color: var(--fill-color);\n",
              "      border-top-color: var(--fill-color);\n",
              "    }\n",
              "    60% {\n",
              "      border-color: transparent;\n",
              "      border-right-color: var(--fill-color);\n",
              "    }\n",
              "    80% {\n",
              "      border-color: transparent;\n",
              "      border-right-color: var(--fill-color);\n",
              "      border-bottom-color: var(--fill-color);\n",
              "    }\n",
              "    90% {\n",
              "      border-color: transparent;\n",
              "      border-bottom-color: var(--fill-color);\n",
              "    }\n",
              "  }\n",
              "</style>\n",
              "\n",
              "  <script>\n",
              "    async function quickchart(key) {\n",
              "      const quickchartButtonEl =\n",
              "        document.querySelector('#' + key + ' button');\n",
              "      quickchartButtonEl.disabled = true;  // To prevent multiple clicks.\n",
              "      quickchartButtonEl.classList.add('colab-df-spinner');\n",
              "      try {\n",
              "        const charts = await google.colab.kernel.invokeFunction(\n",
              "            'suggestCharts', [key], {});\n",
              "      } catch (error) {\n",
              "        console.error('Error during call to suggestCharts:', error);\n",
              "      }\n",
              "      quickchartButtonEl.classList.remove('colab-df-spinner');\n",
              "      quickchartButtonEl.classList.add('colab-df-quickchart-complete');\n",
              "    }\n",
              "    (() => {\n",
              "      let quickchartButtonEl =\n",
              "        document.querySelector('#df-3a828dc9-2cc7-44f3-81ff-ee9f4526152e button');\n",
              "      quickchartButtonEl.style.display =\n",
              "        google.colab.kernel.accessAllowed ? 'block' : 'none';\n",
              "    })();\n",
              "  </script>\n",
              "</div>\n",
              "\n",
              "    </div>\n",
              "  </div>\n"
            ],
            "application/vnd.google.colaboratory.intrinsic+json": {
              "type": "dataframe",
              "summary": "{\n  \"name\": \"df[['clean_tweet', 'top_keywords']]\",\n  \"rows\": 5,\n  \"fields\": [\n    {\n      \"column\": \"clean_tweet\",\n      \"properties\": {\n        \"dtype\": \"string\",\n        \"num_unique_values\": 5,\n        \"samples\": [\n          \"go dozen kids\\u2026 missing 3 go\",\n          \"tesla wall battery save power went still run ac 100\",\n          \"think buying country mexico could turn richest country world trump president people moving mexico constitution boot cheap labor would ever need\"\n        ],\n        \"semantic_type\": \"\",\n        \"description\": \"\"\n      }\n    },\n    {\n      \"column\": \"top_keywords\",\n      \"properties\": {\n        \"dtype\": \"object\",\n        \"semantic_type\": \"\",\n        \"description\": \"\"\n      }\n    }\n  ]\n}"
            }
          },
          "metadata": {},
          "execution_count": 63
        }
      ]
    },
    {
      "cell_type": "code",
      "source": [],
      "metadata": {
        "id": "SggVRef7niYy"
      },
      "execution_count": null,
      "outputs": []
    },
    {
      "cell_type": "markdown",
      "metadata": {
        "id": "315bd9c1"
      },
      "source": [
        "# Topic Modelling"
      ]
    },
    {
      "cell_type": "markdown",
      "source": [
        "* 1️⃣ max_df=0.95- Removes very frequent words that appear in more than 95% of the documents.\n",
        "* 2️⃣ min_df=2- Removes rare words that appear in less than 2 documents.\n",
        "* 3️⃣ stop_words='english'- Removes common English stopwords like \"the\", \"is\", \"and\", \"in\", etc.\n"
      ],
      "metadata": {
        "id": "7pyZuwtFiV39"
      }
    },
    {
      "cell_type": "code",
      "execution_count": null,
      "metadata": {
        "id": "1cccc1e7"
      },
      "outputs": [],
      "source": [
        "from sklearn.feature_extraction.text import CountVectorizer\n",
        "from sklearn.decomposition import LatentDirichletAllocation"
      ]
    },
    {
      "cell_type": "code",
      "source": [
        "# Tokenize and vectorize the text data\n",
        "vectorizer = CountVectorizer(max_df=0.95, min_df=2, stop_words='english')\n",
        "X = vectorizer.fit_transform(df['clean_tweet'])"
      ],
      "metadata": {
        "id": "zzraEqCjor6K"
      },
      "execution_count": null,
      "outputs": []
    },
    {
      "cell_type": "code",
      "source": [
        "lda_model = LatentDirichletAllocation(n_components=5, random_state=42) # Topic modelling\n",
        "lda_output = lda_model.fit_transform(X)"
      ],
      "metadata": {
        "id": "fW7HUMCWor9n"
      },
      "execution_count": null,
      "outputs": []
    },
    {
      "cell_type": "code",
      "execution_count": null,
      "metadata": {
        "id": "150c444f"
      },
      "outputs": [],
      "source": [
        "def display_topics(model, feature_names, no_top_words):\n",
        "    for topic_idx, topic in enumerate(model.components_):\n",
        "        print(f\"Topic {topic_idx+1}:\")\n",
        "        print(\" \".join([feature_names[i] for i in topic.argsort()[:-no_top_words - 1:-1]]))"
      ]
    },
    {
      "cell_type": "code",
      "source": [
        "# Display the topics\n",
        "print(\"Topics found via LDA:\")\n",
        "no_top_words = 10\n",
        "display_topics(lda_model, vectorizer.get_feature_names_out(), no_top_words)\n"
      ],
      "metadata": {
        "id": "wG670OIAowYK",
        "colab": {
          "base_uri": "https://localhost:8080/"
        },
        "outputId": "e53ad68f-b9b0-4ce5-d183-d121b3bafa9d"
      },
      "execution_count": null,
      "outputs": [
        {
          "output_type": "stream",
          "name": "stdout",
          "text": [
            "Topics found via LDA:\n",
            "Topic 1:\n",
            "tesla la que en el da musk se und die\n",
            "Topic 2:\n",
            "tesla adri je na speed da people nie child country\n",
            "Topic 3:\n",
            "tesla car like model ev make people think electric year\n",
            "Topic 4:\n",
            "tesla le la et die en grünheide future est pour\n",
            "Topic 5:\n",
            "tesla twitter elon musk stock buy deal billion tsla share\n"
          ]
        }
      ]
    },
    {
      "cell_type": "markdown",
      "source": [
        "# Word2Vec (Skip gram and CBOW)"
      ],
      "metadata": {
        "id": "dI2YnWLUqT6G"
      }
    },
    {
      "cell_type": "code",
      "source": [
        "!pip install --upgrade numpy gensim --no-cache-dir"
      ],
      "metadata": {
        "id": "tx8eeQPKpg1G",
        "colab": {
          "base_uri": "https://localhost:8080/"
        },
        "outputId": "8994fc41-7c4a-41f2-d807-2cd5d92e969a"
      },
      "execution_count": null,
      "outputs": [
        {
          "output_type": "stream",
          "name": "stdout",
          "text": [
            "Requirement already satisfied: numpy in /usr/local/lib/python3.11/dist-packages (1.26.4)\n",
            "Collecting numpy\n",
            "  Downloading numpy-2.2.4-cp311-cp311-manylinux_2_17_x86_64.manylinux2014_x86_64.whl.metadata (62 kB)\n",
            "\u001b[2K     \u001b[90m━━━━━━━━━━━━━━━━━━━━━━━━━━━━━━━━━━━━━━━━\u001b[0m \u001b[32m62.0/62.0 kB\u001b[0m \u001b[31m3.0 MB/s\u001b[0m eta \u001b[36m0:00:00\u001b[0m\n",
            "\u001b[?25hRequirement already satisfied: gensim in /usr/local/lib/python3.11/dist-packages (4.3.3)\n",
            "Requirement already satisfied: scipy<1.14.0,>=1.7.0 in /usr/local/lib/python3.11/dist-packages (from gensim) (1.13.1)\n",
            "Requirement already satisfied: smart-open>=1.8.1 in /usr/local/lib/python3.11/dist-packages (from gensim) (7.1.0)\n",
            "Requirement already satisfied: wrapt in /usr/local/lib/python3.11/dist-packages (from smart-open>=1.8.1->gensim) (1.17.2)\n"
          ]
        }
      ]
    },
    {
      "cell_type": "code",
      "source": [
        "from gensim.models import Word2Vec\n",
        "from nltk.tokenize import word_tokenize"
      ],
      "metadata": {
        "id": "FaxPTCstp0wR"
      },
      "execution_count": null,
      "outputs": []
    },
    {
      "cell_type": "code",
      "source": [
        "# Convert clean tweets to tokenized format\n",
        "tokenized_tweets = df['clean_tweet'].apply(word_tokenize).tolist()"
      ],
      "metadata": {
        "id": "88tfcLNxp3Jo"
      },
      "execution_count": null,
      "outputs": []
    },
    {
      "cell_type": "code",
      "source": [
        "# Build the Word2Vec model (Skip Gram)\n",
        "w2v_model = Word2Vec(sentences=tokenized_tweets, vector_size=100, window=5, min_count=2, workers=4, sg=1)  # sg=1 for Skip-Gram, sg=0 for CBOW\n"
      ],
      "metadata": {
        "id": "kLseFEJzqkC_"
      },
      "execution_count": null,
      "outputs": []
    },
    {
      "cell_type": "code",
      "source": [
        "# Vector representation of a word\n",
        "print(w2v_model.wv['happy'])"
      ],
      "metadata": {
        "id": "hvwqEF0jqus-",
        "colab": {
          "base_uri": "https://localhost:8080/"
        },
        "outputId": "c52756b2-dfb5-4e01-fa9d-6f8cbd656746"
      },
      "execution_count": null,
      "outputs": [
        {
          "output_type": "stream",
          "name": "stdout",
          "text": [
            "[-0.0342725   0.06313341  0.08782174 -0.01335053 -0.3472246  -0.34312728\n",
            "  0.20056811  0.2305243  -0.1674403  -0.25796893 -0.06853577 -0.01926937\n",
            " -0.10761322  0.0030568   0.04644582  0.2246742   0.09233118 -0.21523899\n",
            " -0.12535308 -0.36513495  0.17812228  0.25301954  0.22857687 -0.09264716\n",
            " -0.08596052  0.11807523 -0.24888529 -0.12569557  0.13013464 -0.02892194\n",
            "  0.15390281 -0.07952109  0.39332306 -0.36454293 -0.01121786  0.22022043\n",
            "  0.31681064 -0.45842978 -0.26980278 -0.4235523   0.01342201 -0.23683052\n",
            "  0.46156287  0.19266023 -0.02204991 -0.1683595   0.00405212 -0.2331127\n",
            " -0.17357916  0.07649068 -0.17026123 -0.06581931 -0.3046917  -0.4021212\n",
            "  0.01264778  0.07459789  0.46485165 -0.13068071  0.02467373  0.42011586\n",
            "  0.11704041  0.12007362 -0.07018813  0.22105555 -0.26123592  0.20695844\n",
            "  0.00182237 -0.04651193 -0.14978836  0.56317115 -0.17277448  0.17447595\n",
            " -0.00231945  0.01030346  0.37503365 -0.11843155 -0.07583085 -0.20098893\n",
            " -0.07069139 -0.11164652  0.2865272   0.14897385 -0.11227646  0.3056959\n",
            " -0.02564649  0.19832264 -0.16788164  0.05216326  0.02386852 -0.06083342\n",
            "  0.31511897 -0.00655022  0.04023728 -0.09980379  0.29350677  0.23334785\n",
            "  0.15826039 -0.09297997 -0.08972641 -0.0675206 ]\n"
          ]
        }
      ]
    },
    {
      "cell_type": "code",
      "source": [
        "# Most similar words to 'love'\n",
        "print(w2v_model.wv.most_similar('love'))"
      ],
      "metadata": {
        "id": "MTWQmGvKqm7R",
        "colab": {
          "base_uri": "https://localhost:8080/"
        },
        "outputId": "b64093e1-f800-4b9e-bb79-5e51b57e60b9"
      },
      "execution_count": null,
      "outputs": [
        {
          "output_type": "stream",
          "name": "stdout",
          "text": [
            "[('pretty', 0.9957872629165649), ('must', 0.9955798983573914), ('cool', 0.9943864345550537), ('rich', 0.9941799640655518), ('understand', 0.9940810799598694), ('bad', 0.9939278960227966), ('though', 0.993916392326355), ('find', 0.9938798546791077), ('believe', 0.9938143491744995), ('mind', 0.9936452507972717)]\n"
          ]
        }
      ]
    },
    {
      "cell_type": "code",
      "source": [
        "#CBOW\n",
        "w2v_model = Word2Vec(sentences=tokenized_tweets, vector_size=100, window=5, min_count=2, workers=4, sg=0)  # sg=1 for Skip-Gram, sg=0 for CBOW"
      ],
      "metadata": {
        "id": "yHzvoWn9qr9P"
      },
      "execution_count": null,
      "outputs": []
    },
    {
      "cell_type": "code",
      "source": [
        "# Vector representation of a word\n",
        "print(w2v_model.wv['happy'])"
      ],
      "metadata": {
        "id": "eoS8tD8dq3F8",
        "colab": {
          "base_uri": "https://localhost:8080/"
        },
        "outputId": "a6d0206d-233c-4757-d475-791b4060c97f"
      },
      "execution_count": null,
      "outputs": [
        {
          "output_type": "stream",
          "name": "stdout",
          "text": [
            "[-1.63076460e-01  4.93512779e-01  1.46898955e-01  1.47289500e-01\n",
            " -6.92486297e-03 -6.29581809e-01  1.31688446e-01  7.98547506e-01\n",
            " -4.93071318e-01 -4.31481838e-01 -2.73171842e-01 -4.67173427e-01\n",
            " -1.96643874e-01  1.48774371e-01  7.38214925e-02  7.80306980e-02\n",
            "  3.37695405e-02 -4.54543263e-01  6.14144318e-02 -9.44568753e-01\n",
            "  3.13014716e-01  2.90609092e-01  5.00944555e-01 -2.24392414e-01\n",
            " -8.44790563e-02 -6.25733882e-02 -4.54645038e-01 -1.14528917e-01\n",
            " -1.86669022e-01  5.84120713e-02  4.88582790e-01 -6.57143886e-04\n",
            "  3.12055469e-01 -2.99072057e-01 -1.92613482e-01  3.99771065e-01\n",
            "  3.88839573e-01 -4.38741654e-01 -4.63426381e-01 -5.04529536e-01\n",
            " -2.66730804e-02 -2.91999906e-01 -9.03991684e-02  2.06549689e-01\n",
            "  2.04487622e-01  1.72505435e-02 -2.63681293e-01 -4.17318121e-02\n",
            "  1.20119415e-01  2.70276546e-01 -6.58500716e-02 -2.73886956e-02\n",
            " -1.34553373e-01 -1.07847169e-01 -8.19029734e-02  6.07247325e-03\n",
            "  3.89132768e-01 -2.01874048e-01 -2.59651840e-01  2.59586215e-01\n",
            "  3.63180712e-02  4.49316874e-02 -1.03441827e-01  3.77856684e-03\n",
            " -3.13972175e-01  3.37666065e-01  3.04407090e-01  2.85318702e-01\n",
            " -6.71131730e-01  6.05013669e-01 -5.40806353e-01  4.30773944e-01\n",
            "  1.70688063e-01 -1.80974528e-01  5.36829591e-01  5.66163547e-02\n",
            " -3.14237505e-01 -1.79834351e-01 -1.66924044e-01 -7.64346793e-02\n",
            " -3.06797866e-02  3.64356721e-03 -9.38881338e-02  5.05534112e-01\n",
            "  4.12541814e-02  2.56224096e-01 -2.47943215e-03  1.34922296e-01\n",
            "  2.50528753e-01  2.71677583e-01  4.44911242e-01  2.12876305e-01\n",
            " -6.80541573e-03  9.30351466e-02  7.77526855e-01  3.72233778e-01\n",
            "  2.45447643e-02 -1.00494370e-01  6.35570213e-02  1.44480970e-02]\n"
          ]
        }
      ]
    },
    {
      "cell_type": "code",
      "source": [
        "# Most similar words to 'love'\n",
        "print(w2v_model.wv.most_similar('love'))"
      ],
      "metadata": {
        "id": "YsnL0ye7q5LA",
        "colab": {
          "base_uri": "https://localhost:8080/"
        },
        "outputId": "c0fbae6b-3f30-47aa-9750-f85ab1b5df63"
      },
      "execution_count": null,
      "outputs": [
        {
          "output_type": "stream",
          "name": "stdout",
          "text": [
            "[('keep', 0.9997783899307251), ('great', 0.9997521042823792), ('getting', 0.9996972680091858), ('come', 0.9996909499168396), ('everyone', 0.9996781349182129), ('far', 0.999677836894989), ('ever', 0.999676525592804), ('enough', 0.9996693134307861), ('life', 0.9996612071990967), ('free', 0.9996588826179504)]\n"
          ]
        }
      ]
    },
    {
      "cell_type": "code",
      "source": [],
      "metadata": {
        "id": "dXeRmxxPq6iV"
      },
      "execution_count": null,
      "outputs": []
    }
  ]
}