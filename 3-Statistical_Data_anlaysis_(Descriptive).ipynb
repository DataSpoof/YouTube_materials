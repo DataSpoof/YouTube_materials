{
  "nbformat": 4,
  "nbformat_minor": 0,
  "metadata": {
    "colab": {
      "provenance": []
    },
    "kernelspec": {
      "name": "python3",
      "display_name": "Python 3"
    },
    "language_info": {
      "name": "python"
    }
  },
  "cells": [
    {
      "cell_type": "markdown",
      "source": [
        "# Statistical data analysis\n",
        "\n",
        "* descriptive statistics\n",
        "* inferential statistics\n"
      ],
      "metadata": {
        "id": "GUU4e2lRUCKA"
      }
    },
    {
      "cell_type": "markdown",
      "source": [
        "# Descriptive statistics\n",
        "\n",
        "* Measure of central tendency (mean, median, mode)\n",
        "* Measure of Spread(variance,covariance, skewness,kurtosis, normalization and standardization, IQR)"
      ],
      "metadata": {
        "id": "8HPDHEjJUNbt"
      }
    },
    {
      "cell_type": "code",
      "source": [
        "import pandas as pd"
      ],
      "metadata": {
        "id": "lprMmgTWRP2a"
      },
      "execution_count": 1,
      "outputs": []
    },
    {
      "cell_type": "code",
      "source": [
        "df=pd.read_csv(\"titanic.csv\")\n",
        "df.head()"
      ],
      "metadata": {
        "colab": {
          "base_uri": "https://localhost:8080/",
          "height": 504
        },
        "id": "edH6st9gVPTV",
        "outputId": "21190015-0528-4cc0-d353-33e6911a986c"
      },
      "execution_count": 2,
      "outputs": [
        {
          "output_type": "execute_result",
          "data": {
            "text/plain": [
              "   PassengerId  Survived  Pclass  \\\n",
              "0            1         0       3   \n",
              "1            2         1       1   \n",
              "2            3         1       3   \n",
              "3            4         1       1   \n",
              "4            5         0       3   \n",
              "\n",
              "                                                Name     Sex   Age  SibSp  \\\n",
              "0                            Braund, Mr. Owen Harris    male  22.0      1   \n",
              "1  Cumings, Mrs. John Bradley (Florence Briggs Th...  female  38.0      1   \n",
              "2                             Heikkinen, Miss. Laina  female -26.0      0   \n",
              "3       Futrelle, Mrs. Jacques Heath (Lily May Peel)   femal  35.0      1   \n",
              "4                           Allen, Mr. William Henry    male  35.0      0   \n",
              "\n",
              "   Parch            Ticket     Fare Cabin Embarked  \n",
              "0      0         A/5 21171   7.2500   NaN        S  \n",
              "1      0          PC 17599  71.2833   C85        C  \n",
              "2      0  STON/O2. 3101282   7.9250   NaN        S  \n",
              "3      0            113803  53.1000  C123        S  \n",
              "4      0            373450   8.0500   NaN        S  "
            ],
            "text/html": [
              "\n",
              "  <div id=\"df-652e2659-74a4-4952-88c5-43ff2fcfcace\" class=\"colab-df-container\">\n",
              "    <div>\n",
              "<style scoped>\n",
              "    .dataframe tbody tr th:only-of-type {\n",
              "        vertical-align: middle;\n",
              "    }\n",
              "\n",
              "    .dataframe tbody tr th {\n",
              "        vertical-align: top;\n",
              "    }\n",
              "\n",
              "    .dataframe thead th {\n",
              "        text-align: right;\n",
              "    }\n",
              "</style>\n",
              "<table border=\"1\" class=\"dataframe\">\n",
              "  <thead>\n",
              "    <tr style=\"text-align: right;\">\n",
              "      <th></th>\n",
              "      <th>PassengerId</th>\n",
              "      <th>Survived</th>\n",
              "      <th>Pclass</th>\n",
              "      <th>Name</th>\n",
              "      <th>Sex</th>\n",
              "      <th>Age</th>\n",
              "      <th>SibSp</th>\n",
              "      <th>Parch</th>\n",
              "      <th>Ticket</th>\n",
              "      <th>Fare</th>\n",
              "      <th>Cabin</th>\n",
              "      <th>Embarked</th>\n",
              "    </tr>\n",
              "  </thead>\n",
              "  <tbody>\n",
              "    <tr>\n",
              "      <th>0</th>\n",
              "      <td>1</td>\n",
              "      <td>0</td>\n",
              "      <td>3</td>\n",
              "      <td>Braund, Mr. Owen Harris</td>\n",
              "      <td>male</td>\n",
              "      <td>22.0</td>\n",
              "      <td>1</td>\n",
              "      <td>0</td>\n",
              "      <td>A/5 21171</td>\n",
              "      <td>7.2500</td>\n",
              "      <td>NaN</td>\n",
              "      <td>S</td>\n",
              "    </tr>\n",
              "    <tr>\n",
              "      <th>1</th>\n",
              "      <td>2</td>\n",
              "      <td>1</td>\n",
              "      <td>1</td>\n",
              "      <td>Cumings, Mrs. John Bradley (Florence Briggs Th...</td>\n",
              "      <td>female</td>\n",
              "      <td>38.0</td>\n",
              "      <td>1</td>\n",
              "      <td>0</td>\n",
              "      <td>PC 17599</td>\n",
              "      <td>71.2833</td>\n",
              "      <td>C85</td>\n",
              "      <td>C</td>\n",
              "    </tr>\n",
              "    <tr>\n",
              "      <th>2</th>\n",
              "      <td>3</td>\n",
              "      <td>1</td>\n",
              "      <td>3</td>\n",
              "      <td>Heikkinen, Miss. Laina</td>\n",
              "      <td>female</td>\n",
              "      <td>-26.0</td>\n",
              "      <td>0</td>\n",
              "      <td>0</td>\n",
              "      <td>STON/O2. 3101282</td>\n",
              "      <td>7.9250</td>\n",
              "      <td>NaN</td>\n",
              "      <td>S</td>\n",
              "    </tr>\n",
              "    <tr>\n",
              "      <th>3</th>\n",
              "      <td>4</td>\n",
              "      <td>1</td>\n",
              "      <td>1</td>\n",
              "      <td>Futrelle, Mrs. Jacques Heath (Lily May Peel)</td>\n",
              "      <td>femal</td>\n",
              "      <td>35.0</td>\n",
              "      <td>1</td>\n",
              "      <td>0</td>\n",
              "      <td>113803</td>\n",
              "      <td>53.1000</td>\n",
              "      <td>C123</td>\n",
              "      <td>S</td>\n",
              "    </tr>\n",
              "    <tr>\n",
              "      <th>4</th>\n",
              "      <td>5</td>\n",
              "      <td>0</td>\n",
              "      <td>3</td>\n",
              "      <td>Allen, Mr. William Henry</td>\n",
              "      <td>male</td>\n",
              "      <td>35.0</td>\n",
              "      <td>0</td>\n",
              "      <td>0</td>\n",
              "      <td>373450</td>\n",
              "      <td>8.0500</td>\n",
              "      <td>NaN</td>\n",
              "      <td>S</td>\n",
              "    </tr>\n",
              "  </tbody>\n",
              "</table>\n",
              "</div>\n",
              "    <div class=\"colab-df-buttons\">\n",
              "\n",
              "  <div class=\"colab-df-container\">\n",
              "    <button class=\"colab-df-convert\" onclick=\"convertToInteractive('df-652e2659-74a4-4952-88c5-43ff2fcfcace')\"\n",
              "            title=\"Convert this dataframe to an interactive table.\"\n",
              "            style=\"display:none;\">\n",
              "\n",
              "  <svg xmlns=\"http://www.w3.org/2000/svg\" height=\"24px\" viewBox=\"0 -960 960 960\">\n",
              "    <path d=\"M120-120v-720h720v720H120Zm60-500h600v-160H180v160Zm220 220h160v-160H400v160Zm0 220h160v-160H400v160ZM180-400h160v-160H180v160Zm440 0h160v-160H620v160ZM180-180h160v-160H180v160Zm440 0h160v-160H620v160Z\"/>\n",
              "  </svg>\n",
              "    </button>\n",
              "\n",
              "  <style>\n",
              "    .colab-df-container {\n",
              "      display:flex;\n",
              "      gap: 12px;\n",
              "    }\n",
              "\n",
              "    .colab-df-convert {\n",
              "      background-color: #E8F0FE;\n",
              "      border: none;\n",
              "      border-radius: 50%;\n",
              "      cursor: pointer;\n",
              "      display: none;\n",
              "      fill: #1967D2;\n",
              "      height: 32px;\n",
              "      padding: 0 0 0 0;\n",
              "      width: 32px;\n",
              "    }\n",
              "\n",
              "    .colab-df-convert:hover {\n",
              "      background-color: #E2EBFA;\n",
              "      box-shadow: 0px 1px 2px rgba(60, 64, 67, 0.3), 0px 1px 3px 1px rgba(60, 64, 67, 0.15);\n",
              "      fill: #174EA6;\n",
              "    }\n",
              "\n",
              "    .colab-df-buttons div {\n",
              "      margin-bottom: 4px;\n",
              "    }\n",
              "\n",
              "    [theme=dark] .colab-df-convert {\n",
              "      background-color: #3B4455;\n",
              "      fill: #D2E3FC;\n",
              "    }\n",
              "\n",
              "    [theme=dark] .colab-df-convert:hover {\n",
              "      background-color: #434B5C;\n",
              "      box-shadow: 0px 1px 3px 1px rgba(0, 0, 0, 0.15);\n",
              "      filter: drop-shadow(0px 1px 2px rgba(0, 0, 0, 0.3));\n",
              "      fill: #FFFFFF;\n",
              "    }\n",
              "  </style>\n",
              "\n",
              "    <script>\n",
              "      const buttonEl =\n",
              "        document.querySelector('#df-652e2659-74a4-4952-88c5-43ff2fcfcace button.colab-df-convert');\n",
              "      buttonEl.style.display =\n",
              "        google.colab.kernel.accessAllowed ? 'block' : 'none';\n",
              "\n",
              "      async function convertToInteractive(key) {\n",
              "        const element = document.querySelector('#df-652e2659-74a4-4952-88c5-43ff2fcfcace');\n",
              "        const dataTable =\n",
              "          await google.colab.kernel.invokeFunction('convertToInteractive',\n",
              "                                                    [key], {});\n",
              "        if (!dataTable) return;\n",
              "\n",
              "        const docLinkHtml = 'Like what you see? Visit the ' +\n",
              "          '<a target=\"_blank\" href=https://colab.research.google.com/notebooks/data_table.ipynb>data table notebook</a>'\n",
              "          + ' to learn more about interactive tables.';\n",
              "        element.innerHTML = '';\n",
              "        dataTable['output_type'] = 'display_data';\n",
              "        await google.colab.output.renderOutput(dataTable, element);\n",
              "        const docLink = document.createElement('div');\n",
              "        docLink.innerHTML = docLinkHtml;\n",
              "        element.appendChild(docLink);\n",
              "      }\n",
              "    </script>\n",
              "  </div>\n",
              "\n",
              "\n",
              "<div id=\"df-db0e1185-4e0c-4b85-902b-6c353d06d185\">\n",
              "  <button class=\"colab-df-quickchart\" onclick=\"quickchart('df-db0e1185-4e0c-4b85-902b-6c353d06d185')\"\n",
              "            title=\"Suggest charts\"\n",
              "            style=\"display:none;\">\n",
              "\n",
              "<svg xmlns=\"http://www.w3.org/2000/svg\" height=\"24px\"viewBox=\"0 0 24 24\"\n",
              "     width=\"24px\">\n",
              "    <g>\n",
              "        <path d=\"M19 3H5c-1.1 0-2 .9-2 2v14c0 1.1.9 2 2 2h14c1.1 0 2-.9 2-2V5c0-1.1-.9-2-2-2zM9 17H7v-7h2v7zm4 0h-2V7h2v10zm4 0h-2v-4h2v4z\"/>\n",
              "    </g>\n",
              "</svg>\n",
              "  </button>\n",
              "\n",
              "<style>\n",
              "  .colab-df-quickchart {\n",
              "      --bg-color: #E8F0FE;\n",
              "      --fill-color: #1967D2;\n",
              "      --hover-bg-color: #E2EBFA;\n",
              "      --hover-fill-color: #174EA6;\n",
              "      --disabled-fill-color: #AAA;\n",
              "      --disabled-bg-color: #DDD;\n",
              "  }\n",
              "\n",
              "  [theme=dark] .colab-df-quickchart {\n",
              "      --bg-color: #3B4455;\n",
              "      --fill-color: #D2E3FC;\n",
              "      --hover-bg-color: #434B5C;\n",
              "      --hover-fill-color: #FFFFFF;\n",
              "      --disabled-bg-color: #3B4455;\n",
              "      --disabled-fill-color: #666;\n",
              "  }\n",
              "\n",
              "  .colab-df-quickchart {\n",
              "    background-color: var(--bg-color);\n",
              "    border: none;\n",
              "    border-radius: 50%;\n",
              "    cursor: pointer;\n",
              "    display: none;\n",
              "    fill: var(--fill-color);\n",
              "    height: 32px;\n",
              "    padding: 0;\n",
              "    width: 32px;\n",
              "  }\n",
              "\n",
              "  .colab-df-quickchart:hover {\n",
              "    background-color: var(--hover-bg-color);\n",
              "    box-shadow: 0 1px 2px rgba(60, 64, 67, 0.3), 0 1px 3px 1px rgba(60, 64, 67, 0.15);\n",
              "    fill: var(--button-hover-fill-color);\n",
              "  }\n",
              "\n",
              "  .colab-df-quickchart-complete:disabled,\n",
              "  .colab-df-quickchart-complete:disabled:hover {\n",
              "    background-color: var(--disabled-bg-color);\n",
              "    fill: var(--disabled-fill-color);\n",
              "    box-shadow: none;\n",
              "  }\n",
              "\n",
              "  .colab-df-spinner {\n",
              "    border: 2px solid var(--fill-color);\n",
              "    border-color: transparent;\n",
              "    border-bottom-color: var(--fill-color);\n",
              "    animation:\n",
              "      spin 1s steps(1) infinite;\n",
              "  }\n",
              "\n",
              "  @keyframes spin {\n",
              "    0% {\n",
              "      border-color: transparent;\n",
              "      border-bottom-color: var(--fill-color);\n",
              "      border-left-color: var(--fill-color);\n",
              "    }\n",
              "    20% {\n",
              "      border-color: transparent;\n",
              "      border-left-color: var(--fill-color);\n",
              "      border-top-color: var(--fill-color);\n",
              "    }\n",
              "    30% {\n",
              "      border-color: transparent;\n",
              "      border-left-color: var(--fill-color);\n",
              "      border-top-color: var(--fill-color);\n",
              "      border-right-color: var(--fill-color);\n",
              "    }\n",
              "    40% {\n",
              "      border-color: transparent;\n",
              "      border-right-color: var(--fill-color);\n",
              "      border-top-color: var(--fill-color);\n",
              "    }\n",
              "    60% {\n",
              "      border-color: transparent;\n",
              "      border-right-color: var(--fill-color);\n",
              "    }\n",
              "    80% {\n",
              "      border-color: transparent;\n",
              "      border-right-color: var(--fill-color);\n",
              "      border-bottom-color: var(--fill-color);\n",
              "    }\n",
              "    90% {\n",
              "      border-color: transparent;\n",
              "      border-bottom-color: var(--fill-color);\n",
              "    }\n",
              "  }\n",
              "</style>\n",
              "\n",
              "  <script>\n",
              "    async function quickchart(key) {\n",
              "      const quickchartButtonEl =\n",
              "        document.querySelector('#' + key + ' button');\n",
              "      quickchartButtonEl.disabled = true;  // To prevent multiple clicks.\n",
              "      quickchartButtonEl.classList.add('colab-df-spinner');\n",
              "      try {\n",
              "        const charts = await google.colab.kernel.invokeFunction(\n",
              "            'suggestCharts', [key], {});\n",
              "      } catch (error) {\n",
              "        console.error('Error during call to suggestCharts:', error);\n",
              "      }\n",
              "      quickchartButtonEl.classList.remove('colab-df-spinner');\n",
              "      quickchartButtonEl.classList.add('colab-df-quickchart-complete');\n",
              "    }\n",
              "    (() => {\n",
              "      let quickchartButtonEl =\n",
              "        document.querySelector('#df-db0e1185-4e0c-4b85-902b-6c353d06d185 button');\n",
              "      quickchartButtonEl.style.display =\n",
              "        google.colab.kernel.accessAllowed ? 'block' : 'none';\n",
              "    })();\n",
              "  </script>\n",
              "</div>\n",
              "\n",
              "    </div>\n",
              "  </div>\n"
            ],
            "application/vnd.google.colaboratory.intrinsic+json": {
              "type": "dataframe",
              "variable_name": "df",
              "summary": "{\n  \"name\": \"df\",\n  \"rows\": 891,\n  \"fields\": [\n    {\n      \"column\": \"PassengerId\",\n      \"properties\": {\n        \"dtype\": \"number\",\n        \"std\": 257,\n        \"min\": 1,\n        \"max\": 891,\n        \"num_unique_values\": 891,\n        \"samples\": [\n          710,\n          440,\n          841\n        ],\n        \"semantic_type\": \"\",\n        \"description\": \"\"\n      }\n    },\n    {\n      \"column\": \"Survived\",\n      \"properties\": {\n        \"dtype\": \"number\",\n        \"std\": 0,\n        \"min\": 0,\n        \"max\": 1,\n        \"num_unique_values\": 2,\n        \"samples\": [\n          1,\n          0\n        ],\n        \"semantic_type\": \"\",\n        \"description\": \"\"\n      }\n    },\n    {\n      \"column\": \"Pclass\",\n      \"properties\": {\n        \"dtype\": \"number\",\n        \"std\": 0,\n        \"min\": 1,\n        \"max\": 3,\n        \"num_unique_values\": 3,\n        \"samples\": [\n          3,\n          1\n        ],\n        \"semantic_type\": \"\",\n        \"description\": \"\"\n      }\n    },\n    {\n      \"column\": \"Name\",\n      \"properties\": {\n        \"dtype\": \"string\",\n        \"num_unique_values\": 891,\n        \"samples\": [\n          \"Moubarek, Master. Halim Gonios (\\\"William George\\\")\",\n          \"Kvillner, Mr. Johan Henrik Johannesson\"\n        ],\n        \"semantic_type\": \"\",\n        \"description\": \"\"\n      }\n    },\n    {\n      \"column\": \"Sex\",\n      \"properties\": {\n        \"dtype\": \"category\",\n        \"num_unique_values\": 3,\n        \"samples\": [\n          \"male\",\n          \"female\"\n        ],\n        \"semantic_type\": \"\",\n        \"description\": \"\"\n      }\n    },\n    {\n      \"column\": \"Age\",\n      \"properties\": {\n        \"dtype\": \"number\",\n        \"std\": 14.674665322745668,\n        \"min\": -26.0,\n        \"max\": 80.0,\n        \"num_unique_values\": 89,\n        \"samples\": [\n          59.0,\n          36.5\n        ],\n        \"semantic_type\": \"\",\n        \"description\": \"\"\n      }\n    },\n    {\n      \"column\": \"SibSp\",\n      \"properties\": {\n        \"dtype\": \"number\",\n        \"std\": 1,\n        \"min\": 0,\n        \"max\": 8,\n        \"num_unique_values\": 7,\n        \"samples\": [\n          1,\n          0\n        ],\n        \"semantic_type\": \"\",\n        \"description\": \"\"\n      }\n    },\n    {\n      \"column\": \"Parch\",\n      \"properties\": {\n        \"dtype\": \"number\",\n        \"std\": 0,\n        \"min\": 0,\n        \"max\": 6,\n        \"num_unique_values\": 7,\n        \"samples\": [\n          0,\n          1\n        ],\n        \"semantic_type\": \"\",\n        \"description\": \"\"\n      }\n    },\n    {\n      \"column\": \"Ticket\",\n      \"properties\": {\n        \"dtype\": \"string\",\n        \"num_unique_values\": 681,\n        \"samples\": [\n          \"11774\",\n          \"248740\"\n        ],\n        \"semantic_type\": \"\",\n        \"description\": \"\"\n      }\n    },\n    {\n      \"column\": \"Fare\",\n      \"properties\": {\n        \"dtype\": \"number\",\n        \"std\": 49.693428597180905,\n        \"min\": 0.0,\n        \"max\": 512.3292,\n        \"num_unique_values\": 248,\n        \"samples\": [\n          11.2417,\n          51.8625\n        ],\n        \"semantic_type\": \"\",\n        \"description\": \"\"\n      }\n    },\n    {\n      \"column\": \"Cabin\",\n      \"properties\": {\n        \"dtype\": \"category\",\n        \"num_unique_values\": 147,\n        \"samples\": [\n          \"D45\",\n          \"B49\"\n        ],\n        \"semantic_type\": \"\",\n        \"description\": \"\"\n      }\n    },\n    {\n      \"column\": \"Embarked\",\n      \"properties\": {\n        \"dtype\": \"category\",\n        \"num_unique_values\": 3,\n        \"samples\": [\n          \"S\",\n          \"C\"\n        ],\n        \"semantic_type\": \"\",\n        \"description\": \"\"\n      }\n    }\n  ]\n}"
            }
          },
          "metadata": {},
          "execution_count": 2
        }
      ]
    },
    {
      "cell_type": "code",
      "source": [
        "df.shape"
      ],
      "metadata": {
        "colab": {
          "base_uri": "https://localhost:8080/"
        },
        "id": "NU9J9r1RVXH4",
        "outputId": "b5773324-0978-42b0-a785-511b02857c0e"
      },
      "execution_count": 3,
      "outputs": [
        {
          "output_type": "execute_result",
          "data": {
            "text/plain": [
              "(891, 12)"
            ]
          },
          "metadata": {},
          "execution_count": 3
        }
      ]
    },
    {
      "cell_type": "code",
      "source": [
        "df.columns"
      ],
      "metadata": {
        "colab": {
          "base_uri": "https://localhost:8080/"
        },
        "id": "DN8HXzGbVZL8",
        "outputId": "cef2da62-7d5d-4547-e5bf-b423e2ff14b9"
      },
      "execution_count": 4,
      "outputs": [
        {
          "output_type": "execute_result",
          "data": {
            "text/plain": [
              "Index(['PassengerId', 'Survived', 'Pclass', 'Name', 'Sex', 'Age', 'SibSp',\n",
              "       'Parch', 'Ticket', 'Fare', 'Cabin', 'Embarked'],\n",
              "      dtype='object')"
            ]
          },
          "metadata": {},
          "execution_count": 4
        }
      ]
    },
    {
      "cell_type": "code",
      "source": [
        "df.dtypes"
      ],
      "metadata": {
        "colab": {
          "base_uri": "https://localhost:8080/",
          "height": 460
        },
        "id": "GvmChwZAVcMY",
        "outputId": "c23b5688-c864-4082-f30f-d5ca020e8143"
      },
      "execution_count": 5,
      "outputs": [
        {
          "output_type": "execute_result",
          "data": {
            "text/plain": [
              "PassengerId      int64\n",
              "Survived         int64\n",
              "Pclass           int64\n",
              "Name            object\n",
              "Sex             object\n",
              "Age            float64\n",
              "SibSp            int64\n",
              "Parch            int64\n",
              "Ticket          object\n",
              "Fare           float64\n",
              "Cabin           object\n",
              "Embarked        object\n",
              "dtype: object"
            ],
            "text/html": [
              "<div>\n",
              "<style scoped>\n",
              "    .dataframe tbody tr th:only-of-type {\n",
              "        vertical-align: middle;\n",
              "    }\n",
              "\n",
              "    .dataframe tbody tr th {\n",
              "        vertical-align: top;\n",
              "    }\n",
              "\n",
              "    .dataframe thead th {\n",
              "        text-align: right;\n",
              "    }\n",
              "</style>\n",
              "<table border=\"1\" class=\"dataframe\">\n",
              "  <thead>\n",
              "    <tr style=\"text-align: right;\">\n",
              "      <th></th>\n",
              "      <th>0</th>\n",
              "    </tr>\n",
              "  </thead>\n",
              "  <tbody>\n",
              "    <tr>\n",
              "      <th>PassengerId</th>\n",
              "      <td>int64</td>\n",
              "    </tr>\n",
              "    <tr>\n",
              "      <th>Survived</th>\n",
              "      <td>int64</td>\n",
              "    </tr>\n",
              "    <tr>\n",
              "      <th>Pclass</th>\n",
              "      <td>int64</td>\n",
              "    </tr>\n",
              "    <tr>\n",
              "      <th>Name</th>\n",
              "      <td>object</td>\n",
              "    </tr>\n",
              "    <tr>\n",
              "      <th>Sex</th>\n",
              "      <td>object</td>\n",
              "    </tr>\n",
              "    <tr>\n",
              "      <th>Age</th>\n",
              "      <td>float64</td>\n",
              "    </tr>\n",
              "    <tr>\n",
              "      <th>SibSp</th>\n",
              "      <td>int64</td>\n",
              "    </tr>\n",
              "    <tr>\n",
              "      <th>Parch</th>\n",
              "      <td>int64</td>\n",
              "    </tr>\n",
              "    <tr>\n",
              "      <th>Ticket</th>\n",
              "      <td>object</td>\n",
              "    </tr>\n",
              "    <tr>\n",
              "      <th>Fare</th>\n",
              "      <td>float64</td>\n",
              "    </tr>\n",
              "    <tr>\n",
              "      <th>Cabin</th>\n",
              "      <td>object</td>\n",
              "    </tr>\n",
              "    <tr>\n",
              "      <th>Embarked</th>\n",
              "      <td>object</td>\n",
              "    </tr>\n",
              "  </tbody>\n",
              "</table>\n",
              "</div><br><label><b>dtype:</b> object</label>"
            ]
          },
          "metadata": {},
          "execution_count": 5
        }
      ]
    },
    {
      "cell_type": "code",
      "source": [],
      "metadata": {
        "id": "bboXcazCVfuD"
      },
      "execution_count": 5,
      "outputs": []
    },
    {
      "cell_type": "markdown",
      "source": [
        "# Descriptive Statistics"
      ],
      "metadata": {
        "id": "rRIcf9NiVkMM"
      }
    },
    {
      "cell_type": "markdown",
      "source": [
        "## Measure of central tendency"
      ],
      "metadata": {
        "id": "IU1p7k1pVpEu"
      }
    },
    {
      "cell_type": "code",
      "source": [
        "# mean\n",
        "\n",
        "df.Fare.mean()"
      ],
      "metadata": {
        "colab": {
          "base_uri": "https://localhost:8080/"
        },
        "id": "e3zVCXnEVmwU",
        "outputId": "041e6cc7-a141-4a78-cd00-df2e4adb819a"
      },
      "execution_count": 6,
      "outputs": [
        {
          "output_type": "execute_result",
          "data": {
            "text/plain": [
              "32.204207968574636"
            ]
          },
          "metadata": {},
          "execution_count": 6
        }
      ]
    },
    {
      "cell_type": "code",
      "source": [
        "# median\n",
        "\n",
        "df.Fare.median()"
      ],
      "metadata": {
        "colab": {
          "base_uri": "https://localhost:8080/"
        },
        "id": "RzRFg3rdV0HN",
        "outputId": "858dc8b3-0579-4317-9e1e-b0b20ee8a4fa"
      },
      "execution_count": 7,
      "outputs": [
        {
          "output_type": "execute_result",
          "data": {
            "text/plain": [
              "14.4542"
            ]
          },
          "metadata": {},
          "execution_count": 7
        }
      ]
    },
    {
      "cell_type": "code",
      "source": [
        "# mode\n",
        "\n",
        "df.Sex.mode()[0]"
      ],
      "metadata": {
        "colab": {
          "base_uri": "https://localhost:8080/",
          "height": 35
        },
        "id": "Z5bUYpe1Wbj0",
        "outputId": "a6079707-d210-4b29-a095-6806c1367c8c"
      },
      "execution_count": 8,
      "outputs": [
        {
          "output_type": "execute_result",
          "data": {
            "text/plain": [
              "'male'"
            ],
            "application/vnd.google.colaboratory.intrinsic+json": {
              "type": "string"
            }
          },
          "metadata": {},
          "execution_count": 8
        }
      ]
    },
    {
      "cell_type": "markdown",
      "source": [
        "# Measure of spread"
      ],
      "metadata": {
        "id": "IB3InniHWyrV"
      }
    },
    {
      "cell_type": "code",
      "source": [
        "# variance\n",
        "\n",
        "df.Fare.var()"
      ],
      "metadata": {
        "colab": {
          "base_uri": "https://localhost:8080/"
        },
        "id": "UHArla5TWlUH",
        "outputId": "4e3bafe3-6cce-4daa-e4e3-9e7afdac37c9"
      },
      "execution_count": 9,
      "outputs": [
        {
          "output_type": "execute_result",
          "data": {
            "text/plain": [
              "2469.436845743117"
            ]
          },
          "metadata": {},
          "execution_count": 9
        }
      ]
    },
    {
      "cell_type": "code",
      "source": [
        "# standard deviation\n",
        "\n",
        "df.Fare.std()"
      ],
      "metadata": {
        "colab": {
          "base_uri": "https://localhost:8080/"
        },
        "id": "k0NWfiaBZ0Ok",
        "outputId": "d6fc0a2f-8130-46dc-948e-0422d5cbb7cb"
      },
      "execution_count": 10,
      "outputs": [
        {
          "output_type": "execute_result",
          "data": {
            "text/plain": [
              "49.693428597180905"
            ]
          },
          "metadata": {},
          "execution_count": 10
        }
      ]
    },
    {
      "cell_type": "code",
      "source": [
        "# range\n",
        "\n",
        "df.Fare.max()-df.Fare.min()"
      ],
      "metadata": {
        "colab": {
          "base_uri": "https://localhost:8080/"
        },
        "id": "JU5KObLcbsIU",
        "outputId": "daeef84a-e74d-42dc-d6c2-015baac84fb9"
      },
      "execution_count": 11,
      "outputs": [
        {
          "output_type": "execute_result",
          "data": {
            "text/plain": [
              "512.3292"
            ]
          },
          "metadata": {},
          "execution_count": 11
        }
      ]
    },
    {
      "cell_type": "code",
      "source": [
        "# IQR\n",
        "\n",
        "df.Fare.quantile(0.75)-df.Fare.quantile(0.25)"
      ],
      "metadata": {
        "colab": {
          "base_uri": "https://localhost:8080/"
        },
        "id": "gL6Bzh3Eb2gx",
        "outputId": "1842f8b8-9be0-443a-afd2-9a659cb56e3a"
      },
      "execution_count": 12,
      "outputs": [
        {
          "output_type": "execute_result",
          "data": {
            "text/plain": [
              "23.0896"
            ]
          },
          "metadata": {},
          "execution_count": 12
        }
      ]
    },
    {
      "cell_type": "code",
      "source": [
        "df.describe()"
      ],
      "metadata": {
        "colab": {
          "base_uri": "https://localhost:8080/",
          "height": 300
        },
        "id": "la-jpKlScoON",
        "outputId": "b4ee32af-accf-442d-a63d-bf4a4d7106d7"
      },
      "execution_count": 13,
      "outputs": [
        {
          "output_type": "execute_result",
          "data": {
            "text/plain": [
              "       PassengerId    Survived      Pclass         Age       SibSp  \\\n",
              "count   891.000000  891.000000  891.000000  714.000000  891.000000   \n",
              "mean    446.000000    0.383838    2.308642   29.626289    0.523008   \n",
              "std     257.353842    0.486592    0.836071   14.674665    1.102743   \n",
              "min       1.000000    0.000000    1.000000  -26.000000    0.000000   \n",
              "25%     223.500000    0.000000    2.000000   20.000000    0.000000   \n",
              "50%     446.000000    0.000000    3.000000   28.000000    0.000000   \n",
              "75%     668.500000    1.000000    3.000000   38.000000    1.000000   \n",
              "max     891.000000    1.000000    3.000000   80.000000    8.000000   \n",
              "\n",
              "            Parch        Fare  \n",
              "count  891.000000  891.000000  \n",
              "mean     0.381594   32.204208  \n",
              "std      0.806057   49.693429  \n",
              "min      0.000000    0.000000  \n",
              "25%      0.000000    7.910400  \n",
              "50%      0.000000   14.454200  \n",
              "75%      0.000000   31.000000  \n",
              "max      6.000000  512.329200  "
            ],
            "text/html": [
              "\n",
              "  <div id=\"df-3a0f8688-6e38-42ad-b2fa-b94c286eda1c\" class=\"colab-df-container\">\n",
              "    <div>\n",
              "<style scoped>\n",
              "    .dataframe tbody tr th:only-of-type {\n",
              "        vertical-align: middle;\n",
              "    }\n",
              "\n",
              "    .dataframe tbody tr th {\n",
              "        vertical-align: top;\n",
              "    }\n",
              "\n",
              "    .dataframe thead th {\n",
              "        text-align: right;\n",
              "    }\n",
              "</style>\n",
              "<table border=\"1\" class=\"dataframe\">\n",
              "  <thead>\n",
              "    <tr style=\"text-align: right;\">\n",
              "      <th></th>\n",
              "      <th>PassengerId</th>\n",
              "      <th>Survived</th>\n",
              "      <th>Pclass</th>\n",
              "      <th>Age</th>\n",
              "      <th>SibSp</th>\n",
              "      <th>Parch</th>\n",
              "      <th>Fare</th>\n",
              "    </tr>\n",
              "  </thead>\n",
              "  <tbody>\n",
              "    <tr>\n",
              "      <th>count</th>\n",
              "      <td>891.000000</td>\n",
              "      <td>891.000000</td>\n",
              "      <td>891.000000</td>\n",
              "      <td>714.000000</td>\n",
              "      <td>891.000000</td>\n",
              "      <td>891.000000</td>\n",
              "      <td>891.000000</td>\n",
              "    </tr>\n",
              "    <tr>\n",
              "      <th>mean</th>\n",
              "      <td>446.000000</td>\n",
              "      <td>0.383838</td>\n",
              "      <td>2.308642</td>\n",
              "      <td>29.626289</td>\n",
              "      <td>0.523008</td>\n",
              "      <td>0.381594</td>\n",
              "      <td>32.204208</td>\n",
              "    </tr>\n",
              "    <tr>\n",
              "      <th>std</th>\n",
              "      <td>257.353842</td>\n",
              "      <td>0.486592</td>\n",
              "      <td>0.836071</td>\n",
              "      <td>14.674665</td>\n",
              "      <td>1.102743</td>\n",
              "      <td>0.806057</td>\n",
              "      <td>49.693429</td>\n",
              "    </tr>\n",
              "    <tr>\n",
              "      <th>min</th>\n",
              "      <td>1.000000</td>\n",
              "      <td>0.000000</td>\n",
              "      <td>1.000000</td>\n",
              "      <td>-26.000000</td>\n",
              "      <td>0.000000</td>\n",
              "      <td>0.000000</td>\n",
              "      <td>0.000000</td>\n",
              "    </tr>\n",
              "    <tr>\n",
              "      <th>25%</th>\n",
              "      <td>223.500000</td>\n",
              "      <td>0.000000</td>\n",
              "      <td>2.000000</td>\n",
              "      <td>20.000000</td>\n",
              "      <td>0.000000</td>\n",
              "      <td>0.000000</td>\n",
              "      <td>7.910400</td>\n",
              "    </tr>\n",
              "    <tr>\n",
              "      <th>50%</th>\n",
              "      <td>446.000000</td>\n",
              "      <td>0.000000</td>\n",
              "      <td>3.000000</td>\n",
              "      <td>28.000000</td>\n",
              "      <td>0.000000</td>\n",
              "      <td>0.000000</td>\n",
              "      <td>14.454200</td>\n",
              "    </tr>\n",
              "    <tr>\n",
              "      <th>75%</th>\n",
              "      <td>668.500000</td>\n",
              "      <td>1.000000</td>\n",
              "      <td>3.000000</td>\n",
              "      <td>38.000000</td>\n",
              "      <td>1.000000</td>\n",
              "      <td>0.000000</td>\n",
              "      <td>31.000000</td>\n",
              "    </tr>\n",
              "    <tr>\n",
              "      <th>max</th>\n",
              "      <td>891.000000</td>\n",
              "      <td>1.000000</td>\n",
              "      <td>3.000000</td>\n",
              "      <td>80.000000</td>\n",
              "      <td>8.000000</td>\n",
              "      <td>6.000000</td>\n",
              "      <td>512.329200</td>\n",
              "    </tr>\n",
              "  </tbody>\n",
              "</table>\n",
              "</div>\n",
              "    <div class=\"colab-df-buttons\">\n",
              "\n",
              "  <div class=\"colab-df-container\">\n",
              "    <button class=\"colab-df-convert\" onclick=\"convertToInteractive('df-3a0f8688-6e38-42ad-b2fa-b94c286eda1c')\"\n",
              "            title=\"Convert this dataframe to an interactive table.\"\n",
              "            style=\"display:none;\">\n",
              "\n",
              "  <svg xmlns=\"http://www.w3.org/2000/svg\" height=\"24px\" viewBox=\"0 -960 960 960\">\n",
              "    <path d=\"M120-120v-720h720v720H120Zm60-500h600v-160H180v160Zm220 220h160v-160H400v160Zm0 220h160v-160H400v160ZM180-400h160v-160H180v160Zm440 0h160v-160H620v160ZM180-180h160v-160H180v160Zm440 0h160v-160H620v160Z\"/>\n",
              "  </svg>\n",
              "    </button>\n",
              "\n",
              "  <style>\n",
              "    .colab-df-container {\n",
              "      display:flex;\n",
              "      gap: 12px;\n",
              "    }\n",
              "\n",
              "    .colab-df-convert {\n",
              "      background-color: #E8F0FE;\n",
              "      border: none;\n",
              "      border-radius: 50%;\n",
              "      cursor: pointer;\n",
              "      display: none;\n",
              "      fill: #1967D2;\n",
              "      height: 32px;\n",
              "      padding: 0 0 0 0;\n",
              "      width: 32px;\n",
              "    }\n",
              "\n",
              "    .colab-df-convert:hover {\n",
              "      background-color: #E2EBFA;\n",
              "      box-shadow: 0px 1px 2px rgba(60, 64, 67, 0.3), 0px 1px 3px 1px rgba(60, 64, 67, 0.15);\n",
              "      fill: #174EA6;\n",
              "    }\n",
              "\n",
              "    .colab-df-buttons div {\n",
              "      margin-bottom: 4px;\n",
              "    }\n",
              "\n",
              "    [theme=dark] .colab-df-convert {\n",
              "      background-color: #3B4455;\n",
              "      fill: #D2E3FC;\n",
              "    }\n",
              "\n",
              "    [theme=dark] .colab-df-convert:hover {\n",
              "      background-color: #434B5C;\n",
              "      box-shadow: 0px 1px 3px 1px rgba(0, 0, 0, 0.15);\n",
              "      filter: drop-shadow(0px 1px 2px rgba(0, 0, 0, 0.3));\n",
              "      fill: #FFFFFF;\n",
              "    }\n",
              "  </style>\n",
              "\n",
              "    <script>\n",
              "      const buttonEl =\n",
              "        document.querySelector('#df-3a0f8688-6e38-42ad-b2fa-b94c286eda1c button.colab-df-convert');\n",
              "      buttonEl.style.display =\n",
              "        google.colab.kernel.accessAllowed ? 'block' : 'none';\n",
              "\n",
              "      async function convertToInteractive(key) {\n",
              "        const element = document.querySelector('#df-3a0f8688-6e38-42ad-b2fa-b94c286eda1c');\n",
              "        const dataTable =\n",
              "          await google.colab.kernel.invokeFunction('convertToInteractive',\n",
              "                                                    [key], {});\n",
              "        if (!dataTable) return;\n",
              "\n",
              "        const docLinkHtml = 'Like what you see? Visit the ' +\n",
              "          '<a target=\"_blank\" href=https://colab.research.google.com/notebooks/data_table.ipynb>data table notebook</a>'\n",
              "          + ' to learn more about interactive tables.';\n",
              "        element.innerHTML = '';\n",
              "        dataTable['output_type'] = 'display_data';\n",
              "        await google.colab.output.renderOutput(dataTable, element);\n",
              "        const docLink = document.createElement('div');\n",
              "        docLink.innerHTML = docLinkHtml;\n",
              "        element.appendChild(docLink);\n",
              "      }\n",
              "    </script>\n",
              "  </div>\n",
              "\n",
              "\n",
              "<div id=\"df-86830514-29e1-4af5-8368-8e7714ea9faa\">\n",
              "  <button class=\"colab-df-quickchart\" onclick=\"quickchart('df-86830514-29e1-4af5-8368-8e7714ea9faa')\"\n",
              "            title=\"Suggest charts\"\n",
              "            style=\"display:none;\">\n",
              "\n",
              "<svg xmlns=\"http://www.w3.org/2000/svg\" height=\"24px\"viewBox=\"0 0 24 24\"\n",
              "     width=\"24px\">\n",
              "    <g>\n",
              "        <path d=\"M19 3H5c-1.1 0-2 .9-2 2v14c0 1.1.9 2 2 2h14c1.1 0 2-.9 2-2V5c0-1.1-.9-2-2-2zM9 17H7v-7h2v7zm4 0h-2V7h2v10zm4 0h-2v-4h2v4z\"/>\n",
              "    </g>\n",
              "</svg>\n",
              "  </button>\n",
              "\n",
              "<style>\n",
              "  .colab-df-quickchart {\n",
              "      --bg-color: #E8F0FE;\n",
              "      --fill-color: #1967D2;\n",
              "      --hover-bg-color: #E2EBFA;\n",
              "      --hover-fill-color: #174EA6;\n",
              "      --disabled-fill-color: #AAA;\n",
              "      --disabled-bg-color: #DDD;\n",
              "  }\n",
              "\n",
              "  [theme=dark] .colab-df-quickchart {\n",
              "      --bg-color: #3B4455;\n",
              "      --fill-color: #D2E3FC;\n",
              "      --hover-bg-color: #434B5C;\n",
              "      --hover-fill-color: #FFFFFF;\n",
              "      --disabled-bg-color: #3B4455;\n",
              "      --disabled-fill-color: #666;\n",
              "  }\n",
              "\n",
              "  .colab-df-quickchart {\n",
              "    background-color: var(--bg-color);\n",
              "    border: none;\n",
              "    border-radius: 50%;\n",
              "    cursor: pointer;\n",
              "    display: none;\n",
              "    fill: var(--fill-color);\n",
              "    height: 32px;\n",
              "    padding: 0;\n",
              "    width: 32px;\n",
              "  }\n",
              "\n",
              "  .colab-df-quickchart:hover {\n",
              "    background-color: var(--hover-bg-color);\n",
              "    box-shadow: 0 1px 2px rgba(60, 64, 67, 0.3), 0 1px 3px 1px rgba(60, 64, 67, 0.15);\n",
              "    fill: var(--button-hover-fill-color);\n",
              "  }\n",
              "\n",
              "  .colab-df-quickchart-complete:disabled,\n",
              "  .colab-df-quickchart-complete:disabled:hover {\n",
              "    background-color: var(--disabled-bg-color);\n",
              "    fill: var(--disabled-fill-color);\n",
              "    box-shadow: none;\n",
              "  }\n",
              "\n",
              "  .colab-df-spinner {\n",
              "    border: 2px solid var(--fill-color);\n",
              "    border-color: transparent;\n",
              "    border-bottom-color: var(--fill-color);\n",
              "    animation:\n",
              "      spin 1s steps(1) infinite;\n",
              "  }\n",
              "\n",
              "  @keyframes spin {\n",
              "    0% {\n",
              "      border-color: transparent;\n",
              "      border-bottom-color: var(--fill-color);\n",
              "      border-left-color: var(--fill-color);\n",
              "    }\n",
              "    20% {\n",
              "      border-color: transparent;\n",
              "      border-left-color: var(--fill-color);\n",
              "      border-top-color: var(--fill-color);\n",
              "    }\n",
              "    30% {\n",
              "      border-color: transparent;\n",
              "      border-left-color: var(--fill-color);\n",
              "      border-top-color: var(--fill-color);\n",
              "      border-right-color: var(--fill-color);\n",
              "    }\n",
              "    40% {\n",
              "      border-color: transparent;\n",
              "      border-right-color: var(--fill-color);\n",
              "      border-top-color: var(--fill-color);\n",
              "    }\n",
              "    60% {\n",
              "      border-color: transparent;\n",
              "      border-right-color: var(--fill-color);\n",
              "    }\n",
              "    80% {\n",
              "      border-color: transparent;\n",
              "      border-right-color: var(--fill-color);\n",
              "      border-bottom-color: var(--fill-color);\n",
              "    }\n",
              "    90% {\n",
              "      border-color: transparent;\n",
              "      border-bottom-color: var(--fill-color);\n",
              "    }\n",
              "  }\n",
              "</style>\n",
              "\n",
              "  <script>\n",
              "    async function quickchart(key) {\n",
              "      const quickchartButtonEl =\n",
              "        document.querySelector('#' + key + ' button');\n",
              "      quickchartButtonEl.disabled = true;  // To prevent multiple clicks.\n",
              "      quickchartButtonEl.classList.add('colab-df-spinner');\n",
              "      try {\n",
              "        const charts = await google.colab.kernel.invokeFunction(\n",
              "            'suggestCharts', [key], {});\n",
              "      } catch (error) {\n",
              "        console.error('Error during call to suggestCharts:', error);\n",
              "      }\n",
              "      quickchartButtonEl.classList.remove('colab-df-spinner');\n",
              "      quickchartButtonEl.classList.add('colab-df-quickchart-complete');\n",
              "    }\n",
              "    (() => {\n",
              "      let quickchartButtonEl =\n",
              "        document.querySelector('#df-86830514-29e1-4af5-8368-8e7714ea9faa button');\n",
              "      quickchartButtonEl.style.display =\n",
              "        google.colab.kernel.accessAllowed ? 'block' : 'none';\n",
              "    })();\n",
              "  </script>\n",
              "</div>\n",
              "\n",
              "    </div>\n",
              "  </div>\n"
            ],
            "application/vnd.google.colaboratory.intrinsic+json": {
              "type": "dataframe",
              "summary": "{\n  \"name\": \"df\",\n  \"rows\": 8,\n  \"fields\": [\n    {\n      \"column\": \"PassengerId\",\n      \"properties\": {\n        \"dtype\": \"number\",\n        \"std\": 320.8159711429856,\n        \"min\": 1.0,\n        \"max\": 891.0,\n        \"num_unique_values\": 6,\n        \"samples\": [\n          891.0,\n          446.0,\n          668.5\n        ],\n        \"semantic_type\": \"\",\n        \"description\": \"\"\n      }\n    },\n    {\n      \"column\": \"Survived\",\n      \"properties\": {\n        \"dtype\": \"number\",\n        \"std\": 314.8713661874558,\n        \"min\": 0.0,\n        \"max\": 891.0,\n        \"num_unique_values\": 5,\n        \"samples\": [\n          0.3838383838383838,\n          1.0,\n          0.4865924542648585\n        ],\n        \"semantic_type\": \"\",\n        \"description\": \"\"\n      }\n    },\n    {\n      \"column\": \"Pclass\",\n      \"properties\": {\n        \"dtype\": \"number\",\n        \"std\": 314.2523437079693,\n        \"min\": 0.8360712409770513,\n        \"max\": 891.0,\n        \"num_unique_values\": 6,\n        \"samples\": [\n          891.0,\n          2.308641975308642,\n          3.0\n        ],\n        \"semantic_type\": \"\",\n        \"description\": \"\"\n      }\n    },\n    {\n      \"column\": \"Age\",\n      \"properties\": {\n        \"dtype\": \"number\",\n        \"std\": 244.8687658187591,\n        \"min\": -26.0,\n        \"max\": 714.0,\n        \"num_unique_values\": 8,\n        \"samples\": [\n          29.62628851540616,\n          28.0,\n          714.0\n        ],\n        \"semantic_type\": \"\",\n        \"description\": \"\"\n      }\n    },\n    {\n      \"column\": \"SibSp\",\n      \"properties\": {\n        \"dtype\": \"number\",\n        \"std\": 314.4908277465442,\n        \"min\": 0.0,\n        \"max\": 891.0,\n        \"num_unique_values\": 6,\n        \"samples\": [\n          891.0,\n          0.5230078563411896,\n          8.0\n        ],\n        \"semantic_type\": \"\",\n        \"description\": \"\"\n      }\n    },\n    {\n      \"column\": \"Parch\",\n      \"properties\": {\n        \"dtype\": \"number\",\n        \"std\": 314.65971717879,\n        \"min\": 0.0,\n        \"max\": 891.0,\n        \"num_unique_values\": 5,\n        \"samples\": [\n          0.38159371492704824,\n          6.0,\n          0.8060572211299559\n        ],\n        \"semantic_type\": \"\",\n        \"description\": \"\"\n      }\n    },\n    {\n      \"column\": \"Fare\",\n      \"properties\": {\n        \"dtype\": \"number\",\n        \"std\": 330.6256632228577,\n        \"min\": 0.0,\n        \"max\": 891.0,\n        \"num_unique_values\": 8,\n        \"samples\": [\n          32.204207968574636,\n          14.4542,\n          891.0\n        ],\n        \"semantic_type\": \"\",\n        \"description\": \"\"\n      }\n    }\n  ]\n}"
            }
          },
          "metadata": {},
          "execution_count": 13
        }
      ]
    },
    {
      "cell_type": "code",
      "source": [
        "# covariance\n",
        "import numpy as np\n",
        "\n",
        "np.cov(df.Fare)\n"
      ],
      "metadata": {
        "colab": {
          "base_uri": "https://localhost:8080/"
        },
        "id": "hPokeCaGct56",
        "outputId": "e2870b89-9635-48f8-bded-76443f2b8460"
      },
      "execution_count": 14,
      "outputs": [
        {
          "output_type": "execute_result",
          "data": {
            "text/plain": [
              "array(2469.43684574)"
            ]
          },
          "metadata": {},
          "execution_count": 14
        }
      ]
    },
    {
      "cell_type": "code",
      "source": [
        "# skewness\n",
        "\n",
        "import seaborn as sns\n",
        "import matplotlib.pyplot as plt\n",
        "sns.histplot(df.Fare)\n",
        "plt.title(\"histogram of fare column\")\n",
        "plt.show()"
      ],
      "metadata": {
        "colab": {
          "base_uri": "https://localhost:8080/",
          "height": 472
        },
        "id": "It2onrKIeZUg",
        "outputId": "f387becd-069e-4385-90ea-ac02510bb47d"
      },
      "execution_count": 15,
      "outputs": [
        {
          "output_type": "display_data",
          "data": {
            "text/plain": [
              "<Figure size 640x480 with 1 Axes>"
            ],
            "image/png": "[encoded data removed]"
          },
          "metadata": {}
        }
      ]
    },
    {
      "cell_type": "code",
      "source": [
        "df.Fare.skew()"
      ],
      "metadata": {
        "colab": {
          "base_uri": "https://localhost:8080/"
        },
        "id": "Fg9qLdCiew2F",
        "outputId": "a9f8e370-de20-4de9-9a85-34290608b36f"
      },
      "execution_count": 16,
      "outputs": [
        {
          "output_type": "execute_result",
          "data": {
            "text/plain": [
              "4.787316519674893"
            ]
          },
          "metadata": {},
          "execution_count": 16
        }
      ]
    },
    {
      "cell_type": "code",
      "source": [
        "# kurtosis\n",
        "\n",
        "df.Fare.kurt()"
      ],
      "metadata": {
        "colab": {
          "base_uri": "https://localhost:8080/"
        },
        "id": "Hg1GkxKJe5TX",
        "outputId": "ec5ead1c-7adc-4386-97e4-48e87de6a08d"
      },
      "execution_count": 17,
      "outputs": [
        {
          "output_type": "execute_result",
          "data": {
            "text/plain": [
              "33.39814088089868"
            ]
          },
          "metadata": {},
          "execution_count": 17
        }
      ]
    },
    {
      "cell_type": "code",
      "source": [],
      "metadata": {
        "id": "JzHJpHsqfFGx"
      },
      "execution_count": 17,
      "outputs": []
    },
    {
      "cell_type": "markdown",
      "source": [
        "# Normalization and Standardization"
      ],
      "metadata": {
        "id": "DbtEjN6JfZfO"
      }
    },
    {
      "cell_type": "markdown",
      "source": [
        "![1_HW7-kYjj6RKwrO-5WTLkDA.png](data:image/png;base64,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)"
      ],
      "metadata": {
        "id": "bwQobJLSj4Ri"
      }
    },
    {
      "cell_type": "code",
      "source": [
        "# Normalization\n",
        "from sklearn.preprocessing import MinMaxScaler\n",
        "scaler=MinMaxScaler()"
      ],
      "metadata": {
        "id": "ZR5lBqgAVyo0"
      },
      "execution_count": 18,
      "outputs": []
    },
    {
      "cell_type": "code",
      "source": [
        "df['fare_normalized']=scaler.fit_transform(df[['Fare']])"
      ],
      "metadata": {
        "id": "BGs4iTj9h2h-"
      },
      "execution_count": 26,
      "outputs": []
    },
    {
      "cell_type": "code",
      "source": [
        "df['fare_normalized']"
      ],
      "metadata": {
        "colab": {
          "base_uri": "https://localhost:8080/",
          "height": 458
        },
        "id": "-cWgC1UjiQAZ",
        "outputId": "47005e15-74ce-4d13-e6f1-d274e60a3387"
      },
      "execution_count": 27,
      "outputs": [
        {
          "output_type": "execute_result",
          "data": {
            "text/plain": [
              "0      0.014151\n",
              "1      0.139136\n",
              "2      0.015469\n",
              "3      0.103644\n",
              "4      0.015713\n",
              "         ...   \n",
              "886    0.025374\n",
              "887    0.058556\n",
              "888    0.045771\n",
              "889    0.058556\n",
              "890    0.015127\n",
              "Name: fare_normalized, Length: 891, dtype: float64"
            ],
            "text/html": [
              "<div>\n",
              "<style scoped>\n",
              "    .dataframe tbody tr th:only-of-type {\n",
              "        vertical-align: middle;\n",
              "    }\n",
              "\n",
              "    .dataframe tbody tr th {\n",
              "        vertical-align: top;\n",
              "    }\n",
              "\n",
              "    .dataframe thead th {\n",
              "        text-align: right;\n",
              "    }\n",
              "</style>\n",
              "<table border=\"1\" class=\"dataframe\">\n",
              "  <thead>\n",
              "    <tr style=\"text-align: right;\">\n",
              "      <th></th>\n",
              "      <th>fare_normalized</th>\n",
              "    </tr>\n",
              "  </thead>\n",
              "  <tbody>\n",
              "    <tr>\n",
              "      <th>0</th>\n",
              "      <td>0.014151</td>\n",
              "    </tr>\n",
              "    <tr>\n",
              "      <th>1</th>\n",
              "      <td>0.139136</td>\n",
              "    </tr>\n",
              "    <tr>\n",
              "      <th>2</th>\n",
              "      <td>0.015469</td>\n",
              "    </tr>\n",
              "    <tr>\n",
              "      <th>3</th>\n",
              "      <td>0.103644</td>\n",
              "    </tr>\n",
              "    <tr>\n",
              "      <th>4</th>\n",
              "      <td>0.015713</td>\n",
              "    </tr>\n",
              "    <tr>\n",
              "      <th>...</th>\n",
              "      <td>...</td>\n",
              "    </tr>\n",
              "    <tr>\n",
              "      <th>886</th>\n",
              "      <td>0.025374</td>\n",
              "    </tr>\n",
              "    <tr>\n",
              "      <th>887</th>\n",
              "      <td>0.058556</td>\n",
              "    </tr>\n",
              "    <tr>\n",
              "      <th>888</th>\n",
              "      <td>0.045771</td>\n",
              "    </tr>\n",
              "    <tr>\n",
              "      <th>889</th>\n",
              "      <td>0.058556</td>\n",
              "    </tr>\n",
              "    <tr>\n",
              "      <th>890</th>\n",
              "      <td>0.015127</td>\n",
              "    </tr>\n",
              "  </tbody>\n",
              "</table>\n",
              "<p>891 rows × 1 columns</p>\n",
              "</div><br><label><b>dtype:</b> float64</label>"
            ]
          },
          "metadata": {},
          "execution_count": 27
        }
      ]
    },
    {
      "cell_type": "code",
      "source": [
        "# standardization\n",
        "\n",
        "from sklearn.preprocessing import StandardScaler\n",
        "scaler=StandardScaler()"
      ],
      "metadata": {
        "id": "byee-tK-iRqV"
      },
      "execution_count": 28,
      "outputs": []
    },
    {
      "cell_type": "code",
      "source": [
        "df['fare_standardized']=scaler.fit_transform(df[['Fare']])"
      ],
      "metadata": {
        "id": "6VkrHpwuiePa"
      },
      "execution_count": 29,
      "outputs": []
    },
    {
      "cell_type": "code",
      "source": [
        "df['fare_standardized']"
      ],
      "metadata": {
        "colab": {
          "base_uri": "https://localhost:8080/",
          "height": 458
        },
        "id": "d2E8pDRNijVU",
        "outputId": "562f0ad3-6bc1-4615-e56a-d320c7d1a4de"
      },
      "execution_count": 30,
      "outputs": [
        {
          "output_type": "execute_result",
          "data": {
            "text/plain": [
              "0     -0.502445\n",
              "1      0.786845\n",
              "2     -0.488854\n",
              "3      0.420730\n",
              "4     -0.486337\n",
              "         ...   \n",
              "886   -0.386671\n",
              "887   -0.044381\n",
              "888   -0.176263\n",
              "889   -0.044381\n",
              "890   -0.492378\n",
              "Name: fare_standardized, Length: 891, dtype: float64"
            ],
            "text/html": [
              "<div>\n",
              "<style scoped>\n",
              "    .dataframe tbody tr th:only-of-type {\n",
              "        vertical-align: middle;\n",
              "    }\n",
              "\n",
              "    .dataframe tbody tr th {\n",
              "        vertical-align: top;\n",
              "    }\n",
              "\n",
              "    .dataframe thead th {\n",
              "        text-align: right;\n",
              "    }\n",
              "</style>\n",
              "<table border=\"1\" class=\"dataframe\">\n",
              "  <thead>\n",
              "    <tr style=\"text-align: right;\">\n",
              "      <th></th>\n",
              "      <th>fare_standardized</th>\n",
              "    </tr>\n",
              "  </thead>\n",
              "  <tbody>\n",
              "    <tr>\n",
              "      <th>0</th>\n",
              "      <td>-0.502445</td>\n",
              "    </tr>\n",
              "    <tr>\n",
              "      <th>1</th>\n",
              "      <td>0.786845</td>\n",
              "    </tr>\n",
              "    <tr>\n",
              "      <th>2</th>\n",
              "      <td>-0.488854</td>\n",
              "    </tr>\n",
              "    <tr>\n",
              "      <th>3</th>\n",
              "      <td>0.420730</td>\n",
              "    </tr>\n",
              "    <tr>\n",
              "      <th>4</th>\n",
              "      <td>-0.486337</td>\n",
              "    </tr>\n",
              "    <tr>\n",
              "      <th>...</th>\n",
              "      <td>...</td>\n",
              "    </tr>\n",
              "    <tr>\n",
              "      <th>886</th>\n",
              "      <td>-0.386671</td>\n",
              "    </tr>\n",
              "    <tr>\n",
              "      <th>887</th>\n",
              "      <td>-0.044381</td>\n",
              "    </tr>\n",
              "    <tr>\n",
              "      <th>888</th>\n",
              "      <td>-0.176263</td>\n",
              "    </tr>\n",
              "    <tr>\n",
              "      <th>889</th>\n",
              "      <td>-0.044381</td>\n",
              "    </tr>\n",
              "    <tr>\n",
              "      <th>890</th>\n",
              "      <td>-0.492378</td>\n",
              "    </tr>\n",
              "  </tbody>\n",
              "</table>\n",
              "<p>891 rows × 1 columns</p>\n",
              "</div><br><label><b>dtype:</b> float64</label>"
            ]
          },
          "metadata": {},
          "execution_count": 30
        }
      ]
    },
    {
      "cell_type": "code",
      "source": [],
      "metadata": {
        "id": "kHs3jo7filxp"
      },
      "execution_count": null,
      "outputs": []
    }
  ]
}
